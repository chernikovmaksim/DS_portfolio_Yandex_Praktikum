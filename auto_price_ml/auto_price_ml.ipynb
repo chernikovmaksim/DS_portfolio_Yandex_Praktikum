{
 "cells": [
  {
   "cell_type": "markdown",
   "metadata": {},
   "source": [
    "## План работы"
   ]
  },
  {
   "cell_type": "markdown",
   "metadata": {},
   "source": [
    "[1. Подготовка данных](#1.)<br>\n",
    "[1.1. Откроем данные и изучим их](#1.1.)<br>\n",
    "[1.2. Проведем предобработку данных](#1.2.)<br>\n",
    "[2. Обучение моделей](#2.)<br>\n",
    "[3. Анализ моделей](#3.)<br>"
   ]
  },
  {
   "cell_type": "markdown",
   "metadata": {},
   "source": [
    "# 1. Подготовка данных <a id = \"1.\"> </a>"
   ]
  },
  {
   "cell_type": "markdown",
   "metadata": {},
   "source": [
    "## 1.1. Откроем данные и изучим их <a id = \"1.1.\"> </a>"
   ]
  },
  {
   "cell_type": "code",
   "execution_count": 1,
   "metadata": {},
   "outputs": [],
   "source": [
    "import numpy as np\n",
    "import pandas as pd\n",
    "import matplotlib.pyplot as plt\n",
    "import seaborn as sns\n",
    "import warnings\n",
    "import lightgbm as lgb\n",
    "from catboost import Pool, CatBoostRegressor\n",
    "from sklearn.metrics import mean_squared_error\n",
    "from sklearn.preprocessing import OrdinalEncoder\n",
    "from sklearn.preprocessing import MinMaxScaler\n",
    "from sklearn.model_selection import train_test_split\n",
    "from sklearn.model_selection import GridSearchCV\n",
    "\n",
    "warnings.filterwarnings('ignore') \n",
    "pd.options.display.max_rows = 100\n",
    "pd.options.display.max_columns = 100\n",
    "%matplotlib inline\n",
    "\n",
    "autos = pd.read_csv(r'E:\\Документы прочие\\IT\\Яндекс практикум\\Project\\9 Численные методы\\autos.csv', index_col=[0])\n",
    "\n",
    "\n",
    "def data_info(data):\n",
    "    '''\n",
    "    Функция принимает в качестве аргументов датасет.\n",
    "    Функция выводит информацию о датасете и первые 10 строк датасета, а также количество дубликатов.\n",
    "    '''\n",
    "    data.info()\n",
    "    display(data.head(10))\n",
    "    print('Количество дубликатов в данных:', data.duplicated().sum())\n",
    "    \n",
    "def data_values(data, c):\n",
    "    '''\n",
    "    Функция принимает в качестве аргументов: датасет, колонку датасета.\n",
    "    Функция выводит информацию о количестве значений в колонке, а также о количестве пропусков.\n",
    "    '''\n",
    "    display(data[c].value_counts())\n",
    "    print('Количество пропусков в колонке:', data[c].isnull().sum())\n",
    "    \n",
    "def hist(data, c, t, b):\n",
    "    '''\n",
    "    Функция принимает в качестве аргументов: датасет, колонку датасета, название гистрограммы, количество корзин.\n",
    "    Функция выводит гистрограмму.\n",
    "    '''\n",
    "    plt.figure(figsize=(15, 10))\n",
    "    plt.title(t, fontsize=15)\n",
    "    sns.distplot(data[c], bins=b, kde=True)\n",
    "\n",
    "def box_plt(data, c, t):\n",
    "    '''\n",
    "    Функция принимает в качестве аргументов: датасет, колонку датасета, название диаграммы.\n",
    "    Функция выводит диаграмму ящик с усами.\n",
    "    '''\n",
    "    plt.figure(figsize=(15,10))\n",
    "    sns.boxplot(data = data[c])\n",
    "    plt.title(t, fontsize=15)\n",
    "    plt.grid(True)\n",
    "    plt.show()\n",
    "    \n",
    "def min_max(data, c):\n",
    "    '''\n",
    "    Функция принимает в качестве аргументов: датасет, колонку датасета.\n",
    "    Функция выводит минимальное и максимальное значение.\n",
    "    '''\n",
    "    print('Min:', data[c].min())\n",
    "    print('Max:', data[c].max())"
   ]
  },
  {
   "cell_type": "markdown",
   "metadata": {},
   "source": [
    "Мы будем использовать датасет autos, который содержит технические характеристики, комплектации и цены автомобилей."
   ]
  },
  {
   "cell_type": "code",
   "execution_count": 2,
   "metadata": {},
   "outputs": [
    {
     "name": "stdout",
     "output_type": "stream",
     "text": [
      "<class 'pandas.core.frame.DataFrame'>\n",
      "Int64Index: 354369 entries, 0 to 354368\n",
      "Data columns (total 16 columns):\n",
      " #   Column             Non-Null Count   Dtype \n",
      "---  ------             --------------   ----- \n",
      " 0   DateCrawled        354369 non-null  object\n",
      " 1   Price              354369 non-null  int64 \n",
      " 2   VehicleType        316879 non-null  object\n",
      " 3   RegistrationYear   354369 non-null  int64 \n",
      " 4   Gearbox            334536 non-null  object\n",
      " 5   Power              354369 non-null  int64 \n",
      " 6   Model              334664 non-null  object\n",
      " 7   Kilometer          354369 non-null  int64 \n",
      " 8   RegistrationMonth  354369 non-null  int64 \n",
      " 9   FuelType           321474 non-null  object\n",
      " 10  Brand              354369 non-null  object\n",
      " 11  NotRepaired        283215 non-null  object\n",
      " 12  DateCreated        354369 non-null  object\n",
      " 13  NumberOfPictures   354369 non-null  int64 \n",
      " 14  PostalCode         354369 non-null  int64 \n",
      " 15  LastSeen           354369 non-null  object\n",
      "dtypes: int64(7), object(9)\n",
      "memory usage: 46.0+ MB\n"
     ]
    },
    {
     "data": {
      "text/html": [
       "<div>\n",
       "<style scoped>\n",
       "    .dataframe tbody tr th:only-of-type {\n",
       "        vertical-align: middle;\n",
       "    }\n",
       "\n",
       "    .dataframe tbody tr th {\n",
       "        vertical-align: top;\n",
       "    }\n",
       "\n",
       "    .dataframe thead th {\n",
       "        text-align: right;\n",
       "    }\n",
       "</style>\n",
       "<table border=\"1\" class=\"dataframe\">\n",
       "  <thead>\n",
       "    <tr style=\"text-align: right;\">\n",
       "      <th></th>\n",
       "      <th>DateCrawled</th>\n",
       "      <th>Price</th>\n",
       "      <th>VehicleType</th>\n",
       "      <th>RegistrationYear</th>\n",
       "      <th>Gearbox</th>\n",
       "      <th>Power</th>\n",
       "      <th>Model</th>\n",
       "      <th>Kilometer</th>\n",
       "      <th>RegistrationMonth</th>\n",
       "      <th>FuelType</th>\n",
       "      <th>Brand</th>\n",
       "      <th>NotRepaired</th>\n",
       "      <th>DateCreated</th>\n",
       "      <th>NumberOfPictures</th>\n",
       "      <th>PostalCode</th>\n",
       "      <th>LastSeen</th>\n",
       "    </tr>\n",
       "  </thead>\n",
       "  <tbody>\n",
       "    <tr>\n",
       "      <th>0</th>\n",
       "      <td>2016-03-24 11:52:17</td>\n",
       "      <td>480</td>\n",
       "      <td>NaN</td>\n",
       "      <td>1993</td>\n",
       "      <td>manual</td>\n",
       "      <td>0</td>\n",
       "      <td>golf</td>\n",
       "      <td>150000</td>\n",
       "      <td>0</td>\n",
       "      <td>petrol</td>\n",
       "      <td>volkswagen</td>\n",
       "      <td>NaN</td>\n",
       "      <td>2016-03-24 00:00:00</td>\n",
       "      <td>0</td>\n",
       "      <td>70435</td>\n",
       "      <td>2016-04-07 03:16:57</td>\n",
       "    </tr>\n",
       "    <tr>\n",
       "      <th>1</th>\n",
       "      <td>2016-03-24 10:58:45</td>\n",
       "      <td>18300</td>\n",
       "      <td>coupe</td>\n",
       "      <td>2011</td>\n",
       "      <td>manual</td>\n",
       "      <td>190</td>\n",
       "      <td>NaN</td>\n",
       "      <td>125000</td>\n",
       "      <td>5</td>\n",
       "      <td>gasoline</td>\n",
       "      <td>audi</td>\n",
       "      <td>yes</td>\n",
       "      <td>2016-03-24 00:00:00</td>\n",
       "      <td>0</td>\n",
       "      <td>66954</td>\n",
       "      <td>2016-04-07 01:46:50</td>\n",
       "    </tr>\n",
       "    <tr>\n",
       "      <th>2</th>\n",
       "      <td>2016-03-14 12:52:21</td>\n",
       "      <td>9800</td>\n",
       "      <td>suv</td>\n",
       "      <td>2004</td>\n",
       "      <td>auto</td>\n",
       "      <td>163</td>\n",
       "      <td>grand</td>\n",
       "      <td>125000</td>\n",
       "      <td>8</td>\n",
       "      <td>gasoline</td>\n",
       "      <td>jeep</td>\n",
       "      <td>NaN</td>\n",
       "      <td>2016-03-14 00:00:00</td>\n",
       "      <td>0</td>\n",
       "      <td>90480</td>\n",
       "      <td>2016-04-05 12:47:46</td>\n",
       "    </tr>\n",
       "    <tr>\n",
       "      <th>3</th>\n",
       "      <td>2016-03-17 16:54:04</td>\n",
       "      <td>1500</td>\n",
       "      <td>small</td>\n",
       "      <td>2001</td>\n",
       "      <td>manual</td>\n",
       "      <td>75</td>\n",
       "      <td>golf</td>\n",
       "      <td>150000</td>\n",
       "      <td>6</td>\n",
       "      <td>petrol</td>\n",
       "      <td>volkswagen</td>\n",
       "      <td>no</td>\n",
       "      <td>2016-03-17 00:00:00</td>\n",
       "      <td>0</td>\n",
       "      <td>91074</td>\n",
       "      <td>2016-03-17 17:40:17</td>\n",
       "    </tr>\n",
       "    <tr>\n",
       "      <th>4</th>\n",
       "      <td>2016-03-31 17:25:20</td>\n",
       "      <td>3600</td>\n",
       "      <td>small</td>\n",
       "      <td>2008</td>\n",
       "      <td>manual</td>\n",
       "      <td>69</td>\n",
       "      <td>fabia</td>\n",
       "      <td>90000</td>\n",
       "      <td>7</td>\n",
       "      <td>gasoline</td>\n",
       "      <td>skoda</td>\n",
       "      <td>no</td>\n",
       "      <td>2016-03-31 00:00:00</td>\n",
       "      <td>0</td>\n",
       "      <td>60437</td>\n",
       "      <td>2016-04-06 10:17:21</td>\n",
       "    </tr>\n",
       "    <tr>\n",
       "      <th>5</th>\n",
       "      <td>2016-04-04 17:36:23</td>\n",
       "      <td>650</td>\n",
       "      <td>sedan</td>\n",
       "      <td>1995</td>\n",
       "      <td>manual</td>\n",
       "      <td>102</td>\n",
       "      <td>3er</td>\n",
       "      <td>150000</td>\n",
       "      <td>10</td>\n",
       "      <td>petrol</td>\n",
       "      <td>bmw</td>\n",
       "      <td>yes</td>\n",
       "      <td>2016-04-04 00:00:00</td>\n",
       "      <td>0</td>\n",
       "      <td>33775</td>\n",
       "      <td>2016-04-06 19:17:07</td>\n",
       "    </tr>\n",
       "    <tr>\n",
       "      <th>6</th>\n",
       "      <td>2016-04-01 20:48:51</td>\n",
       "      <td>2200</td>\n",
       "      <td>convertible</td>\n",
       "      <td>2004</td>\n",
       "      <td>manual</td>\n",
       "      <td>109</td>\n",
       "      <td>2_reihe</td>\n",
       "      <td>150000</td>\n",
       "      <td>8</td>\n",
       "      <td>petrol</td>\n",
       "      <td>peugeot</td>\n",
       "      <td>no</td>\n",
       "      <td>2016-04-01 00:00:00</td>\n",
       "      <td>0</td>\n",
       "      <td>67112</td>\n",
       "      <td>2016-04-05 18:18:39</td>\n",
       "    </tr>\n",
       "    <tr>\n",
       "      <th>7</th>\n",
       "      <td>2016-03-21 18:54:38</td>\n",
       "      <td>0</td>\n",
       "      <td>sedan</td>\n",
       "      <td>1980</td>\n",
       "      <td>manual</td>\n",
       "      <td>50</td>\n",
       "      <td>other</td>\n",
       "      <td>40000</td>\n",
       "      <td>7</td>\n",
       "      <td>petrol</td>\n",
       "      <td>volkswagen</td>\n",
       "      <td>no</td>\n",
       "      <td>2016-03-21 00:00:00</td>\n",
       "      <td>0</td>\n",
       "      <td>19348</td>\n",
       "      <td>2016-03-25 16:47:58</td>\n",
       "    </tr>\n",
       "    <tr>\n",
       "      <th>8</th>\n",
       "      <td>2016-04-04 23:42:13</td>\n",
       "      <td>14500</td>\n",
       "      <td>bus</td>\n",
       "      <td>2014</td>\n",
       "      <td>manual</td>\n",
       "      <td>125</td>\n",
       "      <td>c_max</td>\n",
       "      <td>30000</td>\n",
       "      <td>8</td>\n",
       "      <td>petrol</td>\n",
       "      <td>ford</td>\n",
       "      <td>NaN</td>\n",
       "      <td>2016-04-04 00:00:00</td>\n",
       "      <td>0</td>\n",
       "      <td>94505</td>\n",
       "      <td>2016-04-04 23:42:13</td>\n",
       "    </tr>\n",
       "    <tr>\n",
       "      <th>9</th>\n",
       "      <td>2016-03-17 10:53:50</td>\n",
       "      <td>999</td>\n",
       "      <td>small</td>\n",
       "      <td>1998</td>\n",
       "      <td>manual</td>\n",
       "      <td>101</td>\n",
       "      <td>golf</td>\n",
       "      <td>150000</td>\n",
       "      <td>0</td>\n",
       "      <td>NaN</td>\n",
       "      <td>volkswagen</td>\n",
       "      <td>NaN</td>\n",
       "      <td>2016-03-17 00:00:00</td>\n",
       "      <td>0</td>\n",
       "      <td>27472</td>\n",
       "      <td>2016-03-31 17:17:06</td>\n",
       "    </tr>\n",
       "  </tbody>\n",
       "</table>\n",
       "</div>"
      ],
      "text/plain": [
       "           DateCrawled  Price  VehicleType  RegistrationYear Gearbox  Power  \\\n",
       "0  2016-03-24 11:52:17    480          NaN              1993  manual      0   \n",
       "1  2016-03-24 10:58:45  18300        coupe              2011  manual    190   \n",
       "2  2016-03-14 12:52:21   9800          suv              2004    auto    163   \n",
       "3  2016-03-17 16:54:04   1500        small              2001  manual     75   \n",
       "4  2016-03-31 17:25:20   3600        small              2008  manual     69   \n",
       "5  2016-04-04 17:36:23    650        sedan              1995  manual    102   \n",
       "6  2016-04-01 20:48:51   2200  convertible              2004  manual    109   \n",
       "7  2016-03-21 18:54:38      0        sedan              1980  manual     50   \n",
       "8  2016-04-04 23:42:13  14500          bus              2014  manual    125   \n",
       "9  2016-03-17 10:53:50    999        small              1998  manual    101   \n",
       "\n",
       "     Model  Kilometer  RegistrationMonth  FuelType       Brand NotRepaired  \\\n",
       "0     golf     150000                  0    petrol  volkswagen         NaN   \n",
       "1      NaN     125000                  5  gasoline        audi         yes   \n",
       "2    grand     125000                  8  gasoline        jeep         NaN   \n",
       "3     golf     150000                  6    petrol  volkswagen          no   \n",
       "4    fabia      90000                  7  gasoline       skoda          no   \n",
       "5      3er     150000                 10    petrol         bmw         yes   \n",
       "6  2_reihe     150000                  8    petrol     peugeot          no   \n",
       "7    other      40000                  7    petrol  volkswagen          no   \n",
       "8    c_max      30000                  8    petrol        ford         NaN   \n",
       "9     golf     150000                  0       NaN  volkswagen         NaN   \n",
       "\n",
       "           DateCreated  NumberOfPictures  PostalCode             LastSeen  \n",
       "0  2016-03-24 00:00:00                 0       70435  2016-04-07 03:16:57  \n",
       "1  2016-03-24 00:00:00                 0       66954  2016-04-07 01:46:50  \n",
       "2  2016-03-14 00:00:00                 0       90480  2016-04-05 12:47:46  \n",
       "3  2016-03-17 00:00:00                 0       91074  2016-03-17 17:40:17  \n",
       "4  2016-03-31 00:00:00                 0       60437  2016-04-06 10:17:21  \n",
       "5  2016-04-04 00:00:00                 0       33775  2016-04-06 19:17:07  \n",
       "6  2016-04-01 00:00:00                 0       67112  2016-04-05 18:18:39  \n",
       "7  2016-03-21 00:00:00                 0       19348  2016-03-25 16:47:58  \n",
       "8  2016-04-04 00:00:00                 0       94505  2016-04-04 23:42:13  \n",
       "9  2016-03-17 00:00:00                 0       27472  2016-03-31 17:17:06  "
      ]
     },
     "metadata": {},
     "output_type": "display_data"
    },
    {
     "name": "stdout",
     "output_type": "stream",
     "text": [
      "Количество дубликатов в данных: 4\n"
     ]
    }
   ],
   "source": [
    "data_info(autos)"
   ]
  },
  {
   "cell_type": "markdown",
   "metadata": {},
   "source": [
    "Датасет autos размером в 354369 строк содержит 16 колонок и содержит данные 2-х типов: int64, object. В датасете присутствует 4 дубликата. Дубликаты могут присутствовать из-за ошибки при экспорте данных."
   ]
  },
  {
   "cell_type": "code",
   "execution_count": 3,
   "metadata": {},
   "outputs": [
    {
     "data": {
      "text/plain": [
       "DateCrawled              0\n",
       "Price                    0\n",
       "VehicleType          37490\n",
       "RegistrationYear         0\n",
       "Gearbox              19833\n",
       "Power                    0\n",
       "Model                19705\n",
       "Kilometer                0\n",
       "RegistrationMonth        0\n",
       "FuelType             32895\n",
       "Brand                    0\n",
       "NotRepaired          71154\n",
       "DateCreated              0\n",
       "NumberOfPictures         0\n",
       "PostalCode               0\n",
       "LastSeen                 0\n",
       "dtype: int64"
      ]
     },
     "metadata": {},
     "output_type": "display_data"
    }
   ],
   "source": [
    "display(autos.isnull().sum())"
   ]
  },
  {
   "cell_type": "markdown",
   "metadata": {},
   "source": [
    "Также в датасете присутствуют пропуски в 5 колонках: VehicleType, Gearbox, Model, FuelType, NotRepaired. Вероятно пропуски связаны с ошибкой при сборе данных, а также с тем, что перед продажей заполнялись не все признаки автомобилей."
   ]
  },
  {
   "cell_type": "markdown",
   "metadata": {},
   "source": [
    "### Описание данных в датасете:\n",
    "\n",
    "#### Признаки\n",
    "- DateCrawled — дата скачивания анкеты из базы\n",
    "- VehicleType — тип автомобильного кузова\n",
    "- RegistrationYear — год регистрации автомобиля\n",
    "- Gearbox — тип коробки передач\n",
    "- Power — мощность (л. с.)\n",
    "- Model — модель автомобиля\n",
    "- Kilometer — пробег (км)\n",
    "- RegistrationMonth — месяц регистрации автомобиля\n",
    "- FuelType — тип топлива\n",
    "- Brand — марка автомобиля\n",
    "- NotRepaired — была машина в ремонте или нет\n",
    "- DateCreated — дата создания анкеты\n",
    "- NumberOfPictures — количество фотографий автомобиля\n",
    "- PostalCode — почтовый индекс владельца анкеты (пользователя)\n",
    "- LastSeen — дата последней активности пользователя\n",
    "\n",
    "\n",
    "#### Целевой признак\n",
    "- Price — цена (евро)"
   ]
  },
  {
   "cell_type": "markdown",
   "metadata": {},
   "source": [
    "### Вывод"
   ]
  },
  {
   "cell_type": "markdown",
   "metadata": {},
   "source": [
    "Была изучена общая информация о полученных данных. В данных присутствуют пропуски и дубликаты, который необходимо будет обработать перед обучением модели."
   ]
  },
  {
   "cell_type": "markdown",
   "metadata": {},
   "source": [
    "### 1.2. Проведем предобработку данных <a id = \"1.2.\"> </a>"
   ]
  },
  {
   "cell_type": "markdown",
   "metadata": {},
   "source": [
    "Очистим дынные от 4 дубликатов, найденных ранее."
   ]
  },
  {
   "cell_type": "code",
   "execution_count": 4,
   "metadata": {},
   "outputs": [],
   "source": [
    "autos = autos.drop_duplicates().reset_index(drop=True)"
   ]
  },
  {
   "cell_type": "markdown",
   "metadata": {},
   "source": [
    "#### Очистим дынные от избыточных признаков"
   ]
  },
  {
   "cell_type": "markdown",
   "metadata": {},
   "source": [
    "Проанализируем значения дат в таблице."
   ]
  },
  {
   "cell_type": "code",
   "execution_count": 5,
   "metadata": {},
   "outputs": [
    {
     "name": "stdout",
     "output_type": "stream",
     "text": [
      "Min: 2016-03-05 14:06:22\n",
      "Max: 2016-04-07 14:36:58\n"
     ]
    }
   ],
   "source": [
    "autos['DateCrawled']= pd.to_datetime(autos['DateCrawled'], format='%Y-%m-%d %H:%M:%S')\n",
    "min_max(autos, 'DateCrawled')"
   ]
  },
  {
   "cell_type": "code",
   "execution_count": 6,
   "metadata": {},
   "outputs": [
    {
     "name": "stdout",
     "output_type": "stream",
     "text": [
      "Min: 2014-03-10 00:00:00\n",
      "Max: 2016-04-07 00:00:00\n"
     ]
    }
   ],
   "source": [
    "autos['DateCreated']= pd.to_datetime(autos['DateCreated'], format='%Y-%m-%d %H:%M:%S')\n",
    "min_max(autos, 'DateCreated')"
   ]
  },
  {
   "cell_type": "code",
   "execution_count": 7,
   "metadata": {},
   "outputs": [
    {
     "name": "stdout",
     "output_type": "stream",
     "text": [
      "Min: 2016-03-05 14:15:08\n",
      "Max: 2016-04-07 14:58:51\n"
     ]
    }
   ],
   "source": [
    "autos['LastSeen']= pd.to_datetime(autos['LastSeen'], format='%Y-%m-%d %H:%M:%S')\n",
    "min_max(autos, 'LastSeen')"
   ]
  },
  {
   "cell_type": "markdown",
   "metadata": {},
   "source": [
    "В таблице представлены данные за 2014-2016 год. Колонки DateCrawled, RegistrationMonth, DateCreated, PostalCode, LastSeen содержат избыточную информацию о почтовых кодах, месяцах регистрации, датах создания и скачивания анкет и последней активности пользователя. Оставим для обучения и тестирования только те признаки, которые по нашему мнению могут влиять на цену автомобиля. Остальные признаки отбросим, чтобы не исказить обучение моделей. Признак LastSeen нам интересен, так как он показывает последнюю активность пользователя. Можно сделать вывод о том, что пользователь после продажи зашел на сайт, чтобы снять объявление, для того, чтобы его больше не беспокоили покупатели. Так как информация колонки ограничена 2016 годом, можем в дальнейшем посчитать возраст авто вычтя из 2016 года RegistrationYear."
   ]
  },
  {
   "cell_type": "code",
   "execution_count": 8,
   "metadata": {},
   "outputs": [],
   "source": [
    "autos = autos.drop(['DateCrawled', 'RegistrationMonth', 'DateCreated', 'LastSeen', 'PostalCode'], axis = 1)"
   ]
  },
  {
   "cell_type": "markdown",
   "metadata": {},
   "source": [
    "#### Проанализируем значения оставшихся признаков подробнее"
   ]
  },
  {
   "cell_type": "markdown",
   "metadata": {},
   "source": [
    "При анализе значений в качестве ориентира будем использовать сайт по продаже автомобилей АВИТО."
   ]
  },
  {
   "cell_type": "markdown",
   "metadata": {},
   "source": [
    "#### 1. Price"
   ]
  },
  {
   "cell_type": "code",
   "execution_count": 9,
   "metadata": {},
   "outputs": [
    {
     "data": {
      "text/plain": [
       "0        10772\n",
       "500       5670\n",
       "1500      5394\n",
       "1000      4648\n",
       "1200      4594\n",
       "         ...  \n",
       "13440        1\n",
       "1414         1\n",
       "8069         1\n",
       "10370        1\n",
       "384          1\n",
       "Name: Price, Length: 3731, dtype: int64"
      ]
     },
     "metadata": {},
     "output_type": "display_data"
    },
    {
     "name": "stdout",
     "output_type": "stream",
     "text": [
      "Количество пропусков в колонке: 0\n"
     ]
    }
   ],
   "source": [
    "data_values(autos, 'Price')"
   ]
  },
  {
   "cell_type": "markdown",
   "metadata": {},
   "source": [
    "Колонка Price содержит данные о цене автомобиля. "
   ]
  },
  {
   "cell_type": "code",
   "execution_count": 10,
   "metadata": {},
   "outputs": [
    {
     "data": {
      "image/png": "[encoded data removed]",
      "text/plain": [
       "<Figure size 1080x720 with 1 Axes>"
      ]
     },
     "metadata": {
      "needs_background": "light"
     },
     "output_type": "display_data"
    }
   ],
   "source": [
    "hist(autos, 'Price', 'Распредление цен на авто', 100)"
   ]
  },
  {
   "cell_type": "code",
   "execution_count": 11,
   "metadata": {},
   "outputs": [
    {
     "data": {
      "image/png": "[encoded data removed]",
      "text/plain": [
       "<Figure size 1080x720 with 1 Axes>"
      ]
     },
     "metadata": {
      "needs_background": "light"
     },
     "output_type": "display_data"
    }
   ],
   "source": [
    "box_plt(autos, 'Price', 'Распредление цен на авто')"
   ]
  },
  {
   "cell_type": "code",
   "execution_count": 12,
   "metadata": {},
   "outputs": [
    {
     "data": {
      "text/html": [
       "<div>\n",
       "<style scoped>\n",
       "    .dataframe tbody tr th:only-of-type {\n",
       "        vertical-align: middle;\n",
       "    }\n",
       "\n",
       "    .dataframe tbody tr th {\n",
       "        vertical-align: top;\n",
       "    }\n",
       "\n",
       "    .dataframe thead th {\n",
       "        text-align: right;\n",
       "    }\n",
       "</style>\n",
       "<table border=\"1\" class=\"dataframe\">\n",
       "  <thead>\n",
       "    <tr style=\"text-align: right;\">\n",
       "      <th></th>\n",
       "      <th>Price</th>\n",
       "      <th>VehicleType</th>\n",
       "      <th>RegistrationYear</th>\n",
       "      <th>Gearbox</th>\n",
       "      <th>Power</th>\n",
       "      <th>Model</th>\n",
       "      <th>Kilometer</th>\n",
       "      <th>FuelType</th>\n",
       "      <th>Brand</th>\n",
       "      <th>NotRepaired</th>\n",
       "      <th>NumberOfPictures</th>\n",
       "    </tr>\n",
       "  </thead>\n",
       "  <tbody>\n",
       "    <tr>\n",
       "      <th>7</th>\n",
       "      <td>0</td>\n",
       "      <td>sedan</td>\n",
       "      <td>1980</td>\n",
       "      <td>manual</td>\n",
       "      <td>50</td>\n",
       "      <td>other</td>\n",
       "      <td>40000</td>\n",
       "      <td>petrol</td>\n",
       "      <td>volkswagen</td>\n",
       "      <td>no</td>\n",
       "      <td>0</td>\n",
       "    </tr>\n",
       "    <tr>\n",
       "      <th>32</th>\n",
       "      <td>245</td>\n",
       "      <td>sedan</td>\n",
       "      <td>1994</td>\n",
       "      <td>NaN</td>\n",
       "      <td>0</td>\n",
       "      <td>golf</td>\n",
       "      <td>150000</td>\n",
       "      <td>petrol</td>\n",
       "      <td>volkswagen</td>\n",
       "      <td>no</td>\n",
       "      <td>0</td>\n",
       "    </tr>\n",
       "    <tr>\n",
       "      <th>40</th>\n",
       "      <td>0</td>\n",
       "      <td>NaN</td>\n",
       "      <td>1990</td>\n",
       "      <td>NaN</td>\n",
       "      <td>0</td>\n",
       "      <td>corsa</td>\n",
       "      <td>150000</td>\n",
       "      <td>petrol</td>\n",
       "      <td>opel</td>\n",
       "      <td>NaN</td>\n",
       "      <td>0</td>\n",
       "    </tr>\n",
       "    <tr>\n",
       "      <th>59</th>\n",
       "      <td>1</td>\n",
       "      <td>suv</td>\n",
       "      <td>1994</td>\n",
       "      <td>manual</td>\n",
       "      <td>286</td>\n",
       "      <td>NaN</td>\n",
       "      <td>150000</td>\n",
       "      <td>NaN</td>\n",
       "      <td>sonstige_autos</td>\n",
       "      <td>NaN</td>\n",
       "      <td>0</td>\n",
       "    </tr>\n",
       "    <tr>\n",
       "      <th>60</th>\n",
       "      <td>200</td>\n",
       "      <td>coupe</td>\n",
       "      <td>1995</td>\n",
       "      <td>manual</td>\n",
       "      <td>102</td>\n",
       "      <td>3er</td>\n",
       "      <td>150000</td>\n",
       "      <td>petrol</td>\n",
       "      <td>bmw</td>\n",
       "      <td>NaN</td>\n",
       "      <td>0</td>\n",
       "    </tr>\n",
       "    <tr>\n",
       "      <th>...</th>\n",
       "      <td>...</td>\n",
       "      <td>...</td>\n",
       "      <td>...</td>\n",
       "      <td>...</td>\n",
       "      <td>...</td>\n",
       "      <td>...</td>\n",
       "      <td>...</td>\n",
       "      <td>...</td>\n",
       "      <td>...</td>\n",
       "      <td>...</td>\n",
       "      <td>...</td>\n",
       "    </tr>\n",
       "    <tr>\n",
       "      <th>354269</th>\n",
       "      <td>150</td>\n",
       "      <td>small</td>\n",
       "      <td>1993</td>\n",
       "      <td>manual</td>\n",
       "      <td>55</td>\n",
       "      <td>astra</td>\n",
       "      <td>150000</td>\n",
       "      <td>petrol</td>\n",
       "      <td>opel</td>\n",
       "      <td>yes</td>\n",
       "      <td>0</td>\n",
       "    </tr>\n",
       "    <tr>\n",
       "      <th>354273</th>\n",
       "      <td>0</td>\n",
       "      <td>small</td>\n",
       "      <td>1999</td>\n",
       "      <td>manual</td>\n",
       "      <td>37</td>\n",
       "      <td>arosa</td>\n",
       "      <td>150000</td>\n",
       "      <td>petrol</td>\n",
       "      <td>seat</td>\n",
       "      <td>yes</td>\n",
       "      <td>0</td>\n",
       "    </tr>\n",
       "    <tr>\n",
       "      <th>354305</th>\n",
       "      <td>99</td>\n",
       "      <td>small</td>\n",
       "      <td>1999</td>\n",
       "      <td>manual</td>\n",
       "      <td>60</td>\n",
       "      <td>arosa</td>\n",
       "      <td>150000</td>\n",
       "      <td>petrol</td>\n",
       "      <td>seat</td>\n",
       "      <td>yes</td>\n",
       "      <td>0</td>\n",
       "    </tr>\n",
       "    <tr>\n",
       "      <th>354334</th>\n",
       "      <td>180</td>\n",
       "      <td>NaN</td>\n",
       "      <td>1995</td>\n",
       "      <td>NaN</td>\n",
       "      <td>0</td>\n",
       "      <td>NaN</td>\n",
       "      <td>125000</td>\n",
       "      <td>petrol</td>\n",
       "      <td>opel</td>\n",
       "      <td>NaN</td>\n",
       "      <td>0</td>\n",
       "    </tr>\n",
       "    <tr>\n",
       "      <th>354360</th>\n",
       "      <td>0</td>\n",
       "      <td>NaN</td>\n",
       "      <td>2005</td>\n",
       "      <td>manual</td>\n",
       "      <td>0</td>\n",
       "      <td>colt</td>\n",
       "      <td>150000</td>\n",
       "      <td>petrol</td>\n",
       "      <td>mitsubishi</td>\n",
       "      <td>yes</td>\n",
       "      <td>0</td>\n",
       "    </tr>\n",
       "  </tbody>\n",
       "</table>\n",
       "<p>23163 rows × 11 columns</p>\n",
       "</div>"
      ],
      "text/plain": [
       "        Price VehicleType  RegistrationYear Gearbox  Power  Model  Kilometer  \\\n",
       "7           0       sedan              1980  manual     50  other      40000   \n",
       "32        245       sedan              1994     NaN      0   golf     150000   \n",
       "40          0         NaN              1990     NaN      0  corsa     150000   \n",
       "59          1         suv              1994  manual    286    NaN     150000   \n",
       "60        200       coupe              1995  manual    102    3er     150000   \n",
       "...       ...         ...               ...     ...    ...    ...        ...   \n",
       "354269    150       small              1993  manual     55  astra     150000   \n",
       "354273      0       small              1999  manual     37  arosa     150000   \n",
       "354305     99       small              1999  manual     60  arosa     150000   \n",
       "354334    180         NaN              1995     NaN      0    NaN     125000   \n",
       "354360      0         NaN              2005  manual      0   colt     150000   \n",
       "\n",
       "       FuelType           Brand NotRepaired  NumberOfPictures  \n",
       "7        petrol      volkswagen          no                 0  \n",
       "32       petrol      volkswagen          no                 0  \n",
       "40       petrol            opel         NaN                 0  \n",
       "59          NaN  sonstige_autos         NaN                 0  \n",
       "60       petrol             bmw         NaN                 0  \n",
       "...         ...             ...         ...               ...  \n",
       "354269   petrol            opel         yes                 0  \n",
       "354273   petrol            seat         yes                 0  \n",
       "354305   petrol            seat         yes                 0  \n",
       "354334   petrol            opel         NaN                 0  \n",
       "354360   petrol      mitsubishi         yes                 0  \n",
       "\n",
       "[23163 rows x 11 columns]"
      ]
     },
     "metadata": {},
     "output_type": "display_data"
    }
   ],
   "source": [
    "display(autos.query('Price < 300'))"
   ]
  },
  {
   "cell_type": "markdown",
   "metadata": {},
   "source": [
    "В колонке отсутствуют пропуски, но есть нулевые и аномально низкие значения. Это может быть связано с тем, что автомобили находились в сломанном состоянии и не подлежали восстановлению, либо продавец хотел торговаться и не выставлял цену, либо от автомобиля продавался например один кузов. В любом случае нам необходимо избавиться от аномально низких значений, в том числе нулевых, так в дальнейшем они внесут неясность при обучении нашей модели и она покажет слабую точность. Мы убудились в этом проанализировав данные сайта АВИТО, можно сделать вывод о том, что автомобили дешевле 300 евро - \"автохлам\", который к тому же в разбитом или не рабочем состоянии. Уберем из данных автомобили, которые дешевле 300 евро, в том числе и с нулевой стоимостью, так как их невозможно восстановить."
   ]
  },
  {
   "cell_type": "code",
   "execution_count": 13,
   "metadata": {},
   "outputs": [],
   "source": [
    "autos = autos.query('Price >= 300').reset_index(drop=True)"
   ]
  },
  {
   "cell_type": "markdown",
   "metadata": {},
   "source": [
    "#### 2. VehicleType"
   ]
  },
  {
   "cell_type": "code",
   "execution_count": 14,
   "metadata": {},
   "outputs": [
    {
     "data": {
      "text/plain": [
       "sedan          87687\n",
       "small          73249\n",
       "wagon          62528\n",
       "bus            28125\n",
       "convertible    19727\n",
       "coupe          15279\n",
       "suv            11743\n",
       "other           2929\n",
       "Name: VehicleType, dtype: int64"
      ]
     },
     "metadata": {},
     "output_type": "display_data"
    },
    {
     "name": "stdout",
     "output_type": "stream",
     "text": [
      "Количество пропусков в колонке: 29935\n"
     ]
    }
   ],
   "source": [
    "data_values(autos, 'VehicleType')"
   ]
  },
  {
   "cell_type": "markdown",
   "metadata": {},
   "source": [
    "Колонка VehicleType содержит данные о типе автомобильного кузова. В колонке содержатся пропуски. Пропуски вероятно связаны с тем, что продавцы не указывали тип кузова перед продажей или данные были утеряны при экспорте. Пропуски можно заполнить наиболее часто встречающимися значениями по марке и моделе автомобиля, так как тип кузова конкретной модели редко меняется через поколония. Все, что не смогли заполнить отнесем к типу unknown."
   ]
  },
  {
   "cell_type": "code",
   "execution_count": 15,
   "metadata": {},
   "outputs": [],
   "source": [
    "autos['VehicleType'] = (\n",
    "    autos.groupby(['Brand', 'Model'])['VehicleType']\n",
    "    .apply(lambda x: x.fillna(x.mode()[0])))\n",
    "autos['VehicleType'] = autos['VehicleType'].fillna('unknown')"
   ]
  },
  {
   "cell_type": "markdown",
   "metadata": {},
   "source": [
    "#### 3. RegistrationYear and Age"
   ]
  },
  {
   "cell_type": "code",
   "execution_count": 16,
   "metadata": {},
   "outputs": [
    {
     "data": {
      "text/plain": [
       "2000    21357\n",
       "2005    21222\n",
       "1999    20978\n",
       "2006    19634\n",
       "2003    19406\n",
       "        ...  \n",
       "1931        1\n",
       "1927        1\n",
       "1925        1\n",
       "3200        1\n",
       "4100        1\n",
       "Name: RegistrationYear, Length: 134, dtype: int64"
      ]
     },
     "metadata": {},
     "output_type": "display_data"
    },
    {
     "name": "stdout",
     "output_type": "stream",
     "text": [
      "Количество пропусков в колонке: 0\n"
     ]
    }
   ],
   "source": [
    "data_values(autos, 'RegistrationYear')"
   ]
  },
  {
   "cell_type": "markdown",
   "metadata": {},
   "source": [
    "Колонка RegistrationYear содержит данные о годе регистрации автомобиля. Колонка не содержит пропуски, но неоторые даты регистрации не похожи на возможные. Предполагаем, что это связано с ошибкой экспорта данных. Год регистрации автомобиля не может быть позже, чем год последней активности пользователя, поэтому ограничим значения от 1960 (возраст самых старых автомобилей на АВИТО) до 2016 (год последней активности пользователей). "
   ]
  },
  {
   "cell_type": "code",
   "execution_count": 17,
   "metadata": {},
   "outputs": [],
   "source": [
    "autos = autos.query('(RegistrationYear >= 1960) & (RegistrationYear <= 2016)').reset_index(drop=True)"
   ]
  },
  {
   "cell_type": "markdown",
   "metadata": {},
   "source": [
    "Создадим новый признак AGE, который будет содержать информацию о возрасте автомобиля на момент продажи."
   ]
  },
  {
   "cell_type": "code",
   "execution_count": 18,
   "metadata": {},
   "outputs": [],
   "source": [
    "autos['Age'] = 2016 - autos['RegistrationYear']"
   ]
  },
  {
   "cell_type": "code",
   "execution_count": 19,
   "metadata": {},
   "outputs": [
    {
     "data": {
      "image/png": "[encoded data removed]",
      "text/plain": [
       "<Figure size 1080x720 with 1 Axes>"
      ]
     },
     "metadata": {
      "needs_background": "light"
     },
     "output_type": "display_data"
    }
   ],
   "source": [
    "hist(autos, 'Age', 'Распредление возраста авто', 50)"
   ]
  },
  {
   "cell_type": "code",
   "execution_count": 20,
   "metadata": {},
   "outputs": [
    {
     "data": {
      "image/png": "[encoded data removed]",
      "text/plain": [
       "<Figure size 1080x720 with 1 Axes>"
      ]
     },
     "metadata": {
      "needs_background": "light"
     },
     "output_type": "display_data"
    }
   ],
   "source": [
    "box_plt(autos, 'Age', 'Распредление возраста авто')"
   ]
  },
  {
   "cell_type": "markdown",
   "metadata": {},
   "source": [
    "Распределение имеет вид нормального распределения, смещенного влево. Чаще ввсего продаются автомобили возрастом в 10 лет. Содержаться выбросы - автомобили, которые были старше 30 лет на момент продажи. Такие автомобили либо также являются \"автохламом\", либо прошли реставрацию и представляют особую ценность, которую нельзя предсказать. Очистим машины старше 30 лет. Далее колонка RegistrationYear нам не понадобится, удалим признак."
   ]
  },
  {
   "cell_type": "code",
   "execution_count": 21,
   "metadata": {},
   "outputs": [],
   "source": [
    "autos = autos.query('Age < 30').reset_index(drop=True)\n",
    "autos = autos.drop(['RegistrationYear'], axis = 1)"
   ]
  },
  {
   "cell_type": "markdown",
   "metadata": {},
   "source": [
    "#### 4. Gearbox"
   ]
  },
  {
   "cell_type": "code",
   "execution_count": 22,
   "metadata": {},
   "outputs": [
    {
     "data": {
      "text/plain": [
       "manual    238435\n",
       "auto       61118\n",
       "Name: Gearbox, dtype: int64"
      ]
     },
     "metadata": {},
     "output_type": "display_data"
    },
    {
     "name": "stdout",
     "output_type": "stream",
     "text": [
      "Количество пропусков в колонке: 12294\n"
     ]
    }
   ],
   "source": [
    "data_values(autos, 'Gearbox')"
   ]
  },
  {
   "cell_type": "markdown",
   "metadata": {},
   "source": [
    "Колонка Gearbox содержит данные о типе коробки передач. Это категориальный признак, который необходимо будет закодировать перед обучением модели. Колонка содержит пропуски. Восстановить их не получится, так как каждая модель автомобиля может иметь как комплектации с ручной коробкой, так и с автоматической. Те коробки передач, которые не удалось установить отнесем к типу unknown."
   ]
  },
  {
   "cell_type": "code",
   "execution_count": 23,
   "metadata": {},
   "outputs": [],
   "source": [
    "autos['Gearbox'] = autos['Gearbox'].fillna('unknown')"
   ]
  },
  {
   "cell_type": "markdown",
   "metadata": {},
   "source": [
    "#### 5. Power"
   ]
  },
  {
   "cell_type": "code",
   "execution_count": 24,
   "metadata": {},
   "outputs": [
    {
     "data": {
      "text/plain": [
       "0       27243\n",
       "75      20851\n",
       "150     13560\n",
       "60      13274\n",
       "140     12252\n",
       "        ...  \n",
       "6012        1\n",
       "1151        1\n",
       "3454        1\n",
       "640         1\n",
       "6512        1\n",
       "Name: Power, Length: 664, dtype: int64"
      ]
     },
     "metadata": {},
     "output_type": "display_data"
    },
    {
     "name": "stdout",
     "output_type": "stream",
     "text": [
      "Количество пропусков в колонке: 0\n"
     ]
    }
   ],
   "source": [
    "data_values(autos, 'Power')"
   ]
  },
  {
   "cell_type": "markdown",
   "metadata": {},
   "source": [
    "Колонка Power содержит данные о мощности (л.с.) автомобиля. Колонка не содержит пропуски, но содержит выбросы с очень большой и очень маленькой (нулевой) мощность автомобиля. Причиной выбросов может быть ошибка, возникшая при эспорте данных или ошибка пользователя, который указал очень маленькое или очень большое значение. Нулевые мощности могут быть из-за того, что продавец не вносил этих данных перед публикацией объявления. Проанализируем распределения значений."
   ]
  },
  {
   "cell_type": "code",
   "execution_count": 25,
   "metadata": {},
   "outputs": [
    {
     "data": {
      "image/png": "[encoded data removed]",
      "text/plain": [
       "<Figure size 1080x720 with 1 Axes>"
      ]
     },
     "metadata": {
      "needs_background": "light"
     },
     "output_type": "display_data"
    }
   ],
   "source": [
    "hist(autos, 'Power', 'Распредление мощности (л.с.)', 100)"
   ]
  },
  {
   "cell_type": "markdown",
   "metadata": {},
   "source": [
    "Преобразуем нулевые значения в медианные значения по марке и моделе."
   ]
  },
  {
   "cell_type": "code",
   "execution_count": 26,
   "metadata": {},
   "outputs": [],
   "source": [
    "autos['Power'] = autos['Power'].replace(0, np.nan)\n",
    "autos['Power'] = autos['Power'].fillna(autos.groupby(['Brand', 'Model'])['Power'].transform('median'))"
   ]
  },
  {
   "cell_type": "markdown",
   "metadata": {},
   "source": [
    "Уберем автомобили с мощностью большей 605 л.с. (самый мощный автомобиль на АВИТО) и меньшей 23 л.с. (самый маломощный автомобиль на АВИТО)."
   ]
  },
  {
   "cell_type": "code",
   "execution_count": 27,
   "metadata": {},
   "outputs": [],
   "source": [
    "autos = autos.query('(Power >= 23)&(Power <= 605) ')"
   ]
  },
  {
   "cell_type": "code",
   "execution_count": 28,
   "metadata": {},
   "outputs": [
    {
     "data": {
      "image/png": "[encoded data removed]",
      "text/plain": [
       "<Figure size 1080x720 with 1 Axes>"
      ]
     },
     "metadata": {
      "needs_background": "light"
     },
     "output_type": "display_data"
    }
   ],
   "source": [
    "hist(autos, 'Power', 'Распредление мощности (л.с.)', 100)"
   ]
  },
  {
   "cell_type": "markdown",
   "metadata": {},
   "source": [
    "#### 6. Model"
   ]
  },
  {
   "cell_type": "code",
   "execution_count": 29,
   "metadata": {},
   "outputs": [
    {
     "data": {
      "text/plain": [
       "golf                  25470\n",
       "other                 19970\n",
       "3er                   18226\n",
       "polo                  10967\n",
       "corsa                 10354\n",
       "                      ...  \n",
       "i3                        7\n",
       "kalina                    6\n",
       "elefantino                4\n",
       "rangerover                3\n",
       "range_rover_evoque        2\n",
       "Name: Model, Length: 247, dtype: int64"
      ]
     },
     "metadata": {},
     "output_type": "display_data"
    },
    {
     "name": "stdout",
     "output_type": "stream",
     "text": [
      "Количество пропусков в колонке: 9667\n"
     ]
    }
   ],
   "source": [
    "data_values(autos, 'Model')"
   ]
  },
  {
   "cell_type": "markdown",
   "metadata": {},
   "source": [
    "Колонка Model содержит данные о моделе автомобиля. Колонка содержит пропуски. Это категориальный признак, который необходимо будет закодировать перед обучением модели.  Те модели, которые не удалось установить отнесем к типу unknown."
   ]
  },
  {
   "cell_type": "code",
   "execution_count": 30,
   "metadata": {},
   "outputs": [],
   "source": [
    "autos['Model'] = autos['Model'].fillna('unknown')"
   ]
  },
  {
   "cell_type": "markdown",
   "metadata": {},
   "source": [
    "#### 7. Kilometer"
   ]
  },
  {
   "cell_type": "code",
   "execution_count": 31,
   "metadata": {},
   "outputs": [
    {
     "data": {
      "text/plain": [
       "150000    206662\n",
       "125000     32860\n",
       "100000     12924\n",
       "90000      10497\n",
       "80000       9116\n",
       "70000       7856\n",
       "60000       6864\n",
       "50000       5655\n",
       "40000       4504\n",
       "30000       3895\n",
       "20000       3251\n",
       "5000        3102\n",
       "10000        865\n",
       "Name: Kilometer, dtype: int64"
      ]
     },
     "metadata": {},
     "output_type": "display_data"
    },
    {
     "name": "stdout",
     "output_type": "stream",
     "text": [
      "Количество пропусков в колонке: 0\n"
     ]
    }
   ],
   "source": [
    "data_values(autos, 'Kilometer')"
   ]
  },
  {
   "cell_type": "markdown",
   "metadata": {},
   "source": [
    "Колонка Kilometer содержит данные о пробеге автомобиля. Колонка не содержит пропусков."
   ]
  },
  {
   "cell_type": "code",
   "execution_count": 32,
   "metadata": {},
   "outputs": [
    {
     "data": {
      "image/png": "[encoded data removed]",
      "text/plain": [
       "<Figure size 1080x720 with 1 Axes>"
      ]
     },
     "metadata": {
      "needs_background": "light"
     },
     "output_type": "display_data"
    }
   ],
   "source": [
    "hist(autos, 'Kilometer', 'Распредление пробега (км.)', 20)"
   ]
  },
  {
   "cell_type": "code",
   "execution_count": 33,
   "metadata": {},
   "outputs": [
    {
     "data": {
      "image/png": "[encoded data removed]",
      "text/plain": [
       "<Figure size 1080x720 with 1 Axes>"
      ]
     },
     "metadata": {
      "needs_background": "light"
     },
     "output_type": "display_data"
    }
   ],
   "source": [
    "box_plt(autos, 'Kilometer', 'Распредление пробега (км.)')"
   ]
  },
  {
   "cell_type": "markdown",
   "metadata": {},
   "source": [
    "Наибольшее количество автомобилей было продано с пробегом 150 тыс. км. Оставим колонку без изменений."
   ]
  },
  {
   "cell_type": "markdown",
   "metadata": {},
   "source": [
    "#### 8. FuelType"
   ]
  },
  {
   "cell_type": "code",
   "execution_count": 34,
   "metadata": {},
   "outputs": [
    {
     "data": {
      "text/plain": [
       "petrol      190800\n",
       "gasoline     93239\n",
       "lpg           4891\n",
       "cng            515\n",
       "hybrid         218\n",
       "other           86\n",
       "electric        40\n",
       "Name: FuelType, dtype: int64"
      ]
     },
     "metadata": {},
     "output_type": "display_data"
    },
    {
     "name": "stdout",
     "output_type": "stream",
     "text": [
      "Количество пропусков в колонке: 18262\n"
     ]
    }
   ],
   "source": [
    "data_values(autos, 'FuelType')"
   ]
  },
  {
   "cell_type": "markdown",
   "metadata": {},
   "source": [
    "Колонка FuelType содержит данные о типе топлива. Это категориальный признак, который необходимо будет закодировать перед обучением модели. Колонка содержит пропуски, которые возникли либо в результате ошибки при экспорте данных, либо потому что продавец в объясвлении не указывал тип топлива. Пропуски можно заполнить наиболее часто встречающимися значениями по марке и моделе автомобиля. Все что не удалось заполнить отнесем к типу unknown."
   ]
  },
  {
   "cell_type": "code",
   "execution_count": 35,
   "metadata": {},
   "outputs": [],
   "source": [
    "autos['FuelType'] = (\n",
    "    autos.groupby(['Brand', 'Model'])['FuelType']\n",
    "    .apply(lambda x: x.fillna(x.mode()[0])))\n",
    "autos['FuelType'] = autos['FuelType'].fillna('unknown')"
   ]
  },
  {
   "cell_type": "markdown",
   "metadata": {},
   "source": [
    "#### 9. Brand"
   ]
  },
  {
   "cell_type": "code",
   "execution_count": 36,
   "metadata": {},
   "outputs": [
    {
     "data": {
      "text/plain": [
       "volkswagen        66442\n",
       "bmw               33577\n",
       "opel              33507\n",
       "mercedes_benz     28843\n",
       "audi              26877\n",
       "ford              21171\n",
       "renault           15029\n",
       "peugeot            9834\n",
       "fiat               7908\n",
       "seat               6060\n",
       "skoda              5193\n",
       "mazda              4978\n",
       "smart              4862\n",
       "citroen            4432\n",
       "nissan             4320\n",
       "toyota             4304\n",
       "hyundai            3295\n",
       "mini               3024\n",
       "volvo              2893\n",
       "mitsubishi         2625\n",
       "honda              2491\n",
       "kia                2246\n",
       "suzuki             2030\n",
       "alfa_romeo         1971\n",
       "chevrolet          1472\n",
       "chrysler           1249\n",
       "sonstige_autos     1154\n",
       "dacia               857\n",
       "subaru              654\n",
       "daihatsu            645\n",
       "jeep                588\n",
       "porsche             546\n",
       "land_rover          487\n",
       "saab                475\n",
       "jaguar              445\n",
       "daewoo              443\n",
       "rover               374\n",
       "lancia              372\n",
       "trabant             209\n",
       "lada                169\n",
       "Name: Brand, dtype: int64"
      ]
     },
     "metadata": {},
     "output_type": "display_data"
    },
    {
     "name": "stdout",
     "output_type": "stream",
     "text": [
      "Количество пропусков в колонке: 0\n"
     ]
    }
   ],
   "source": [
    "data_values(autos, 'Brand')"
   ]
  },
  {
   "cell_type": "markdown",
   "metadata": {},
   "source": [
    "Колонка Brand содержит данные о бренде автомобиля. Это категориальный признак, который необходимо будет закодировать перед обучением модели. Колонка не содержит пропусков."
   ]
  },
  {
   "cell_type": "markdown",
   "metadata": {},
   "source": [
    "#### 10. NotRepaired"
   ]
  },
  {
   "cell_type": "code",
   "execution_count": 37,
   "metadata": {},
   "outputs": [
    {
     "data": {
      "text/plain": [
       "no     229579\n",
       "yes     28211\n",
       "Name: NotRepaired, dtype: int64"
      ]
     },
     "metadata": {},
     "output_type": "display_data"
    },
    {
     "name": "stdout",
     "output_type": "stream",
     "text": [
      "Количество пропусков в колонке: 50261\n"
     ]
    }
   ],
   "source": [
    "data_values(autos, 'NotRepaired')"
   ]
  },
  {
   "cell_type": "markdown",
   "metadata": {},
   "source": [
    "Колонка NotRepaired содержит данные о том был ли автомобиль в ремонте. Это категориальный признак, который необходимо будет закодировать перед обучением модели. Колонка содержит пропуски, которые возникли либо в результате ошибки при экспорте данных, либо продавец решил не указывать данную информацию в объявлении. Был ли автомобиль в ремонте или нет - очень важная информация в рамках ценообразования.  Нет возможности восстановить пропуски из исходных данных. Заполним их значением unknown."
   ]
  },
  {
   "cell_type": "code",
   "execution_count": 38,
   "metadata": {},
   "outputs": [],
   "source": [
    "autos['NotRepaired'] = autos['NotRepaired'].fillna('unknown')"
   ]
  },
  {
   "cell_type": "markdown",
   "metadata": {},
   "source": [
    "#### 11. NumberOfPictures"
   ]
  },
  {
   "cell_type": "code",
   "execution_count": 39,
   "metadata": {},
   "outputs": [
    {
     "data": {
      "text/plain": [
       "0    308051\n",
       "Name: NumberOfPictures, dtype: int64"
      ]
     },
     "metadata": {},
     "output_type": "display_data"
    },
    {
     "name": "stdout",
     "output_type": "stream",
     "text": [
      "Количество пропусков в колонке: 0\n"
     ]
    }
   ],
   "source": [
    "data_values(autos, 'NumberOfPictures')"
   ]
  },
  {
   "cell_type": "markdown",
   "metadata": {},
   "source": [
    "Колонка VehicleType содержит данные о количестве фотографий автомобиля. У всех автомобилей отсутствуют фотографии. Эта колонка также не повлияет на модель, удалим ее из датасета."
   ]
  },
  {
   "cell_type": "code",
   "execution_count": 40,
   "metadata": {},
   "outputs": [],
   "source": [
    "autos = autos.drop(['NumberOfPictures'], axis = 1)"
   ]
  },
  {
   "cell_type": "markdown",
   "metadata": {},
   "source": [
    "#### Веделим из данных обучающую и тестовую выборку"
   ]
  },
  {
   "cell_type": "markdown",
   "metadata": {},
   "source": [
    "Для дальнейшего тестирования моделей мы выделим из данных тестовую выборку в размере 25% от всех данных."
   ]
  },
  {
   "cell_type": "code",
   "execution_count": 41,
   "metadata": {},
   "outputs": [],
   "source": [
    "autos_train, autos_test = train_test_split(autos, test_size = .25, random_state = 42)"
   ]
  },
  {
   "cell_type": "markdown",
   "metadata": {},
   "source": [
    "#### Закодируем категориальные признаки и масштабируем количественные"
   ]
  },
  {
   "cell_type": "markdown",
   "metadata": {},
   "source": [
    "Преобразованные данные содержат категориальные признаки VehicleType, Gearbox, Model, FuelType, Brand, NotRepaired, которые необходимо закодировать для дальнейшего обучения модели. Для этого используем технику кодирования OrdinalEncoder на данных у которых больше 3 категорий и One-Hot Encoding на данных у которых не болee 3-х категорий."
   ]
  },
  {
   "cell_type": "code",
   "execution_count": 42,
   "metadata": {},
   "outputs": [],
   "source": [
    "category_oe = ['VehicleType','Model', 'FuelType', 'Brand']\n",
    "category_ohe = ['Gearbox', 'NotRepaired']\n",
    "encoder = OrdinalEncoder()\n",
    "encoder.fit(autos[category_oe])\n",
    "# закодируем обучающую выборку\n",
    "autos_train[category_oe] = encoder.transform(autos_train[category_oe])\n",
    "autos_train = pd.get_dummies(autos_train, columns = category_ohe, drop_first = True)\n",
    "# закодируем тестовую выборку\n",
    "autos_test[category_oe] = encoder.transform(autos_test[category_oe])\n",
    "autos_test = pd.get_dummies(autos_test, columns = category_ohe, drop_first = True)"
   ]
  },
  {
   "cell_type": "markdown",
   "metadata": {},
   "source": [
    "В данных присутствуют колличественные признаки с разными разбросами значений. Для того, чтобы алгоритм не решил, что признаки с\n",
    "большими значениями и разбросом важнее, маcштабируем количественные признаки."
   ]
  },
  {
   "cell_type": "code",
   "execution_count": 43,
   "metadata": {},
   "outputs": [],
   "source": [
    "numeric = ['Kilometer','Age', 'Power']\n",
    "scaler = MinMaxScaler()\n",
    "scaler.fit(autos_train[numeric])\n",
    "# масштабируем обучающую выборку\n",
    "autos_train[numeric] = scaler.transform(autos_train[numeric])\n",
    "# масштабируем тестовую выборку\n",
    "autos_test[numeric] = scaler.transform(autos_test[numeric])"
   ]
  },
  {
   "cell_type": "markdown",
   "metadata": {},
   "source": [
    "### Вывод"
   ]
  },
  {
   "cell_type": "markdown",
   "metadata": {},
   "source": [
    "Была проведена предобработка данных. Нами были обработаны пропуски и нулевые значения, а также выбросы. Категориальный признаки были закодированы, а количественные масштабированы. Выборка была разделена на обучающую и тестовую."
   ]
  },
  {
   "cell_type": "markdown",
   "metadata": {},
   "source": [
    "# 2. Обучение моделей <a id = \"2.\"> </a>"
   ]
  },
  {
   "cell_type": "markdown",
   "metadata": {},
   "source": [
    "Для проведения обучения и тестирования моделей мы выделим у обучающей и тестовой выборки признаки и целевой признак."
   ]
  },
  {
   "cell_type": "code",
   "execution_count": 44,
   "metadata": {},
   "outputs": [],
   "source": [
    "# разобьем данные обучающей выборки\n",
    "features_autos_train = autos_train.drop(['Price'], axis = 1)\n",
    "target_autos_train = autos_train['Price']\n",
    "# разобьем данные тестовой выборки\n",
    "features_autos_test = autos_test.drop(['Price'], axis = 1)\n",
    "target_autos_test = autos_test['Price']"
   ]
  },
  {
   "cell_type": "markdown",
   "metadata": {},
   "source": [
    "Для обучения мы будем использовать 2 вида моделей: CatBoostRegressor и LGBMRegressor. Определим параметры моделей, которые показывают лучшую метрику RMSE."
   ]
  },
  {
   "cell_type": "markdown",
   "metadata": {},
   "source": [
    "### CatBoost"
   ]
  },
  {
   "cell_type": "code",
   "execution_count": 45,
   "metadata": {},
   "outputs": [],
   "source": [
    "def catboost_reg_gridsearchcv(features, target):\n",
    "    '''\n",
    "    Функция принимает в качестве аргументов: признаки и целевой признак для обучения.\n",
    "    Функция выдает словарь с лучшими гиперпараметрами для модели catboost regressor.\n",
    "    '''\n",
    "    model = CatBoostRegressor()\n",
    "    grid = {'n_estimators': [400],\n",
    "            'learning_rate': [0.03, 0.1, 0.15],\n",
    "            'depth': np.arange(4, 7),\n",
    "            'random_state': [42],\n",
    "            'boosting_type': ['Plain']}\n",
    "    grid_search_result = model.grid_search(grid, \n",
    "                                       X=features, \n",
    "                                       y=target,\n",
    "                                       cv=3)\n",
    "    print('Лучшие гиперпараметры', grid_search_result['params'])\n",
    "    print('Лучшее RMSE:', model.get_best_score()['learn']['RMSE'])\n",
    "    return grid_search_result['params'], model.get_best_score()['learn']['RMSE']"
   ]
  },
  {
   "cell_type": "markdown",
   "metadata": {},
   "source": [
    "Подберем лучшие гиперпараметры для модели CatBoostRegressor и проанализируем скорость расчета."
   ]
  },
  {
   "cell_type": "code",
   "execution_count": 46,
   "metadata": {},
   "outputs": [
    {
     "name": "stdout",
     "output_type": "stream",
     "text": [
      "0:\tloss: 1815.3746078\tbest: 1815.3746078 (0)\ttotal: 4.35s\tremaining: 34.8s\n",
      "1:\tloss: 1659.4396621\tbest: 1659.4396621 (1)\ttotal: 8.58s\tremaining: 30s\n",
      "2:\tloss: 1628.2066375\tbest: 1628.2066375 (2)\ttotal: 12.9s\tremaining: 25.7s\n",
      "3:\tloss: 1757.2662341\tbest: 1628.2066375 (2)\ttotal: 17.5s\tremaining: 21.9s\n",
      "4:\tloss: 1618.4298525\tbest: 1618.4298525 (4)\ttotal: 22.3s\tremaining: 17.8s\n",
      "5:\tloss: 1585.6698670\tbest: 1585.6698670 (5)\ttotal: 27s\tremaining: 13.5s\n",
      "6:\tloss: 1709.8961262\tbest: 1585.6698670 (5)\ttotal: 32.4s\tremaining: 9.25s\n",
      "7:\tloss: 1583.1234620\tbest: 1583.1234620 (7)\ttotal: 37.6s\tremaining: 4.71s\n",
      "8:\tloss: 1554.7981957\tbest: 1554.7981957 (8)\ttotal: 43s\tremaining: 0us\n",
      "Estimating final quality...\n",
      "Лучшие гиперпараметры {'depth': 6, 'random_seed': 42, 'iterations': 400, 'learning_rate': 0.15, 'boosting_type': 'Plain'}\n",
      "Лучшее RMSE: 1526.83631326186\n",
      "Wall time: 1min 25s\n"
     ]
    }
   ],
   "source": [
    "%%time\n",
    "best_param_catboost, rmse_cb_valid = catboost_reg_gridsearchcv(features_autos_train, target_autos_train)"
   ]
  },
  {
   "cell_type": "markdown",
   "metadata": {},
   "source": [
    "Гиперпараметры подобраны. Лучшее значение RMSE на тестовой выборке 1526.83, подбор проходит за 1 мин. 25 сек."
   ]
  },
  {
   "cell_type": "markdown",
   "metadata": {},
   "source": [
    "### LightGBM"
   ]
  },
  {
   "cell_type": "code",
   "execution_count": 47,
   "metadata": {},
   "outputs": [],
   "source": [
    "def gb_gridsearchcv(features, target):\n",
    "    '''\n",
    "    Функция принимает в качестве аргументов: признаки и целевой признак для обучения.\n",
    "    Функция выдает словарь с лучшими гиперпараметрами для модели LGBMRegressor.\n",
    "    '''\n",
    "    model = lgb.LGBMRegressor()\n",
    "    param_grid = {\n",
    "            'boosting_type': ['gbdt'],\n",
    "            'objective': ['regression'],\n",
    "            'metric': ['rmse'],\n",
    "            'n_estimators': [400],\n",
    "            'learning_rate': [0.03, 0.1, 0.15],\n",
    "            'max_depth': np.arange(4, 7),\n",
    "            'random_state': [42],\n",
    "    }\n",
    "    CV = GridSearchCV(estimator = model, param_grid = param_grid, cv= 3, scoring = 'neg_root_mean_squared_error')\n",
    "    CV.fit(features, target)\n",
    "    print('Лучшие гиперпараметры: ', CV.best_params_)\n",
    "    print('Лучшее RMSE: {:.2f}'.format(-CV.best_score_))\n",
    "    return CV.best_params_ , -CV.best_score_"
   ]
  },
  {
   "cell_type": "markdown",
   "metadata": {},
   "source": [
    "Подберем лучшие гиперпараметры для модели LGBMRegressor и проанализируем скорость расчета."
   ]
  },
  {
   "cell_type": "code",
   "execution_count": 48,
   "metadata": {},
   "outputs": [
    {
     "name": "stdout",
     "output_type": "stream",
     "text": [
      "Лучшие гиперпараметры:  {'boosting_type': 'gbdt', 'learning_rate': 0.15, 'max_depth': 6, 'metric': 'rmse', 'n_estimators': 400, 'objective': 'regression', 'random_state': 42}\n",
      "Лучшее RMSE: 1535.48\n",
      "Wall time: 42.1 s\n"
     ]
    }
   ],
   "source": [
    "%%time\n",
    "best_param_lgbmregressor, rmse_lgdm_valid = gb_gridsearchcv(features_autos_train, target_autos_train)"
   ]
  },
  {
   "cell_type": "markdown",
   "metadata": {},
   "source": [
    "Гиперпараметры подобраны. Лучшее значение RMSE на тестовой выборке 1535.48, подбор проходит за 42 сек."
   ]
  },
  {
   "cell_type": "markdown",
   "metadata": {},
   "source": [
    "### Вывод"
   ]
  },
  {
   "cell_type": "markdown",
   "metadata": {},
   "source": [
    "Мы провели кросс-валидацию обучающей выборки и подобрали для моделей CatBoostRegressor и LGBMRegressor лучшие гиперпараметры. Лучшее значение RMSE на обучающей выборке показала модель CatBoost. Однако LightGBM подобрала параметры быстрее в 2 раза."
   ]
  },
  {
   "cell_type": "markdown",
   "metadata": {},
   "source": [
    "# 3. Анализ моделей <a id = \"3.\"> </a>"
   ]
  },
  {
   "cell_type": "markdown",
   "metadata": {},
   "source": [
    "Проанализируем обученные модели на тестовой выборке."
   ]
  },
  {
   "cell_type": "markdown",
   "metadata": {},
   "source": [
    "### CatBoost"
   ]
  },
  {
   "cell_type": "code",
   "execution_count": 49,
   "metadata": {},
   "outputs": [
    {
     "name": "stdout",
     "output_type": "stream",
     "text": [
      "0:\tlearn: 4091.9224820\ttotal: 17.3ms\tremaining: 6.9s\n",
      "1:\tlearn: 3718.6468698\ttotal: 34.4ms\tremaining: 6.84s\n",
      "2:\tlearn: 3415.3245579\ttotal: 49.5ms\tremaining: 6.54s\n",
      "3:\tlearn: 3159.3986667\ttotal: 65ms\tremaining: 6.43s\n",
      "4:\tlearn: 2948.2997121\ttotal: 82.4ms\tremaining: 6.51s\n",
      "5:\tlearn: 2773.0288845\ttotal: 98.4ms\tremaining: 6.46s\n",
      "6:\tlearn: 2635.0604800\ttotal: 115ms\tremaining: 6.44s\n",
      "7:\tlearn: 2521.6426018\ttotal: 131ms\tremaining: 6.44s\n",
      "8:\tlearn: 2428.4833570\ttotal: 146ms\tremaining: 6.33s\n",
      "9:\tlearn: 2350.7671435\ttotal: 161ms\tremaining: 6.27s\n",
      "10:\tlearn: 2284.8131085\ttotal: 176ms\tremaining: 6.21s\n",
      "11:\tlearn: 2230.4394720\ttotal: 191ms\tremaining: 6.19s\n",
      "12:\tlearn: 2188.2972556\ttotal: 208ms\tremaining: 6.2s\n",
      "13:\tlearn: 2147.1875859\ttotal: 224ms\tremaining: 6.19s\n",
      "14:\tlearn: 2110.0010925\ttotal: 241ms\tremaining: 6.17s\n",
      "15:\tlearn: 2079.1393037\ttotal: 256ms\tremaining: 6.14s\n",
      "16:\tlearn: 2053.6745386\ttotal: 271ms\tremaining: 6.1s\n",
      "17:\tlearn: 2035.2637462\ttotal: 286ms\tremaining: 6.07s\n",
      "18:\tlearn: 2016.3759446\ttotal: 300ms\tremaining: 6.03s\n",
      "19:\tlearn: 1999.1407846\ttotal: 315ms\tremaining: 5.99s\n",
      "20:\tlearn: 1980.9523531\ttotal: 330ms\tremaining: 5.96s\n",
      "21:\tlearn: 1966.8662419\ttotal: 345ms\tremaining: 5.93s\n",
      "22:\tlearn: 1955.4166876\ttotal: 360ms\tremaining: 5.91s\n",
      "23:\tlearn: 1945.2059245\ttotal: 375ms\tremaining: 5.88s\n",
      "24:\tlearn: 1932.2666298\ttotal: 392ms\tremaining: 5.88s\n",
      "25:\tlearn: 1920.0893504\ttotal: 408ms\tremaining: 5.86s\n",
      "26:\tlearn: 1912.0763649\ttotal: 423ms\tremaining: 5.85s\n",
      "27:\tlearn: 1898.0540267\ttotal: 440ms\tremaining: 5.84s\n",
      "28:\tlearn: 1891.1656099\ttotal: 455ms\tremaining: 5.82s\n",
      "29:\tlearn: 1884.1533482\ttotal: 470ms\tremaining: 5.8s\n",
      "30:\tlearn: 1874.6966877\ttotal: 487ms\tremaining: 5.79s\n",
      "31:\tlearn: 1869.9816387\ttotal: 501ms\tremaining: 5.75s\n",
      "32:\tlearn: 1863.8162814\ttotal: 516ms\tremaining: 5.74s\n",
      "33:\tlearn: 1859.5424660\ttotal: 531ms\tremaining: 5.71s\n",
      "34:\tlearn: 1853.9732296\ttotal: 547ms\tremaining: 5.7s\n",
      "35:\tlearn: 1849.9792020\ttotal: 562ms\tremaining: 5.68s\n",
      "36:\tlearn: 1845.6142492\ttotal: 577ms\tremaining: 5.66s\n",
      "37:\tlearn: 1840.2215125\ttotal: 592ms\tremaining: 5.64s\n",
      "38:\tlearn: 1832.4555323\ttotal: 609ms\tremaining: 5.63s\n",
      "39:\tlearn: 1828.1557449\ttotal: 624ms\tremaining: 5.62s\n",
      "40:\tlearn: 1821.5377471\ttotal: 641ms\tremaining: 5.61s\n",
      "41:\tlearn: 1817.3006995\ttotal: 656ms\tremaining: 5.59s\n",
      "42:\tlearn: 1813.8218264\ttotal: 671ms\tremaining: 5.57s\n",
      "43:\tlearn: 1810.0613477\ttotal: 685ms\tremaining: 5.54s\n",
      "44:\tlearn: 1806.1809425\ttotal: 700ms\tremaining: 5.53s\n",
      "45:\tlearn: 1803.2257348\ttotal: 715ms\tremaining: 5.5s\n",
      "46:\tlearn: 1800.5076028\ttotal: 731ms\tremaining: 5.49s\n",
      "47:\tlearn: 1795.8724792\ttotal: 748ms\tremaining: 5.48s\n",
      "48:\tlearn: 1792.7953424\ttotal: 763ms\tremaining: 5.46s\n",
      "49:\tlearn: 1789.3006060\ttotal: 780ms\tremaining: 5.46s\n",
      "50:\tlearn: 1786.9616999\ttotal: 794ms\tremaining: 5.44s\n",
      "51:\tlearn: 1784.2587616\ttotal: 809ms\tremaining: 5.42s\n",
      "52:\tlearn: 1782.3113337\ttotal: 825ms\tremaining: 5.4s\n",
      "53:\tlearn: 1778.5303038\ttotal: 841ms\tremaining: 5.39s\n",
      "54:\tlearn: 1775.0642260\ttotal: 855ms\tremaining: 5.37s\n",
      "55:\tlearn: 1771.8672611\ttotal: 871ms\tremaining: 5.35s\n",
      "56:\tlearn: 1768.9880754\ttotal: 887ms\tremaining: 5.34s\n",
      "57:\tlearn: 1765.5627177\ttotal: 903ms\tremaining: 5.32s\n",
      "58:\tlearn: 1762.8772341\ttotal: 918ms\tremaining: 5.3s\n",
      "59:\tlearn: 1760.1306301\ttotal: 934ms\tremaining: 5.29s\n",
      "60:\tlearn: 1756.9970563\ttotal: 949ms\tremaining: 5.27s\n",
      "61:\tlearn: 1753.4448917\ttotal: 964ms\tremaining: 5.26s\n",
      "62:\tlearn: 1751.4790656\ttotal: 982ms\tremaining: 5.25s\n",
      "63:\tlearn: 1748.5984554\ttotal: 997ms\tremaining: 5.23s\n",
      "64:\tlearn: 1746.7789876\ttotal: 1.01s\tremaining: 5.22s\n",
      "65:\tlearn: 1744.5172208\ttotal: 1.03s\tremaining: 5.19s\n",
      "66:\tlearn: 1740.7510505\ttotal: 1.04s\tremaining: 5.18s\n",
      "67:\tlearn: 1738.6005902\ttotal: 1.06s\tremaining: 5.17s\n",
      "68:\tlearn: 1735.2647883\ttotal: 1.07s\tremaining: 5.15s\n",
      "69:\tlearn: 1733.7029866\ttotal: 1.09s\tremaining: 5.13s\n",
      "70:\tlearn: 1730.6799675\ttotal: 1.1s\tremaining: 5.12s\n",
      "71:\tlearn: 1728.5584902\ttotal: 1.12s\tremaining: 5.09s\n",
      "72:\tlearn: 1726.3576452\ttotal: 1.13s\tremaining: 5.08s\n",
      "73:\tlearn: 1724.9934180\ttotal: 1.15s\tremaining: 5.07s\n",
      "74:\tlearn: 1723.1042210\ttotal: 1.17s\tremaining: 5.05s\n",
      "75:\tlearn: 1720.7216345\ttotal: 1.18s\tremaining: 5.04s\n",
      "76:\tlearn: 1719.5795503\ttotal: 1.2s\tremaining: 5.02s\n",
      "77:\tlearn: 1718.1950186\ttotal: 1.21s\tremaining: 5.01s\n",
      "78:\tlearn: 1716.2737123\ttotal: 1.23s\tremaining: 4.99s\n",
      "79:\tlearn: 1713.6719639\ttotal: 1.24s\tremaining: 4.97s\n",
      "80:\tlearn: 1711.8651472\ttotal: 1.26s\tremaining: 4.96s\n",
      "81:\tlearn: 1710.7412328\ttotal: 1.27s\tremaining: 4.94s\n",
      "82:\tlearn: 1708.9159892\ttotal: 1.29s\tremaining: 4.92s\n",
      "83:\tlearn: 1706.6030993\ttotal: 1.3s\tremaining: 4.91s\n",
      "84:\tlearn: 1705.7425512\ttotal: 1.32s\tremaining: 4.89s\n",
      "85:\tlearn: 1704.4064167\ttotal: 1.33s\tremaining: 4.88s\n",
      "86:\tlearn: 1702.2146443\ttotal: 1.35s\tremaining: 4.86s\n",
      "87:\tlearn: 1701.4958389\ttotal: 1.37s\tremaining: 4.84s\n",
      "88:\tlearn: 1699.6945598\ttotal: 1.38s\tremaining: 4.83s\n",
      "89:\tlearn: 1698.7826639\ttotal: 1.4s\tremaining: 4.81s\n",
      "90:\tlearn: 1697.5152362\ttotal: 1.41s\tremaining: 4.79s\n",
      "91:\tlearn: 1695.8751879\ttotal: 1.43s\tremaining: 4.78s\n",
      "92:\tlearn: 1694.5298062\ttotal: 1.44s\tremaining: 4.76s\n",
      "93:\tlearn: 1692.5018135\ttotal: 1.46s\tremaining: 4.75s\n",
      "94:\tlearn: 1690.4763278\ttotal: 1.48s\tremaining: 4.74s\n",
      "95:\tlearn: 1689.0945019\ttotal: 1.49s\tremaining: 4.72s\n",
      "96:\tlearn: 1687.3092144\ttotal: 1.51s\tremaining: 4.71s\n",
      "97:\tlearn: 1685.9366010\ttotal: 1.52s\tremaining: 4.7s\n",
      "98:\tlearn: 1684.3879577\ttotal: 1.54s\tremaining: 4.69s\n",
      "99:\tlearn: 1683.4763629\ttotal: 1.56s\tremaining: 4.68s\n",
      "100:\tlearn: 1681.8940851\ttotal: 1.57s\tremaining: 4.66s\n",
      "101:\tlearn: 1680.9408825\ttotal: 1.59s\tremaining: 4.64s\n",
      "102:\tlearn: 1679.6073574\ttotal: 1.6s\tremaining: 4.63s\n",
      "103:\tlearn: 1678.7506366\ttotal: 1.62s\tremaining: 4.61s\n",
      "104:\tlearn: 1677.2188107\ttotal: 1.64s\tremaining: 4.59s\n",
      "105:\tlearn: 1675.9386541\ttotal: 1.65s\tremaining: 4.58s\n",
      "106:\tlearn: 1674.6757699\ttotal: 1.67s\tremaining: 4.57s\n",
      "107:\tlearn: 1673.9288530\ttotal: 1.68s\tremaining: 4.55s\n",
      "108:\tlearn: 1672.3546685\ttotal: 1.7s\tremaining: 4.53s\n",
      "109:\tlearn: 1671.2040537\ttotal: 1.71s\tremaining: 4.51s\n",
      "110:\tlearn: 1669.8199960\ttotal: 1.73s\tremaining: 4.5s\n",
      "111:\tlearn: 1669.0859194\ttotal: 1.74s\tremaining: 4.48s\n",
      "112:\tlearn: 1668.1715631\ttotal: 1.76s\tremaining: 4.46s\n",
      "113:\tlearn: 1667.1689061\ttotal: 1.77s\tremaining: 4.44s\n",
      "114:\tlearn: 1666.2851567\ttotal: 1.79s\tremaining: 4.43s\n",
      "115:\tlearn: 1665.0351045\ttotal: 1.8s\tremaining: 4.42s\n",
      "116:\tlearn: 1663.8024986\ttotal: 1.82s\tremaining: 4.4s\n",
      "117:\tlearn: 1662.4955950\ttotal: 1.83s\tremaining: 4.38s\n",
      "118:\tlearn: 1661.4396261\ttotal: 1.85s\tremaining: 4.37s\n",
      "119:\tlearn: 1660.5462849\ttotal: 1.86s\tremaining: 4.35s\n",
      "120:\tlearn: 1659.8994588\ttotal: 1.88s\tremaining: 4.34s\n",
      "121:\tlearn: 1658.5239428\ttotal: 1.9s\tremaining: 4.32s\n",
      "122:\tlearn: 1657.7262005\ttotal: 1.91s\tremaining: 4.31s\n",
      "123:\tlearn: 1656.5275138\ttotal: 1.93s\tremaining: 4.29s\n",
      "124:\tlearn: 1655.5178713\ttotal: 1.95s\tremaining: 4.28s\n",
      "125:\tlearn: 1654.5795850\ttotal: 1.96s\tremaining: 4.26s\n",
      "126:\tlearn: 1653.4055216\ttotal: 1.98s\tremaining: 4.25s\n",
      "127:\tlearn: 1652.7330472\ttotal: 1.99s\tremaining: 4.23s\n",
      "128:\tlearn: 1652.0141727\ttotal: 2.01s\tremaining: 4.21s\n",
      "129:\tlearn: 1650.6985477\ttotal: 2.02s\tremaining: 4.2s\n",
      "130:\tlearn: 1649.9295494\ttotal: 2.04s\tremaining: 4.19s\n",
      "131:\tlearn: 1649.2460462\ttotal: 2.05s\tremaining: 4.17s\n",
      "132:\tlearn: 1648.3293705\ttotal: 2.07s\tremaining: 4.15s\n",
      "133:\tlearn: 1647.7237709\ttotal: 2.08s\tremaining: 4.13s\n",
      "134:\tlearn: 1647.1606326\ttotal: 2.1s\tremaining: 4.12s\n",
      "135:\tlearn: 1646.3033687\ttotal: 2.11s\tremaining: 4.1s\n",
      "136:\tlearn: 1645.4184138\ttotal: 2.13s\tremaining: 4.08s\n",
      "137:\tlearn: 1644.4268149\ttotal: 2.14s\tremaining: 4.07s\n",
      "138:\tlearn: 1643.8992233\ttotal: 2.16s\tremaining: 4.05s\n",
      "139:\tlearn: 1642.2380065\ttotal: 2.17s\tremaining: 4.04s\n",
      "140:\tlearn: 1641.4268491\ttotal: 2.19s\tremaining: 4.02s\n",
      "141:\tlearn: 1640.6608466\ttotal: 2.2s\tremaining: 4s\n",
      "142:\tlearn: 1639.9589100\ttotal: 2.22s\tremaining: 3.99s\n",
      "143:\tlearn: 1638.8426780\ttotal: 2.24s\tremaining: 3.98s\n",
      "144:\tlearn: 1638.1213164\ttotal: 2.25s\tremaining: 3.96s\n",
      "145:\tlearn: 1637.4950048\ttotal: 2.27s\tremaining: 3.94s\n",
      "146:\tlearn: 1636.7878280\ttotal: 2.28s\tremaining: 3.93s\n",
      "147:\tlearn: 1636.1536122\ttotal: 2.3s\tremaining: 3.91s\n",
      "148:\tlearn: 1635.5982350\ttotal: 2.31s\tremaining: 3.89s\n",
      "149:\tlearn: 1634.8142612\ttotal: 2.33s\tremaining: 3.88s\n",
      "150:\tlearn: 1634.1049056\ttotal: 2.34s\tremaining: 3.87s\n",
      "151:\tlearn: 1633.3479774\ttotal: 2.36s\tremaining: 3.85s\n",
      "152:\tlearn: 1632.5215565\ttotal: 2.38s\tremaining: 3.83s\n",
      "153:\tlearn: 1631.3198034\ttotal: 2.39s\tremaining: 3.82s\n"
     ]
    },
    {
     "name": "stdout",
     "output_type": "stream",
     "text": [
      "154:\tlearn: 1630.1964319\ttotal: 2.41s\tremaining: 3.81s\n",
      "155:\tlearn: 1629.5793039\ttotal: 2.42s\tremaining: 3.79s\n",
      "156:\tlearn: 1629.0706366\ttotal: 2.44s\tremaining: 3.78s\n",
      "157:\tlearn: 1628.6346108\ttotal: 2.46s\tremaining: 3.76s\n",
      "158:\tlearn: 1628.1810846\ttotal: 2.47s\tremaining: 3.75s\n",
      "159:\tlearn: 1627.7582959\ttotal: 2.48s\tremaining: 3.73s\n",
      "160:\tlearn: 1626.9363026\ttotal: 2.5s\tremaining: 3.71s\n",
      "161:\tlearn: 1625.7937065\ttotal: 2.52s\tremaining: 3.7s\n",
      "162:\tlearn: 1625.0369492\ttotal: 2.53s\tremaining: 3.68s\n",
      "163:\tlearn: 1624.5511839\ttotal: 2.55s\tremaining: 3.67s\n",
      "164:\tlearn: 1623.9013684\ttotal: 2.56s\tremaining: 3.65s\n",
      "165:\tlearn: 1623.1787226\ttotal: 2.58s\tremaining: 3.64s\n",
      "166:\tlearn: 1622.7605749\ttotal: 2.6s\tremaining: 3.62s\n",
      "167:\tlearn: 1622.2932089\ttotal: 2.61s\tremaining: 3.61s\n",
      "168:\tlearn: 1621.8663242\ttotal: 2.63s\tremaining: 3.59s\n",
      "169:\tlearn: 1621.1982419\ttotal: 2.64s\tremaining: 3.57s\n",
      "170:\tlearn: 1620.1638440\ttotal: 2.66s\tremaining: 3.56s\n",
      "171:\tlearn: 1619.6110531\ttotal: 2.67s\tremaining: 3.54s\n",
      "172:\tlearn: 1619.0612908\ttotal: 2.69s\tremaining: 3.53s\n",
      "173:\tlearn: 1618.2952166\ttotal: 2.7s\tremaining: 3.51s\n",
      "174:\tlearn: 1617.5118031\ttotal: 2.72s\tremaining: 3.5s\n",
      "175:\tlearn: 1617.1152151\ttotal: 2.73s\tremaining: 3.48s\n",
      "176:\tlearn: 1616.4521992\ttotal: 2.75s\tremaining: 3.46s\n",
      "177:\tlearn: 1616.2448697\ttotal: 2.77s\tremaining: 3.45s\n",
      "178:\tlearn: 1615.8988787\ttotal: 2.78s\tremaining: 3.44s\n",
      "179:\tlearn: 1615.4648611\ttotal: 2.8s\tremaining: 3.42s\n",
      "180:\tlearn: 1614.9348318\ttotal: 2.81s\tremaining: 3.4s\n",
      "181:\tlearn: 1614.4704635\ttotal: 2.83s\tremaining: 3.38s\n",
      "182:\tlearn: 1613.9209266\ttotal: 2.84s\tremaining: 3.37s\n",
      "183:\tlearn: 1613.5485374\ttotal: 2.86s\tremaining: 3.35s\n",
      "184:\tlearn: 1613.1988352\ttotal: 2.87s\tremaining: 3.34s\n",
      "185:\tlearn: 1612.6579303\ttotal: 2.89s\tremaining: 3.32s\n",
      "186:\tlearn: 1612.0137389\ttotal: 2.9s\tremaining: 3.31s\n",
      "187:\tlearn: 1611.1853169\ttotal: 2.92s\tremaining: 3.29s\n",
      "188:\tlearn: 1610.4841826\ttotal: 2.94s\tremaining: 3.28s\n",
      "189:\tlearn: 1609.8683829\ttotal: 2.95s\tremaining: 3.26s\n",
      "190:\tlearn: 1609.2038413\ttotal: 2.97s\tremaining: 3.25s\n",
      "191:\tlearn: 1608.5212945\ttotal: 2.98s\tremaining: 3.23s\n",
      "192:\tlearn: 1607.9480046\ttotal: 3s\tremaining: 3.22s\n",
      "193:\tlearn: 1607.2516798\ttotal: 3.01s\tremaining: 3.2s\n",
      "194:\tlearn: 1606.5640838\ttotal: 3.03s\tremaining: 3.18s\n",
      "195:\tlearn: 1606.1498834\ttotal: 3.04s\tremaining: 3.17s\n",
      "196:\tlearn: 1605.7628574\ttotal: 3.06s\tremaining: 3.15s\n",
      "197:\tlearn: 1605.1499411\ttotal: 3.08s\tremaining: 3.14s\n",
      "198:\tlearn: 1604.9867939\ttotal: 3.09s\tremaining: 3.12s\n",
      "199:\tlearn: 1604.6798182\ttotal: 3.11s\tremaining: 3.11s\n",
      "200:\tlearn: 1604.2407225\ttotal: 3.12s\tremaining: 3.09s\n",
      "201:\tlearn: 1603.6875262\ttotal: 3.14s\tremaining: 3.08s\n",
      "202:\tlearn: 1603.2974069\ttotal: 3.15s\tremaining: 3.06s\n",
      "203:\tlearn: 1603.0152397\ttotal: 3.17s\tremaining: 3.05s\n",
      "204:\tlearn: 1602.2689161\ttotal: 3.19s\tremaining: 3.03s\n",
      "205:\tlearn: 1601.5534046\ttotal: 3.2s\tremaining: 3.02s\n",
      "206:\tlearn: 1600.8036058\ttotal: 3.22s\tremaining: 3s\n",
      "207:\tlearn: 1600.4771714\ttotal: 3.23s\tremaining: 2.98s\n",
      "208:\tlearn: 1599.7249008\ttotal: 3.25s\tremaining: 2.97s\n",
      "209:\tlearn: 1599.2114970\ttotal: 3.26s\tremaining: 2.95s\n",
      "210:\tlearn: 1598.7506913\ttotal: 3.28s\tremaining: 2.94s\n",
      "211:\tlearn: 1598.0590791\ttotal: 3.29s\tremaining: 2.92s\n",
      "212:\tlearn: 1597.3393271\ttotal: 3.31s\tremaining: 2.9s\n",
      "213:\tlearn: 1596.8557166\ttotal: 3.33s\tremaining: 2.89s\n",
      "214:\tlearn: 1596.1424028\ttotal: 3.34s\tremaining: 2.88s\n",
      "215:\tlearn: 1595.4341318\ttotal: 3.36s\tremaining: 2.86s\n",
      "216:\tlearn: 1594.9713419\ttotal: 3.37s\tremaining: 2.84s\n",
      "217:\tlearn: 1594.5371138\ttotal: 3.39s\tremaining: 2.83s\n",
      "218:\tlearn: 1593.9852652\ttotal: 3.4s\tremaining: 2.81s\n",
      "219:\tlearn: 1593.3906434\ttotal: 3.42s\tremaining: 2.8s\n",
      "220:\tlearn: 1592.1143250\ttotal: 3.44s\tremaining: 2.78s\n",
      "221:\tlearn: 1591.6371341\ttotal: 3.45s\tremaining: 2.77s\n",
      "222:\tlearn: 1591.2614102\ttotal: 3.47s\tremaining: 2.75s\n",
      "223:\tlearn: 1590.7829518\ttotal: 3.49s\tremaining: 2.74s\n",
      "224:\tlearn: 1590.4820533\ttotal: 3.5s\tremaining: 2.72s\n",
      "225:\tlearn: 1589.8248746\ttotal: 3.52s\tremaining: 2.71s\n",
      "226:\tlearn: 1589.2241423\ttotal: 3.53s\tremaining: 2.69s\n",
      "227:\tlearn: 1588.7325509\ttotal: 3.55s\tremaining: 2.68s\n",
      "228:\tlearn: 1588.4029365\ttotal: 3.56s\tremaining: 2.66s\n",
      "229:\tlearn: 1587.9737587\ttotal: 3.58s\tremaining: 2.65s\n",
      "230:\tlearn: 1587.5705568\ttotal: 3.6s\tremaining: 2.63s\n",
      "231:\tlearn: 1587.1914646\ttotal: 3.61s\tremaining: 2.61s\n",
      "232:\tlearn: 1586.6778431\ttotal: 3.63s\tremaining: 2.6s\n",
      "233:\tlearn: 1586.3529808\ttotal: 3.64s\tremaining: 2.58s\n",
      "234:\tlearn: 1586.1040986\ttotal: 3.66s\tremaining: 2.57s\n",
      "235:\tlearn: 1585.8133948\ttotal: 3.67s\tremaining: 2.55s\n",
      "236:\tlearn: 1585.3171124\ttotal: 3.69s\tremaining: 2.54s\n",
      "237:\tlearn: 1584.6569024\ttotal: 3.71s\tremaining: 2.52s\n",
      "238:\tlearn: 1584.1520075\ttotal: 3.72s\tremaining: 2.51s\n",
      "239:\tlearn: 1583.7825574\ttotal: 3.74s\tremaining: 2.49s\n",
      "240:\tlearn: 1583.2955940\ttotal: 3.76s\tremaining: 2.48s\n",
      "241:\tlearn: 1582.8756279\ttotal: 3.77s\tremaining: 2.46s\n",
      "242:\tlearn: 1582.6367038\ttotal: 3.79s\tremaining: 2.45s\n",
      "243:\tlearn: 1582.1702214\ttotal: 3.8s\tremaining: 2.43s\n",
      "244:\tlearn: 1581.8310220\ttotal: 3.82s\tremaining: 2.41s\n",
      "245:\tlearn: 1581.2246708\ttotal: 3.83s\tremaining: 2.4s\n",
      "246:\tlearn: 1580.7781317\ttotal: 3.85s\tremaining: 2.38s\n",
      "247:\tlearn: 1580.0665035\ttotal: 3.86s\tremaining: 2.37s\n",
      "248:\tlearn: 1579.5031883\ttotal: 3.88s\tremaining: 2.35s\n",
      "249:\tlearn: 1579.1022121\ttotal: 3.9s\tremaining: 2.34s\n",
      "250:\tlearn: 1578.9203459\ttotal: 3.91s\tremaining: 2.32s\n",
      "251:\tlearn: 1578.4440995\ttotal: 3.93s\tremaining: 2.31s\n",
      "252:\tlearn: 1578.1272787\ttotal: 3.94s\tremaining: 2.29s\n",
      "253:\tlearn: 1577.6113461\ttotal: 3.96s\tremaining: 2.27s\n",
      "254:\tlearn: 1576.9399807\ttotal: 3.97s\tremaining: 2.26s\n",
      "255:\tlearn: 1576.5697349\ttotal: 3.99s\tremaining: 2.24s\n",
      "256:\tlearn: 1576.1946380\ttotal: 4s\tremaining: 2.23s\n",
      "257:\tlearn: 1575.6829827\ttotal: 4.02s\tremaining: 2.21s\n",
      "258:\tlearn: 1575.2960944\ttotal: 4.04s\tremaining: 2.2s\n",
      "259:\tlearn: 1574.9464698\ttotal: 4.05s\tremaining: 2.18s\n",
      "260:\tlearn: 1574.6673698\ttotal: 4.07s\tremaining: 2.17s\n",
      "261:\tlearn: 1574.3829024\ttotal: 4.08s\tremaining: 2.15s\n",
      "262:\tlearn: 1573.9773218\ttotal: 4.1s\tremaining: 2.14s\n",
      "263:\tlearn: 1573.7072029\ttotal: 4.12s\tremaining: 2.12s\n",
      "264:\tlearn: 1573.4829398\ttotal: 4.13s\tremaining: 2.1s\n",
      "265:\tlearn: 1572.8076158\ttotal: 4.15s\tremaining: 2.09s\n",
      "266:\tlearn: 1572.2952701\ttotal: 4.17s\tremaining: 2.07s\n",
      "267:\tlearn: 1571.8678909\ttotal: 4.18s\tremaining: 2.06s\n",
      "268:\tlearn: 1571.6850512\ttotal: 4.2s\tremaining: 2.04s\n",
      "269:\tlearn: 1571.1674320\ttotal: 4.21s\tremaining: 2.03s\n",
      "270:\tlearn: 1570.7027744\ttotal: 4.23s\tremaining: 2.01s\n",
      "271:\tlearn: 1570.4577442\ttotal: 4.25s\tremaining: 2s\n",
      "272:\tlearn: 1570.3002580\ttotal: 4.26s\tremaining: 1.98s\n",
      "273:\tlearn: 1569.4626286\ttotal: 4.28s\tremaining: 1.97s\n",
      "274:\tlearn: 1569.1515856\ttotal: 4.29s\tremaining: 1.95s\n",
      "275:\tlearn: 1568.7086580\ttotal: 4.31s\tremaining: 1.94s\n",
      "276:\tlearn: 1568.3496828\ttotal: 4.32s\tremaining: 1.92s\n",
      "277:\tlearn: 1567.9566234\ttotal: 4.34s\tremaining: 1.9s\n",
      "278:\tlearn: 1567.5677024\ttotal: 4.35s\tremaining: 1.89s\n",
      "279:\tlearn: 1567.2413741\ttotal: 4.37s\tremaining: 1.87s\n",
      "280:\tlearn: 1566.8026640\ttotal: 4.38s\tremaining: 1.85s\n",
      "281:\tlearn: 1566.3821814\ttotal: 4.4s\tremaining: 1.84s\n",
      "282:\tlearn: 1566.1193868\ttotal: 4.41s\tremaining: 1.82s\n",
      "283:\tlearn: 1565.7178947\ttotal: 4.43s\tremaining: 1.81s\n",
      "284:\tlearn: 1565.3945182\ttotal: 4.44s\tremaining: 1.79s\n",
      "285:\tlearn: 1564.8949639\ttotal: 4.46s\tremaining: 1.78s\n",
      "286:\tlearn: 1564.5020375\ttotal: 4.47s\tremaining: 1.76s\n",
      "287:\tlearn: 1564.1503392\ttotal: 4.49s\tremaining: 1.75s\n",
      "288:\tlearn: 1563.7317974\ttotal: 4.5s\tremaining: 1.73s\n",
      "289:\tlearn: 1563.4622011\ttotal: 4.52s\tremaining: 1.71s\n",
      "290:\tlearn: 1563.1139440\ttotal: 4.54s\tremaining: 1.7s\n",
      "291:\tlearn: 1562.7375481\ttotal: 4.55s\tremaining: 1.68s\n",
      "292:\tlearn: 1562.4199726\ttotal: 4.57s\tremaining: 1.67s\n",
      "293:\tlearn: 1561.9997426\ttotal: 4.58s\tremaining: 1.65s\n",
      "294:\tlearn: 1561.7489474\ttotal: 4.6s\tremaining: 1.64s\n",
      "295:\tlearn: 1561.3350320\ttotal: 4.61s\tremaining: 1.62s\n",
      "296:\tlearn: 1561.0167012\ttotal: 4.63s\tremaining: 1.6s\n",
      "297:\tlearn: 1560.7819612\ttotal: 4.64s\tremaining: 1.59s\n",
      "298:\tlearn: 1560.2425089\ttotal: 4.66s\tremaining: 1.57s\n",
      "299:\tlearn: 1559.8284366\ttotal: 4.67s\tremaining: 1.56s\n",
      "300:\tlearn: 1559.6005314\ttotal: 4.69s\tremaining: 1.54s\n",
      "301:\tlearn: 1559.3066697\ttotal: 4.71s\tremaining: 1.53s\n",
      "302:\tlearn: 1559.0148277\ttotal: 4.72s\tremaining: 1.51s\n",
      "303:\tlearn: 1558.8270324\ttotal: 4.74s\tremaining: 1.5s\n",
      "304:\tlearn: 1558.3471335\ttotal: 4.75s\tremaining: 1.48s\n",
      "305:\tlearn: 1558.0023072\ttotal: 4.77s\tremaining: 1.46s\n",
      "306:\tlearn: 1557.7039589\ttotal: 4.78s\tremaining: 1.45s\n"
     ]
    },
    {
     "name": "stdout",
     "output_type": "stream",
     "text": [
      "307:\tlearn: 1557.0765302\ttotal: 4.8s\tremaining: 1.43s\n",
      "308:\tlearn: 1556.6597272\ttotal: 4.81s\tremaining: 1.42s\n",
      "309:\tlearn: 1556.1746844\ttotal: 4.83s\tremaining: 1.4s\n",
      "310:\tlearn: 1555.8408557\ttotal: 4.84s\tremaining: 1.39s\n",
      "311:\tlearn: 1555.5012499\ttotal: 4.86s\tremaining: 1.37s\n",
      "312:\tlearn: 1555.2343799\ttotal: 4.88s\tremaining: 1.35s\n",
      "313:\tlearn: 1554.7490385\ttotal: 4.89s\tremaining: 1.34s\n",
      "314:\tlearn: 1554.1779492\ttotal: 4.91s\tremaining: 1.32s\n",
      "315:\tlearn: 1553.8203198\ttotal: 4.92s\tremaining: 1.31s\n",
      "316:\tlearn: 1553.3882169\ttotal: 4.94s\tremaining: 1.29s\n",
      "317:\tlearn: 1552.9474926\ttotal: 4.96s\tremaining: 1.28s\n",
      "318:\tlearn: 1552.7179888\ttotal: 4.97s\tremaining: 1.26s\n",
      "319:\tlearn: 1552.3121504\ttotal: 4.99s\tremaining: 1.25s\n",
      "320:\tlearn: 1551.9049852\ttotal: 5s\tremaining: 1.23s\n",
      "321:\tlearn: 1551.5794889\ttotal: 5.02s\tremaining: 1.22s\n",
      "322:\tlearn: 1551.1900681\ttotal: 5.04s\tremaining: 1.2s\n",
      "323:\tlearn: 1550.8393567\ttotal: 5.05s\tremaining: 1.19s\n",
      "324:\tlearn: 1550.6213560\ttotal: 5.07s\tremaining: 1.17s\n",
      "325:\tlearn: 1550.4776916\ttotal: 5.08s\tremaining: 1.15s\n",
      "326:\tlearn: 1550.1213652\ttotal: 5.1s\tremaining: 1.14s\n",
      "327:\tlearn: 1549.5004392\ttotal: 5.11s\tremaining: 1.12s\n",
      "328:\tlearn: 1549.1361371\ttotal: 5.13s\tremaining: 1.11s\n",
      "329:\tlearn: 1548.7168419\ttotal: 5.14s\tremaining: 1.09s\n",
      "330:\tlearn: 1548.1940424\ttotal: 5.16s\tremaining: 1.07s\n",
      "331:\tlearn: 1547.9697218\ttotal: 5.17s\tremaining: 1.06s\n",
      "332:\tlearn: 1547.7864093\ttotal: 5.19s\tremaining: 1.04s\n",
      "333:\tlearn: 1547.5075720\ttotal: 5.2s\tremaining: 1.03s\n",
      "334:\tlearn: 1547.2147498\ttotal: 5.22s\tremaining: 1.01s\n",
      "335:\tlearn: 1546.7211368\ttotal: 5.23s\tremaining: 997ms\n",
      "336:\tlearn: 1546.4770493\ttotal: 5.25s\tremaining: 982ms\n",
      "337:\tlearn: 1546.1652713\ttotal: 5.27s\tremaining: 966ms\n",
      "338:\tlearn: 1545.9789437\ttotal: 5.28s\tremaining: 951ms\n",
      "339:\tlearn: 1545.6423590\ttotal: 5.3s\tremaining: 935ms\n",
      "340:\tlearn: 1545.3258341\ttotal: 5.31s\tremaining: 919ms\n",
      "341:\tlearn: 1544.9251263\ttotal: 5.33s\tremaining: 904ms\n",
      "342:\tlearn: 1544.6443459\ttotal: 5.35s\tremaining: 888ms\n",
      "343:\tlearn: 1544.2709235\ttotal: 5.36s\tremaining: 873ms\n",
      "344:\tlearn: 1543.9781543\ttotal: 5.38s\tremaining: 857ms\n",
      "345:\tlearn: 1543.5900536\ttotal: 5.39s\tremaining: 841ms\n",
      "346:\tlearn: 1543.1210857\ttotal: 5.41s\tremaining: 826ms\n",
      "347:\tlearn: 1542.6549501\ttotal: 5.42s\tremaining: 810ms\n",
      "348:\tlearn: 1542.4375391\ttotal: 5.44s\tremaining: 795ms\n",
      "349:\tlearn: 1542.0229262\ttotal: 5.45s\tremaining: 779ms\n",
      "350:\tlearn: 1541.6959794\ttotal: 5.47s\tremaining: 764ms\n",
      "351:\tlearn: 1541.4774811\ttotal: 5.48s\tremaining: 748ms\n",
      "352:\tlearn: 1541.0821023\ttotal: 5.5s\tremaining: 732ms\n",
      "353:\tlearn: 1540.8292686\ttotal: 5.51s\tremaining: 717ms\n",
      "354:\tlearn: 1540.4478794\ttotal: 5.53s\tremaining: 701ms\n",
      "355:\tlearn: 1540.0670345\ttotal: 5.55s\tremaining: 686ms\n",
      "356:\tlearn: 1539.8488104\ttotal: 5.56s\tremaining: 670ms\n",
      "357:\tlearn: 1539.5085989\ttotal: 5.58s\tremaining: 654ms\n",
      "358:\tlearn: 1539.2026050\ttotal: 5.59s\tremaining: 639ms\n",
      "359:\tlearn: 1538.8626199\ttotal: 5.61s\tremaining: 623ms\n",
      "360:\tlearn: 1538.5814056\ttotal: 5.62s\tremaining: 607ms\n",
      "361:\tlearn: 1538.2854410\ttotal: 5.64s\tremaining: 592ms\n",
      "362:\tlearn: 1538.0397919\ttotal: 5.65s\tremaining: 576ms\n",
      "363:\tlearn: 1537.7228769\ttotal: 5.67s\tremaining: 561ms\n",
      "364:\tlearn: 1537.5403179\ttotal: 5.69s\tremaining: 545ms\n",
      "365:\tlearn: 1537.2071429\ttotal: 5.7s\tremaining: 530ms\n",
      "366:\tlearn: 1536.7631561\ttotal: 5.72s\tremaining: 514ms\n",
      "367:\tlearn: 1536.4027858\ttotal: 5.73s\tremaining: 499ms\n",
      "368:\tlearn: 1535.8905873\ttotal: 5.75s\tremaining: 483ms\n",
      "369:\tlearn: 1535.5444165\ttotal: 5.77s\tremaining: 468ms\n",
      "370:\tlearn: 1535.1533874\ttotal: 5.78s\tremaining: 452ms\n",
      "371:\tlearn: 1534.9541938\ttotal: 5.8s\tremaining: 436ms\n",
      "372:\tlearn: 1534.7004970\ttotal: 5.81s\tremaining: 421ms\n",
      "373:\tlearn: 1534.3605918\ttotal: 5.83s\tremaining: 405ms\n",
      "374:\tlearn: 1533.9499731\ttotal: 5.84s\tremaining: 390ms\n",
      "375:\tlearn: 1533.6452875\ttotal: 5.86s\tremaining: 374ms\n",
      "376:\tlearn: 1533.2874096\ttotal: 5.87s\tremaining: 358ms\n",
      "377:\tlearn: 1533.1011094\ttotal: 5.89s\tremaining: 343ms\n",
      "378:\tlearn: 1532.9296106\ttotal: 5.9s\tremaining: 327ms\n",
      "379:\tlearn: 1532.7348610\ttotal: 5.92s\tremaining: 312ms\n",
      "380:\tlearn: 1532.5304217\ttotal: 5.94s\tremaining: 296ms\n",
      "381:\tlearn: 1532.3578687\ttotal: 5.95s\tremaining: 280ms\n",
      "382:\tlearn: 1532.0716916\ttotal: 5.97s\tremaining: 265ms\n",
      "383:\tlearn: 1531.7464226\ttotal: 5.98s\tremaining: 249ms\n",
      "384:\tlearn: 1531.5470403\ttotal: 6s\tremaining: 234ms\n",
      "385:\tlearn: 1531.3326917\ttotal: 6.01s\tremaining: 218ms\n",
      "386:\tlearn: 1530.9834756\ttotal: 6.03s\tremaining: 202ms\n",
      "387:\tlearn: 1530.6356578\ttotal: 6.04s\tremaining: 187ms\n",
      "388:\tlearn: 1530.3920736\ttotal: 6.06s\tremaining: 171ms\n",
      "389:\tlearn: 1530.0542829\ttotal: 6.07s\tremaining: 156ms\n",
      "390:\tlearn: 1529.8007003\ttotal: 6.09s\tremaining: 140ms\n",
      "391:\tlearn: 1529.4968770\ttotal: 6.11s\tremaining: 125ms\n",
      "392:\tlearn: 1528.7957415\ttotal: 6.12s\tremaining: 109ms\n",
      "393:\tlearn: 1528.5006587\ttotal: 6.14s\tremaining: 93.5ms\n",
      "394:\tlearn: 1528.1825822\ttotal: 6.16s\tremaining: 77.9ms\n",
      "395:\tlearn: 1527.8194306\ttotal: 6.17s\tremaining: 62.3ms\n",
      "396:\tlearn: 1527.5947589\ttotal: 6.19s\tremaining: 46.8ms\n",
      "397:\tlearn: 1527.3895676\ttotal: 6.2s\tremaining: 31.2ms\n",
      "398:\tlearn: 1527.1326805\ttotal: 6.22s\tremaining: 15.6ms\n",
      "399:\tlearn: 1526.8363133\ttotal: 6.24s\tremaining: 0us\n",
      "RMSE: 1568.8895526791007\n",
      "Wall time: 6.73 s\n"
     ]
    }
   ],
   "source": [
    "%%time\n",
    "model_cb = CatBoostRegressor(**best_param_catboost)\n",
    "model_cb.fit(features_autos_train, target_autos_train)\n",
    "predictions_cb = model_cb.predict(features_autos_test)\n",
    "rmse_cb = mean_squared_error(predictions_cb, target_autos_test)**0.5\n",
    "print('RMSE:',rmse_cb)"
   ]
  },
  {
   "cell_type": "markdown",
   "metadata": {},
   "source": [
    "Сравним полученную метрику RMSE с метрикой модели, где все значения средние по целевому признаку."
   ]
  },
  {
   "cell_type": "code",
   "execution_count": 50,
   "metadata": {},
   "outputs": [
    {
     "name": "stdout",
     "output_type": "stream",
     "text": [
      "RMSE (константная модель): 4538.376130176544\n"
     ]
    }
   ],
   "source": [
    "mean = target_autos_train.mean()\n",
    "lenght = features_autos_test.shape[0]\n",
    "dummy_predictions = np.full((lenght,1), mean)\n",
    "dummy_rmse = mean_squared_error(dummy_predictions, target_autos_test)**0.5\n",
    "print('RMSE (константная модель):',dummy_rmse)"
   ]
  },
  {
   "cell_type": "markdown",
   "metadata": {},
   "source": [
    "Модель предсказывает значения значительно лучше, чем константная модель."
   ]
  },
  {
   "cell_type": "markdown",
   "metadata": {},
   "source": [
    "### LightGBM"
   ]
  },
  {
   "cell_type": "code",
   "execution_count": 51,
   "metadata": {},
   "outputs": [
    {
     "name": "stdout",
     "output_type": "stream",
     "text": [
      "RMSE: 1526.0877719714497\n",
      "Wall time: 1.96 s\n"
     ]
    }
   ],
   "source": [
    "%%time\n",
    "model_lgb = lgb.LGBMRegressor(**best_param_lgbmregressor)\n",
    "model_lgb.fit(features_autos_train, target_autos_train)\n",
    "predictions_lgb = model_lgb.predict(features_autos_test)\n",
    "rmse_lgbm = mean_squared_error(predictions_lgb, target_autos_test)**0.5\n",
    "print('RMSE:',rmse_lgbm)"
   ]
  },
  {
   "cell_type": "markdown",
   "metadata": {},
   "source": [
    "Модель предсказывает значения значительно лучше, чем константная модель."
   ]
  },
  {
   "cell_type": "markdown",
   "metadata": {},
   "source": [
    "### Вывод"
   ]
  },
  {
   "cell_type": "markdown",
   "metadata": {},
   "source": [
    "Модель CatBoost обучилась в 3.4 раза медленнее, чем модель LightGBM. Разница не значительна, так как время измерялось в секундах. Мы проанализировали итоговые метрики. Модели предсказывают значительно лучше константной модели. Быстрее всех подбирает значения модель LightGBM. Так как метрики 2-х моделей незначительно различаются, то можно сделать вывод о том, что наименее трудозатратно использовать модель LightGBM, так как она значительно быстрее подбирает гиперпараметры."
   ]
  },
  {
   "cell_type": "markdown",
   "metadata": {},
   "source": [
    "## ИТОГ"
   ]
  },
  {
   "cell_type": "code",
   "execution_count": 53,
   "metadata": {},
   "outputs": [
    {
     "data": {
      "text/html": [
       "<div>\n",
       "<style scoped>\n",
       "    .dataframe tbody tr th:only-of-type {\n",
       "        vertical-align: middle;\n",
       "    }\n",
       "\n",
       "    .dataframe tbody tr th {\n",
       "        vertical-align: top;\n",
       "    }\n",
       "\n",
       "    .dataframe thead th {\n",
       "        text-align: right;\n",
       "    }\n",
       "</style>\n",
       "<table border=\"1\" class=\"dataframe\">\n",
       "  <thead>\n",
       "    <tr style=\"text-align: right;\">\n",
       "      <th></th>\n",
       "      <th>RMSE_valid</th>\n",
       "      <th>RMSE_valid_time</th>\n",
       "      <th>RMSE_test</th>\n",
       "      <th>RMSE_test_time</th>\n",
       "      <th>RMSE(mean)</th>\n",
       "    </tr>\n",
       "  </thead>\n",
       "  <tbody>\n",
       "    <tr>\n",
       "      <th>CatBoostRegressor</th>\n",
       "      <td>1526.836313</td>\n",
       "      <td>1m 25s</td>\n",
       "      <td>1568.889553</td>\n",
       "      <td>6.73s</td>\n",
       "      <td>4538.37613</td>\n",
       "    </tr>\n",
       "    <tr>\n",
       "      <th>LGBMRegressor</th>\n",
       "      <td>1535.479646</td>\n",
       "      <td>42s</td>\n",
       "      <td>1526.087772</td>\n",
       "      <td>1.96s</td>\n",
       "      <td>4538.37613</td>\n",
       "    </tr>\n",
       "  </tbody>\n",
       "</table>\n",
       "</div>"
      ],
      "text/plain": [
       "                    RMSE_valid RMSE_valid_time    RMSE_test RMSE_test_time  \\\n",
       "CatBoostRegressor  1526.836313          1m 25s  1568.889553          6.73s   \n",
       "LGBMRegressor      1535.479646             42s  1526.087772          1.96s   \n",
       "\n",
       "                   RMSE(mean)  \n",
       "CatBoostRegressor  4538.37613  \n",
       "LGBMRegressor      4538.37613  "
      ]
     },
     "metadata": {},
     "output_type": "display_data"
    }
   ],
   "source": [
    "d = {'RMSE_valid': [rmse_cb_valid, rmse_lgdm_valid], 'RMSE_valid_time': ['1m 25s', '42s'], \n",
    "     'RMSE_test': [rmse_cb, rmse_lgbm], 'RMSE_test_time': ['6.73s', '1.96s'], 'RMSE(mean)' : [dummy_rmse, dummy_rmse]}\n",
    "final = pd.DataFrame(data=d, index = ['CatBoostRegressor', 'LGBMRegressor'])\n",
    "display(final)"
   ]
  },
  {
   "cell_type": "markdown",
   "metadata": {},
   "source": [
    "Были проанализированы данные, обработаны пропуски, нулевые значения в признаках и дубликаты. Категориальный признаки были закодированы, а количественные масштабированы. Для целей предсказания цены автомобилей использовались 2 модели CatBoostRegressor и LGBMRegressor, который показали отличный результат, по сравнению с константной моделью. В результате исследования скорости обучения и подбора гиперпараметров победила модель LGBMRegressor, которая при прочих равных условиях быстрее в 2 раза подбирает гиперпараметры."
   ]
  }
 ],
 "metadata": {
  "kernelspec": {
   "display_name": "Python 3",
   "language": "python",
   "name": "python3"
  },
  "language_info": {
   "codemirror_mode": {
    "name": "ipython",
    "version": 3
   },
   "file_extension": ".py",
   "mimetype": "text/x-python",
   "name": "python",
   "nbconvert_exporter": "python",
   "pygments_lexer": "ipython3",
   "version": "3.7.7"
  },
  "latex_envs": {
   "LaTeX_envs_menu_present": true,
   "autoclose": false,
   "autocomplete": true,
   "bibliofile": "biblio.bib",
   "cite_by": "apalike",
   "current_citInitial": 1,
   "eqLabelWithNumbers": true,
   "eqNumInitial": 1,
   "hotkeys": {
    "equation": "Ctrl-E",
    "itemize": "Ctrl-I"
   },
   "labels_anchors": false,
   "latex_user_defs": false,
   "report_style_numbering": false,
   "user_envs_cfg": false
  },
  "nbTranslate": {
   "displayLangs": [
    "*"
   ],
   "hotkey": "alt-t",
   "langInMainMenu": true,
   "sourceLang": "en",
   "targetLang": "fr",
   "useGoogleTranslate": true
  }
 },
 "nbformat": 4,
 "nbformat_minor": 2
}
