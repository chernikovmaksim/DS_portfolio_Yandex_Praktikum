{
 "cells": [
  {
   "cell_type": "markdown",
   "metadata": {},
   "source": [
    "## План работы"
   ]
  },
  {
   "cell_type": "markdown",
   "metadata": {},
   "source": [
    "[Шаг 1. Откроем файл с данными и изучим общую информацию](#1.)<br>\n",
    "[Шаг 2. Предобработка и подготовка данных](#2.)<br>\n",
    "[Шаг 2.1. Предобработка данных](#2.1.)<br>\n",
    "[Шаг 2.2. Подготовка данных](#2.2.)<br>\n",
    "[Шаг 3. Анализ данных](#3.)<br>\n",
    "[Шаг 4. Проверка гипотез](#4.)<br>\n",
    "[Шаг 5. Общий вывод](#5.)<br>"
   ]
  },
  {
   "cell_type": "markdown",
   "metadata": {},
   "source": [
    "# Шаг 1. Откроем файл с данными и изучим общую информацию <a id = \"1.\"> </a>"
   ]
  },
  {
   "cell_type": "code",
   "execution_count": 1,
   "metadata": {},
   "outputs": [],
   "source": [
    "import numpy as np\n",
    "import pandas as pd\n",
    "import matplotlib as mpl\n",
    "import matplotlib.pyplot as plt\n",
    "from scipy import stats as st\n",
    "import seaborn as sns\n",
    "import warnings; warnings.filterwarnings(action='once')\n",
    "\n",
    "large = 22; med = 16; small = 12\n",
    "params = {'axes.titlesize': large,\n",
    "          'legend.fontsize': med,\n",
    "          'figure.figsize': (16, 10),\n",
    "          'axes.labelsize': med,\n",
    "          'axes.titlesize': med,\n",
    "          'xtick.labelsize': med,\n",
    "          'ytick.labelsize': med,\n",
    "          'figure.titlesize': large}\n",
    "plt.rcParams.update(params)\n",
    "plt.style.use('seaborn-whitegrid')\n",
    "sns.set_style(\"white\")\n",
    "%matplotlib inline\n",
    "\n",
    "# считываем датасеты, используемые для анализа\n",
    "calls = pd.read_csv(r'E:\\Документы прочие\\IT\\Яндекс практикум\\Project\\4 Статистический анализ данных\\calls.csv', index_col=[0])\n",
    "internet = pd.read_csv(r'E:\\Документы прочие\\IT\\Яндекс практикум\\Project\\4 Статистический анализ данных\\internet.csv', index_col=[0])\n",
    "messages = pd.read_csv(r'E:\\Документы прочие\\IT\\Яндекс практикум\\Project\\4 Статистический анализ данных\\messages.csv', index_col=[0])\n",
    "tariffs = pd.read_csv(r'E:\\Документы прочие\\IT\\Яндекс практикум\\Project\\4 Статистический анализ данных\\tariffs.csv', index_col=[0])\n",
    "users = pd.read_csv(r'E:\\Документы прочие\\IT\\Яндекс практикум\\Project\\4 Статистический анализ данных\\users.csv', index_col=[0])\n",
    "\n",
    "def data_info(data):\n",
    "    '''\n",
    "    Функция принимает в качестве аргументов: датасет.\n",
    "    Функция показывает информацию о датасете и первые 5 строк.\n",
    "    '''\n",
    "    display(data.info())\n",
    "    display(data.head())\n",
    "    \n",
    "def data_dublicates(data):\n",
    "    '''\n",
    "    Функция принимает в качестве аргументов: датасет.\n",
    "    Функция показывает количество дубликатов в датасете.\n",
    "    '''\n",
    "    print('Количество найденных дубликатов:',data.duplicated().sum())\n",
    "    \n",
    "def data_values(data):\n",
    "    '''\n",
    "    Функция принимает в качестве аргументов: датасет.\n",
    "    Функция анализирует значения датасета в каждой колонке.\n",
    "    '''\n",
    "    display(data.describe())\n",
    "    for c in list(data):\n",
    "        print(data[c].value_counts())\n",
    "        \n",
    "def data_date_to_month(data, d, r):\n",
    "    '''\n",
    "    Функция принимает в качестве аргументов: датасет, колонку с датой, которую хотим обработать, название результирующей колонки.\n",
    "    Функция определяет месяц по колонке с датой и добавляет в датасет.\n",
    "    '''\n",
    "    data[r] = data[d].dt.month\n",
    "    \n",
    "def growth(data, col):\n",
    "    '''\n",
    "    Функция принимает в качестве аргументов: датасет c индексом месяца, колонку с показателем.\n",
    "    Функция расчитывает % изменения показателя за год.\n",
    "    '''\n",
    "    return data[col].loc[12]/data[col].loc[1]-1\n",
    "\n",
    "def histogram(data_hist, n_bins, k):\n",
    "    '''\n",
    "    Функция принимает в качестве аргументов: колонку датасета, число корзин, гистрограмма плотности (True, False).\n",
    "    Функция строит гистрограмму.\n",
    "    '''\n",
    "    plt.figure(figsize=(15, 10))\n",
    "    sns.distplot(data_hist, bins=n_bins, kde=k)\n",
    "    \n",
    "def graphic(data_plot, plot_style, alph):\n",
    "    '''\n",
    "    Функция принимает в качестве аргументов: датасет, \n",
    "    стиль графика ('o' - с точками, 'o-' - с точкам и линиями, 'x' - с крестикми, 'без значения' - линиями ), степень прозрачности.\n",
    "    Функция строит график с DataFrame и Series.\n",
    "    '''\n",
    "    if isinstance(data_plot, pd.DataFrame):\n",
    "        data_plot.plot(style=plot_style, alpha=alph, figsize=(15,10))\n",
    "    else: \n",
    "        data_plot.plot(style=plot_style, alpha=alph, figsize=(15,10))\n",
    "        plt.title(data_plot.name)"
   ]
  },
  {
   "cell_type": "markdown",
   "metadata": {},
   "source": [
    "Для анализа мы будем использовать 5 датасетов:\n",
    "1. calls - информация о пользователях\n",
    "2. internet - информация об интернет-сессиях\n",
    "3. messages - информация о сообщениях\n",
    "4. tariffs - информация о тарифах\n",
    "5. users - информация о пользователях"
   ]
  },
  {
   "cell_type": "code",
   "execution_count": 2,
   "metadata": {},
   "outputs": [
    {
     "name": "stdout",
     "output_type": "stream",
     "text": [
      "<class 'pandas.core.frame.DataFrame'>\n",
      "Int64Index: 202607 entries, 0 to 202606\n",
      "Data columns (total 4 columns):\n",
      " #   Column     Non-Null Count   Dtype  \n",
      "---  ------     --------------   -----  \n",
      " 0   id         202607 non-null  object \n",
      " 1   call_date  202607 non-null  object \n",
      " 2   duration   202607 non-null  float64\n",
      " 3   user_id    202607 non-null  int64  \n",
      "dtypes: float64(1), int64(1), object(2)\n",
      "memory usage: 7.7+ MB\n"
     ]
    },
    {
     "data": {
      "text/plain": [
       "None"
      ]
     },
     "metadata": {},
     "output_type": "display_data"
    },
    {
     "data": {
      "text/html": [
       "<div>\n",
       "<style scoped>\n",
       "    .dataframe tbody tr th:only-of-type {\n",
       "        vertical-align: middle;\n",
       "    }\n",
       "\n",
       "    .dataframe tbody tr th {\n",
       "        vertical-align: top;\n",
       "    }\n",
       "\n",
       "    .dataframe thead th {\n",
       "        text-align: right;\n",
       "    }\n",
       "</style>\n",
       "<table border=\"1\" class=\"dataframe\">\n",
       "  <thead>\n",
       "    <tr style=\"text-align: right;\">\n",
       "      <th></th>\n",
       "      <th>id</th>\n",
       "      <th>call_date</th>\n",
       "      <th>duration</th>\n",
       "      <th>user_id</th>\n",
       "    </tr>\n",
       "  </thead>\n",
       "  <tbody>\n",
       "    <tr>\n",
       "      <th>0</th>\n",
       "      <td>1000_0</td>\n",
       "      <td>2018-07-25</td>\n",
       "      <td>0.00</td>\n",
       "      <td>1000</td>\n",
       "    </tr>\n",
       "    <tr>\n",
       "      <th>1</th>\n",
       "      <td>1000_1</td>\n",
       "      <td>2018-08-17</td>\n",
       "      <td>0.00</td>\n",
       "      <td>1000</td>\n",
       "    </tr>\n",
       "    <tr>\n",
       "      <th>2</th>\n",
       "      <td>1000_2</td>\n",
       "      <td>2018-06-11</td>\n",
       "      <td>2.85</td>\n",
       "      <td>1000</td>\n",
       "    </tr>\n",
       "    <tr>\n",
       "      <th>3</th>\n",
       "      <td>1000_3</td>\n",
       "      <td>2018-09-21</td>\n",
       "      <td>13.80</td>\n",
       "      <td>1000</td>\n",
       "    </tr>\n",
       "    <tr>\n",
       "      <th>4</th>\n",
       "      <td>1000_4</td>\n",
       "      <td>2018-12-15</td>\n",
       "      <td>5.18</td>\n",
       "      <td>1000</td>\n",
       "    </tr>\n",
       "  </tbody>\n",
       "</table>\n",
       "</div>"
      ],
      "text/plain": [
       "       id   call_date  duration  user_id\n",
       "0  1000_0  2018-07-25      0.00     1000\n",
       "1  1000_1  2018-08-17      0.00     1000\n",
       "2  1000_2  2018-06-11      2.85     1000\n",
       "3  1000_3  2018-09-21     13.80     1000\n",
       "4  1000_4  2018-12-15      5.18     1000"
      ]
     },
     "metadata": {},
     "output_type": "display_data"
    }
   ],
   "source": [
    "data_info(calls)"
   ]
  },
  {
   "cell_type": "markdown",
   "metadata": {},
   "source": [
    "Описание данных датасета calls (информация о пользователях):\n",
    "- id — уникальный номер звонка\n",
    "- call_date — дата звонка\n",
    "- duration — длительность звонка в минутах\n",
    "- user_id — идентификатор пользователя, сделавшего звонок"
   ]
  },
  {
   "cell_type": "code",
   "execution_count": 3,
   "metadata": {
    "scrolled": true
   },
   "outputs": [
    {
     "name": "stdout",
     "output_type": "stream",
     "text": [
      "<class 'pandas.core.frame.DataFrame'>\n",
      "Int64Index: 149396 entries, 0 to 149395\n",
      "Data columns (total 4 columns):\n",
      " #   Column        Non-Null Count   Dtype  \n",
      "---  ------        --------------   -----  \n",
      " 0   id            149396 non-null  object \n",
      " 1   mb_used       149396 non-null  float64\n",
      " 2   session_date  149396 non-null  object \n",
      " 3   user_id       149396 non-null  int64  \n",
      "dtypes: float64(1), int64(1), object(2)\n",
      "memory usage: 5.7+ MB\n"
     ]
    },
    {
     "data": {
      "text/plain": [
       "None"
      ]
     },
     "metadata": {},
     "output_type": "display_data"
    },
    {
     "data": {
      "text/html": [
       "<div>\n",
       "<style scoped>\n",
       "    .dataframe tbody tr th:only-of-type {\n",
       "        vertical-align: middle;\n",
       "    }\n",
       "\n",
       "    .dataframe tbody tr th {\n",
       "        vertical-align: top;\n",
       "    }\n",
       "\n",
       "    .dataframe thead th {\n",
       "        text-align: right;\n",
       "    }\n",
       "</style>\n",
       "<table border=\"1\" class=\"dataframe\">\n",
       "  <thead>\n",
       "    <tr style=\"text-align: right;\">\n",
       "      <th></th>\n",
       "      <th>id</th>\n",
       "      <th>mb_used</th>\n",
       "      <th>session_date</th>\n",
       "      <th>user_id</th>\n",
       "    </tr>\n",
       "  </thead>\n",
       "  <tbody>\n",
       "    <tr>\n",
       "      <th>0</th>\n",
       "      <td>1000_0</td>\n",
       "      <td>112.95</td>\n",
       "      <td>2018-11-25</td>\n",
       "      <td>1000</td>\n",
       "    </tr>\n",
       "    <tr>\n",
       "      <th>1</th>\n",
       "      <td>1000_1</td>\n",
       "      <td>1052.81</td>\n",
       "      <td>2018-09-07</td>\n",
       "      <td>1000</td>\n",
       "    </tr>\n",
       "    <tr>\n",
       "      <th>2</th>\n",
       "      <td>1000_2</td>\n",
       "      <td>1197.26</td>\n",
       "      <td>2018-06-25</td>\n",
       "      <td>1000</td>\n",
       "    </tr>\n",
       "    <tr>\n",
       "      <th>3</th>\n",
       "      <td>1000_3</td>\n",
       "      <td>550.27</td>\n",
       "      <td>2018-08-22</td>\n",
       "      <td>1000</td>\n",
       "    </tr>\n",
       "    <tr>\n",
       "      <th>4</th>\n",
       "      <td>1000_4</td>\n",
       "      <td>302.56</td>\n",
       "      <td>2018-09-24</td>\n",
       "      <td>1000</td>\n",
       "    </tr>\n",
       "  </tbody>\n",
       "</table>\n",
       "</div>"
      ],
      "text/plain": [
       "       id  mb_used session_date  user_id\n",
       "0  1000_0   112.95   2018-11-25     1000\n",
       "1  1000_1  1052.81   2018-09-07     1000\n",
       "2  1000_2  1197.26   2018-06-25     1000\n",
       "3  1000_3   550.27   2018-08-22     1000\n",
       "4  1000_4   302.56   2018-09-24     1000"
      ]
     },
     "metadata": {},
     "output_type": "display_data"
    }
   ],
   "source": [
    "data_info(internet)"
   ]
  },
  {
   "cell_type": "markdown",
   "metadata": {},
   "source": [
    "Описание данных датасета internet (информация об интернет-сессиях):\n",
    "- id — уникальный номер сессии\n",
    "- mb_used — объём потраченного за сессию интернет-трафика (в мегабайтах)\n",
    "- session_date — дата интернет-сессии\n",
    "- user_id — идентификатор пользователя"
   ]
  },
  {
   "cell_type": "code",
   "execution_count": 4,
   "metadata": {},
   "outputs": [
    {
     "name": "stdout",
     "output_type": "stream",
     "text": [
      "<class 'pandas.core.frame.DataFrame'>\n",
      "Int64Index: 123036 entries, 0 to 123035\n",
      "Data columns (total 3 columns):\n",
      " #   Column        Non-Null Count   Dtype \n",
      "---  ------        --------------   ----- \n",
      " 0   id            123036 non-null  object\n",
      " 1   message_date  123036 non-null  object\n",
      " 2   user_id       123036 non-null  int64 \n",
      "dtypes: int64(1), object(2)\n",
      "memory usage: 3.8+ MB\n"
     ]
    },
    {
     "data": {
      "text/plain": [
       "None"
      ]
     },
     "metadata": {},
     "output_type": "display_data"
    },
    {
     "data": {
      "text/html": [
       "<div>\n",
       "<style scoped>\n",
       "    .dataframe tbody tr th:only-of-type {\n",
       "        vertical-align: middle;\n",
       "    }\n",
       "\n",
       "    .dataframe tbody tr th {\n",
       "        vertical-align: top;\n",
       "    }\n",
       "\n",
       "    .dataframe thead th {\n",
       "        text-align: right;\n",
       "    }\n",
       "</style>\n",
       "<table border=\"1\" class=\"dataframe\">\n",
       "  <thead>\n",
       "    <tr style=\"text-align: right;\">\n",
       "      <th></th>\n",
       "      <th>id</th>\n",
       "      <th>message_date</th>\n",
       "      <th>user_id</th>\n",
       "    </tr>\n",
       "  </thead>\n",
       "  <tbody>\n",
       "    <tr>\n",
       "      <th>0</th>\n",
       "      <td>1000_0</td>\n",
       "      <td>2018-06-27</td>\n",
       "      <td>1000</td>\n",
       "    </tr>\n",
       "    <tr>\n",
       "      <th>1</th>\n",
       "      <td>1000_1</td>\n",
       "      <td>2018-10-08</td>\n",
       "      <td>1000</td>\n",
       "    </tr>\n",
       "    <tr>\n",
       "      <th>2</th>\n",
       "      <td>1000_2</td>\n",
       "      <td>2018-08-04</td>\n",
       "      <td>1000</td>\n",
       "    </tr>\n",
       "    <tr>\n",
       "      <th>3</th>\n",
       "      <td>1000_3</td>\n",
       "      <td>2018-06-16</td>\n",
       "      <td>1000</td>\n",
       "    </tr>\n",
       "    <tr>\n",
       "      <th>4</th>\n",
       "      <td>1000_4</td>\n",
       "      <td>2018-12-05</td>\n",
       "      <td>1000</td>\n",
       "    </tr>\n",
       "  </tbody>\n",
       "</table>\n",
       "</div>"
      ],
      "text/plain": [
       "       id message_date  user_id\n",
       "0  1000_0   2018-06-27     1000\n",
       "1  1000_1   2018-10-08     1000\n",
       "2  1000_2   2018-08-04     1000\n",
       "3  1000_3   2018-06-16     1000\n",
       "4  1000_4   2018-12-05     1000"
      ]
     },
     "metadata": {},
     "output_type": "display_data"
    }
   ],
   "source": [
    "data_info(messages)"
   ]
  },
  {
   "cell_type": "markdown",
   "metadata": {},
   "source": [
    "Описание данных датасета messages (информация о сообщениях):\n",
    "- id — уникальный номер сообщения\n",
    "- message_date — дата сообщения\n",
    "- user_id — идентификатор пользователя, отправившего сообщение"
   ]
  },
  {
   "cell_type": "code",
   "execution_count": 5,
   "metadata": {},
   "outputs": [
    {
     "name": "stdout",
     "output_type": "stream",
     "text": [
      "<class 'pandas.core.frame.DataFrame'>\n",
      "Int64Index: 2 entries, 0 to 1\n",
      "Data columns (total 8 columns):\n",
      " #   Column                 Non-Null Count  Dtype \n",
      "---  ------                 --------------  ----- \n",
      " 0   messages_included      2 non-null      int64 \n",
      " 1   mg_per_month_included  2 non-null      int64 \n",
      " 2   minutes_included       2 non-null      int64 \n",
      " 3   rub_monthly_fee        2 non-null      int64 \n",
      " 4   rub_per_gb             2 non-null      int64 \n",
      " 5   rub_per_message        2 non-null      int64 \n",
      " 6   rub_per_minute         2 non-null      int64 \n",
      " 7   tariff_name            2 non-null      object\n",
      "dtypes: int64(7), object(1)\n",
      "memory usage: 144.0+ bytes\n"
     ]
    },
    {
     "data": {
      "text/plain": [
       "None"
      ]
     },
     "metadata": {},
     "output_type": "display_data"
    },
    {
     "data": {
      "text/html": [
       "<div>\n",
       "<style scoped>\n",
       "    .dataframe tbody tr th:only-of-type {\n",
       "        vertical-align: middle;\n",
       "    }\n",
       "\n",
       "    .dataframe tbody tr th {\n",
       "        vertical-align: top;\n",
       "    }\n",
       "\n",
       "    .dataframe thead th {\n",
       "        text-align: right;\n",
       "    }\n",
       "</style>\n",
       "<table border=\"1\" class=\"dataframe\">\n",
       "  <thead>\n",
       "    <tr style=\"text-align: right;\">\n",
       "      <th></th>\n",
       "      <th>messages_included</th>\n",
       "      <th>mg_per_month_included</th>\n",
       "      <th>minutes_included</th>\n",
       "      <th>rub_monthly_fee</th>\n",
       "      <th>rub_per_gb</th>\n",
       "      <th>rub_per_message</th>\n",
       "      <th>rub_per_minute</th>\n",
       "      <th>tariff_name</th>\n",
       "    </tr>\n",
       "  </thead>\n",
       "  <tbody>\n",
       "    <tr>\n",
       "      <th>0</th>\n",
       "      <td>50</td>\n",
       "      <td>15360</td>\n",
       "      <td>500</td>\n",
       "      <td>550</td>\n",
       "      <td>200</td>\n",
       "      <td>3</td>\n",
       "      <td>3</td>\n",
       "      <td>smart</td>\n",
       "    </tr>\n",
       "    <tr>\n",
       "      <th>1</th>\n",
       "      <td>1000</td>\n",
       "      <td>30720</td>\n",
       "      <td>3000</td>\n",
       "      <td>1950</td>\n",
       "      <td>150</td>\n",
       "      <td>1</td>\n",
       "      <td>1</td>\n",
       "      <td>ultra</td>\n",
       "    </tr>\n",
       "  </tbody>\n",
       "</table>\n",
       "</div>"
      ],
      "text/plain": [
       "   messages_included  mg_per_month_included  minutes_included  \\\n",
       "0                 50                  15360               500   \n",
       "1               1000                  30720              3000   \n",
       "\n",
       "   rub_monthly_fee  rub_per_gb  rub_per_message  rub_per_minute tariff_name  \n",
       "0              550         200                3               3       smart  \n",
       "1             1950         150                1               1       ultra  "
      ]
     },
     "metadata": {},
     "output_type": "display_data"
    }
   ],
   "source": [
    "data_info(tariffs)"
   ]
  },
  {
   "cell_type": "markdown",
   "metadata": {},
   "source": [
    "Описание данных датасета tariffs (информация о тарифах):\n",
    "- tariff_name — название тарифа\n",
    "- rub_monthly_fee — ежемесячная абонентская плата в рублях\n",
    "- minutes_included — количество минут разговора в месяц, включённых в абонентскую плату\n",
    "- messages_included — количество сообщений в месяц, включённых в абонентскую плату\n",
    "- mb_per_month_included — объём интернет-трафика, включённого в абонентскую плату (в мегабайтах)\n",
    "- rub_per_minute — стоимость минуты разговора сверх тарифного пакета (например, если в тарифе 100 минут разговора в месяц, то со 101 минуты будет взиматься плата)\n",
    "- rub_per_message — стоимость отправки сообщения сверх тарифного пакета\n",
    "- rub_per_gb — стоимость дополнительного гигабайта интернет-трафика сверх тарифного пакета (1 гигабайт = 1024 мегабайта)"
   ]
  },
  {
   "cell_type": "code",
   "execution_count": 6,
   "metadata": {},
   "outputs": [
    {
     "name": "stdout",
     "output_type": "stream",
     "text": [
      "<class 'pandas.core.frame.DataFrame'>\n",
      "Int64Index: 500 entries, 0 to 499\n",
      "Data columns (total 8 columns):\n",
      " #   Column      Non-Null Count  Dtype \n",
      "---  ------      --------------  ----- \n",
      " 0   user_id     500 non-null    int64 \n",
      " 1   age         500 non-null    int64 \n",
      " 2   churn_date  38 non-null     object\n",
      " 3   city        500 non-null    object\n",
      " 4   first_name  500 non-null    object\n",
      " 5   last_name   500 non-null    object\n",
      " 6   reg_date    500 non-null    object\n",
      " 7   tariff      500 non-null    object\n",
      "dtypes: int64(2), object(6)\n",
      "memory usage: 35.2+ KB\n"
     ]
    },
    {
     "data": {
      "text/plain": [
       "None"
      ]
     },
     "metadata": {},
     "output_type": "display_data"
    },
    {
     "data": {
      "text/html": [
       "<div>\n",
       "<style scoped>\n",
       "    .dataframe tbody tr th:only-of-type {\n",
       "        vertical-align: middle;\n",
       "    }\n",
       "\n",
       "    .dataframe tbody tr th {\n",
       "        vertical-align: top;\n",
       "    }\n",
       "\n",
       "    .dataframe thead th {\n",
       "        text-align: right;\n",
       "    }\n",
       "</style>\n",
       "<table border=\"1\" class=\"dataframe\">\n",
       "  <thead>\n",
       "    <tr style=\"text-align: right;\">\n",
       "      <th></th>\n",
       "      <th>user_id</th>\n",
       "      <th>age</th>\n",
       "      <th>churn_date</th>\n",
       "      <th>city</th>\n",
       "      <th>first_name</th>\n",
       "      <th>last_name</th>\n",
       "      <th>reg_date</th>\n",
       "      <th>tariff</th>\n",
       "    </tr>\n",
       "  </thead>\n",
       "  <tbody>\n",
       "    <tr>\n",
       "      <th>0</th>\n",
       "      <td>1000</td>\n",
       "      <td>52</td>\n",
       "      <td>NaN</td>\n",
       "      <td>Краснодар</td>\n",
       "      <td>Рафаил</td>\n",
       "      <td>Верещагин</td>\n",
       "      <td>2018-05-25</td>\n",
       "      <td>ultra</td>\n",
       "    </tr>\n",
       "    <tr>\n",
       "      <th>1</th>\n",
       "      <td>1001</td>\n",
       "      <td>41</td>\n",
       "      <td>NaN</td>\n",
       "      <td>Москва</td>\n",
       "      <td>Иван</td>\n",
       "      <td>Ежов</td>\n",
       "      <td>2018-11-01</td>\n",
       "      <td>smart</td>\n",
       "    </tr>\n",
       "    <tr>\n",
       "      <th>2</th>\n",
       "      <td>1002</td>\n",
       "      <td>59</td>\n",
       "      <td>NaN</td>\n",
       "      <td>Стерлитамак</td>\n",
       "      <td>Евгений</td>\n",
       "      <td>Абрамович</td>\n",
       "      <td>2018-06-17</td>\n",
       "      <td>smart</td>\n",
       "    </tr>\n",
       "    <tr>\n",
       "      <th>3</th>\n",
       "      <td>1003</td>\n",
       "      <td>23</td>\n",
       "      <td>NaN</td>\n",
       "      <td>Москва</td>\n",
       "      <td>Белла</td>\n",
       "      <td>Белякова</td>\n",
       "      <td>2018-08-17</td>\n",
       "      <td>ultra</td>\n",
       "    </tr>\n",
       "    <tr>\n",
       "      <th>4</th>\n",
       "      <td>1004</td>\n",
       "      <td>68</td>\n",
       "      <td>NaN</td>\n",
       "      <td>Новокузнецк</td>\n",
       "      <td>Татьяна</td>\n",
       "      <td>Авдеенко</td>\n",
       "      <td>2018-05-14</td>\n",
       "      <td>ultra</td>\n",
       "    </tr>\n",
       "  </tbody>\n",
       "</table>\n",
       "</div>"
      ],
      "text/plain": [
       "   user_id  age churn_date         city first_name  last_name    reg_date  \\\n",
       "0     1000   52        NaN    Краснодар     Рафаил  Верещагин  2018-05-25   \n",
       "1     1001   41        NaN       Москва       Иван       Ежов  2018-11-01   \n",
       "2     1002   59        NaN  Стерлитамак    Евгений  Абрамович  2018-06-17   \n",
       "3     1003   23        NaN       Москва      Белла   Белякова  2018-08-17   \n",
       "4     1004   68        NaN  Новокузнецк    Татьяна   Авдеенко  2018-05-14   \n",
       "\n",
       "  tariff  \n",
       "0  ultra  \n",
       "1  smart  \n",
       "2  smart  \n",
       "3  ultra  \n",
       "4  ultra  "
      ]
     },
     "metadata": {},
     "output_type": "display_data"
    }
   ],
   "source": [
    "data_info(users)"
   ]
  },
  {
   "cell_type": "markdown",
   "metadata": {},
   "source": [
    "Описание данных датасета users (информация о пользователях):\n",
    "- user_id — уникальный идентификатор пользователя\n",
    "- first_name — имя пользователя\n",
    "- last_name — фамилия пользователя\n",
    "- age — возраст пользователя (годы)\n",
    "- reg_date — дата подключения тарифа (день, месяц, год)\n",
    "- churn_date — дата прекращения пользования тарифом (если значение пропущено, то тариф ещё действовал на момент выгрузки данных)\n",
    "- city — город проживания пользователя\n",
    "- tariff — название тарифного плана"
   ]
  },
  {
   "cell_type": "markdown",
   "metadata": {},
   "source": [
    "### Вывод"
   ]
  },
  {
   "cell_type": "markdown",
   "metadata": {},
   "source": [
    "Была изучена общая информация о полученных данных. Данные состоят из 5 отдельных датасетов, которые были проанализированы отдельно.\n",
    "1. Таблица calls размером в 202607 строк состоит из 4 колонок и содержит данные 3-х типов: float64, int64, object.\n",
    "2. Таблица internet размером в 149396 строк состоит из 4 колонок и содержит данные 3-х типов: float64, int64, object.\n",
    "3. Таблица messages размером в 123036 строк состоит из 3 колонок и содержит данные 2-х типов: int64, object.\n",
    "4. Таблица tariffs размером в 2 строки состоит из 8 колонок и содержит данные 2-х типов: int64, object.\n",
    "5. Таблица users размером в 500 строк состоит из 8 колонок и содержит данные 2-х типов: int64, object."
   ]
  },
  {
   "cell_type": "markdown",
   "metadata": {},
   "source": [
    "# Шаг 2. Предобработка и подготовка данных <a id = \"2.\"> </a>"
   ]
  },
  {
   "cell_type": "markdown",
   "metadata": {},
   "source": [
    "# Шаг 2.1. Предобработка данных <a id = \"2.1.\"> </a>"
   ]
  },
  {
   "cell_type": "markdown",
   "metadata": {},
   "source": [
    "## Датасет calls"
   ]
  },
  {
   "cell_type": "markdown",
   "metadata": {},
   "source": [
    "### Обработка пропусков"
   ]
  },
  {
   "cell_type": "code",
   "execution_count": 7,
   "metadata": {},
   "outputs": [
    {
     "name": "stdout",
     "output_type": "stream",
     "text": [
      "id           0\n",
      "call_date    0\n",
      "duration     0\n",
      "user_id      0\n",
      "dtype: int64\n"
     ]
    }
   ],
   "source": [
    "#посчитаем количество пропусков в колонках\n",
    "print(calls.isnull().sum())"
   ]
  },
  {
   "cell_type": "markdown",
   "metadata": {},
   "source": [
    "Данные не содержат пропусков. Проанализируем значения."
   ]
  },
  {
   "cell_type": "code",
   "execution_count": 8,
   "metadata": {
    "scrolled": true
   },
   "outputs": [
    {
     "data": {
      "text/html": [
       "<div>\n",
       "<style scoped>\n",
       "    .dataframe tbody tr th:only-of-type {\n",
       "        vertical-align: middle;\n",
       "    }\n",
       "\n",
       "    .dataframe tbody tr th {\n",
       "        vertical-align: top;\n",
       "    }\n",
       "\n",
       "    .dataframe thead th {\n",
       "        text-align: right;\n",
       "    }\n",
       "</style>\n",
       "<table border=\"1\" class=\"dataframe\">\n",
       "  <thead>\n",
       "    <tr style=\"text-align: right;\">\n",
       "      <th></th>\n",
       "      <th>duration</th>\n",
       "      <th>user_id</th>\n",
       "    </tr>\n",
       "  </thead>\n",
       "  <tbody>\n",
       "    <tr>\n",
       "      <th>count</th>\n",
       "      <td>202607.000000</td>\n",
       "      <td>202607.000000</td>\n",
       "    </tr>\n",
       "    <tr>\n",
       "      <th>mean</th>\n",
       "      <td>6.755887</td>\n",
       "      <td>1253.940619</td>\n",
       "    </tr>\n",
       "    <tr>\n",
       "      <th>std</th>\n",
       "      <td>5.843365</td>\n",
       "      <td>144.722751</td>\n",
       "    </tr>\n",
       "    <tr>\n",
       "      <th>min</th>\n",
       "      <td>0.000000</td>\n",
       "      <td>1000.000000</td>\n",
       "    </tr>\n",
       "    <tr>\n",
       "      <th>25%</th>\n",
       "      <td>1.300000</td>\n",
       "      <td>1126.000000</td>\n",
       "    </tr>\n",
       "    <tr>\n",
       "      <th>50%</th>\n",
       "      <td>6.000000</td>\n",
       "      <td>1260.000000</td>\n",
       "    </tr>\n",
       "    <tr>\n",
       "      <th>75%</th>\n",
       "      <td>10.700000</td>\n",
       "      <td>1379.000000</td>\n",
       "    </tr>\n",
       "    <tr>\n",
       "      <th>max</th>\n",
       "      <td>38.000000</td>\n",
       "      <td>1499.000000</td>\n",
       "    </tr>\n",
       "  </tbody>\n",
       "</table>\n",
       "</div>"
      ],
      "text/plain": [
       "            duration        user_id\n",
       "count  202607.000000  202607.000000\n",
       "mean        6.755887    1253.940619\n",
       "std         5.843365     144.722751\n",
       "min         0.000000    1000.000000\n",
       "25%         1.300000    1126.000000\n",
       "50%         6.000000    1260.000000\n",
       "75%        10.700000    1379.000000\n",
       "max        38.000000    1499.000000"
      ]
     },
     "metadata": {},
     "output_type": "display_data"
    },
    {
     "name": "stdout",
     "output_type": "stream",
     "text": [
      "1003_99     1\n",
      "1307_31     1\n",
      "1319_396    1\n",
      "1196_540    1\n",
      "1065_626    1\n",
      "           ..\n",
      "1054_552    1\n",
      "1433_139    1\n",
      "1428_2      1\n",
      "1118_610    1\n",
      "1363_984    1\n",
      "Name: id, Length: 202607, dtype: int64\n",
      "2018-12-31    1435\n",
      "2018-12-29    1202\n",
      "2018-12-30    1192\n",
      "2018-12-22    1158\n",
      "2018-12-26    1149\n",
      "              ... \n",
      "2018-01-05      20\n",
      "2018-01-07      18\n",
      "2018-01-02       9\n",
      "2018-01-03       7\n",
      "2018-01-01       5\n",
      "Name: call_date, Length: 365, dtype: int64\n",
      "0.00     39613\n",
      "4.49       142\n",
      "5.50       142\n",
      "6.15       141\n",
      "6.38       141\n",
      "         ...  \n",
      "27.02        1\n",
      "26.19        1\n",
      "25.34        1\n",
      "27.13        1\n",
      "24.28        1\n",
      "Name: duration, Length: 2871, dtype: int64\n",
      "1377    1760\n",
      "1168    1692\n",
      "1375    1560\n",
      "1453    1440\n",
      "1196    1240\n",
      "        ... \n",
      "1397      33\n",
      "1442      28\n",
      "1373      24\n",
      "1016      20\n",
      "1257      14\n",
      "Name: user_id, Length: 492, dtype: int64\n"
     ]
    }
   ],
   "source": [
    "data_values(calls)"
   ]
  },
  {
   "cell_type": "markdown",
   "metadata": {},
   "source": [
    "В данных отсутствуют отрицательные значения, что верно исходя из описания. В данных присутствует информация о 492 пользователях. В колонке duration (длительность звонка в минутах) были обнаружены нулевые значения у большого числа звонков.  "
   ]
  },
  {
   "cell_type": "code",
   "execution_count": 9,
   "metadata": {},
   "outputs": [],
   "source": [
    "# заменим название колонки с id звонком\n",
    "calls.rename(columns={'id': 'id_call'}, inplace=True) "
   ]
  },
  {
   "cell_type": "markdown",
   "metadata": {},
   "source": [
    "Почти четверть всех звонков длились 0 минут. Для дальнейшего анализа необходимо провести предобработку. Проанализируем строки с нулевыми значениями."
   ]
  },
  {
   "cell_type": "code",
   "execution_count": 10,
   "metadata": {
    "scrolled": true
   },
   "outputs": [
    {
     "data": {
      "text/plain": [
       "1377    336\n",
       "1168    308\n",
       "1453    295\n",
       "1375    290\n",
       "1196    262\n",
       "       ... \n",
       "1016      6\n",
       "1084      5\n",
       "1406      5\n",
       "1424      5\n",
       "1442      5\n",
       "Name: user_id, Length: 492, dtype: int64"
      ]
     },
     "execution_count": 10,
     "metadata": {},
     "output_type": "execute_result"
    }
   ],
   "source": [
    "calls.query('duration == 0')['user_id'].value_counts()"
   ]
  },
  {
   "cell_type": "markdown",
   "metadata": {},
   "source": [
    "Звонки с нулевой длительностью присутствуют практически у всех пользователей."
   ]
  },
  {
   "cell_type": "code",
   "execution_count": 11,
   "metadata": {
    "scrolled": true
   },
   "outputs": [
    {
     "data": {
      "image/png": "[encoded data removed]",
      "text/plain": [
       "<Figure size 1080x720 with 1 Axes>"
      ]
     },
     "metadata": {
      "needs_background": "light"
     },
     "output_type": "display_data"
    }
   ],
   "source": [
    "histogram(calls.query('duration == 0')['user_id'].value_counts(), 50, True)"
   ]
  },
  {
   "cell_type": "markdown",
   "metadata": {},
   "source": [
    "Заполним нули медианной длительность звонка по каждому пользователю."
   ]
  },
  {
   "cell_type": "code",
   "execution_count": 12,
   "metadata": {},
   "outputs": [],
   "source": [
    "calls_group_user = calls.groupby('user_id')\n",
    "calls['duration'] = calls_group_user.duration.apply(lambda x: x.replace(0, x.median()))"
   ]
  },
  {
   "cell_type": "markdown",
   "metadata": {},
   "source": [
    "### Замена типа данных"
   ]
  },
  {
   "cell_type": "markdown",
   "metadata": {},
   "source": [
    "Колонка call_date содержащая даты звонков имеет тип object. Преобразуем ее тип в datetime для проведения дальнейшего анализа и обработки."
   ]
  },
  {
   "cell_type": "code",
   "execution_count": 13,
   "metadata": {},
   "outputs": [],
   "source": [
    "calls['call_date'] = pd.to_datetime(calls['call_date'], format = '%Y-%m-%d')"
   ]
  },
  {
   "cell_type": "markdown",
   "metadata": {},
   "source": [
    "### Обработка дубликатов"
   ]
  },
  {
   "cell_type": "code",
   "execution_count": 14,
   "metadata": {},
   "outputs": [
    {
     "name": "stdout",
     "output_type": "stream",
     "text": [
      "Количество найденных дубликатов: 0\n"
     ]
    }
   ],
   "source": [
    "data_dublicates(calls)"
   ]
  },
  {
   "cell_type": "markdown",
   "metadata": {},
   "source": [
    "### Вывод"
   ]
  },
  {
   "cell_type": "markdown",
   "metadata": {},
   "source": [
    "В датасете не было обнаружено пропусков и дубликатов. Колонка с датами была приведена к соответствующему типу. Нулевы значения в колонке duration были заполены медианными по пользователям."
   ]
  },
  {
   "cell_type": "markdown",
   "metadata": {},
   "source": [
    "## Датасет internet"
   ]
  },
  {
   "cell_type": "markdown",
   "metadata": {},
   "source": [
    "### Обработка пропусков"
   ]
  },
  {
   "cell_type": "code",
   "execution_count": 15,
   "metadata": {
    "scrolled": false
   },
   "outputs": [
    {
     "name": "stdout",
     "output_type": "stream",
     "text": [
      "id              0\n",
      "mb_used         0\n",
      "session_date    0\n",
      "user_id         0\n",
      "dtype: int64\n"
     ]
    }
   ],
   "source": [
    "#посчитаем количество пропусков в колонках\n",
    "print(internet.isnull().sum())"
   ]
  },
  {
   "cell_type": "markdown",
   "metadata": {},
   "source": [
    "Данные не содержат пропусков. Проанализируем значения."
   ]
  },
  {
   "cell_type": "code",
   "execution_count": 16,
   "metadata": {
    "scrolled": false
   },
   "outputs": [
    {
     "data": {
      "text/html": [
       "<div>\n",
       "<style scoped>\n",
       "    .dataframe tbody tr th:only-of-type {\n",
       "        vertical-align: middle;\n",
       "    }\n",
       "\n",
       "    .dataframe tbody tr th {\n",
       "        vertical-align: top;\n",
       "    }\n",
       "\n",
       "    .dataframe thead th {\n",
       "        text-align: right;\n",
       "    }\n",
       "</style>\n",
       "<table border=\"1\" class=\"dataframe\">\n",
       "  <thead>\n",
       "    <tr style=\"text-align: right;\">\n",
       "      <th></th>\n",
       "      <th>mb_used</th>\n",
       "      <th>user_id</th>\n",
       "    </tr>\n",
       "  </thead>\n",
       "  <tbody>\n",
       "    <tr>\n",
       "      <th>count</th>\n",
       "      <td>149396.000000</td>\n",
       "      <td>149396.000000</td>\n",
       "    </tr>\n",
       "    <tr>\n",
       "      <th>mean</th>\n",
       "      <td>370.192426</td>\n",
       "      <td>1252.099842</td>\n",
       "    </tr>\n",
       "    <tr>\n",
       "      <th>std</th>\n",
       "      <td>278.300951</td>\n",
       "      <td>144.050823</td>\n",
       "    </tr>\n",
       "    <tr>\n",
       "      <th>min</th>\n",
       "      <td>0.000000</td>\n",
       "      <td>1000.000000</td>\n",
       "    </tr>\n",
       "    <tr>\n",
       "      <th>25%</th>\n",
       "      <td>138.187500</td>\n",
       "      <td>1130.000000</td>\n",
       "    </tr>\n",
       "    <tr>\n",
       "      <th>50%</th>\n",
       "      <td>348.015000</td>\n",
       "      <td>1251.000000</td>\n",
       "    </tr>\n",
       "    <tr>\n",
       "      <th>75%</th>\n",
       "      <td>559.552500</td>\n",
       "      <td>1380.000000</td>\n",
       "    </tr>\n",
       "    <tr>\n",
       "      <th>max</th>\n",
       "      <td>1724.830000</td>\n",
       "      <td>1499.000000</td>\n",
       "    </tr>\n",
       "  </tbody>\n",
       "</table>\n",
       "</div>"
      ],
      "text/plain": [
       "             mb_used        user_id\n",
       "count  149396.000000  149396.000000\n",
       "mean      370.192426    1252.099842\n",
       "std       278.300951     144.050823\n",
       "min         0.000000    1000.000000\n",
       "25%       138.187500    1130.000000\n",
       "50%       348.015000    1251.000000\n",
       "75%       559.552500    1380.000000\n",
       "max      1724.830000    1499.000000"
      ]
     },
     "metadata": {},
     "output_type": "display_data"
    },
    {
     "name": "stdout",
     "output_type": "stream",
     "text": [
      "1185_289    1\n",
      "1465_232    1\n",
      "1098_422    1\n",
      "1418_45     1\n",
      "1381_374    1\n",
      "           ..\n",
      "1138_395    1\n",
      "1224_241    1\n",
      "1014_448    1\n",
      "1427_211    1\n",
      "1102_379    1\n",
      "Name: id, Length: 149396, dtype: int64\n",
      "0.00      19598\n",
      "197.56        9\n",
      "447.30        9\n",
      "335.91        9\n",
      "108.95        8\n",
      "          ...  \n",
      "72.49         1\n",
      "846.22        1\n",
      "429.17        1\n",
      "899.03        1\n",
      "483.87        1\n",
      "Name: mb_used, Length: 70003, dtype: int64\n",
      "2018-12-31    1057\n",
      "2018-12-30     903\n",
      "2018-12-25     859\n",
      "2018-12-26     844\n",
      "2018-12-22     834\n",
      "              ... \n",
      "2018-01-05      14\n",
      "2018-01-04       9\n",
      "2018-01-03       6\n",
      "2018-01-02       3\n",
      "2018-01-01       3\n",
      "Name: session_date, Length: 365, dtype: int64\n",
      "1496    834\n",
      "1227    812\n",
      "1204    789\n",
      "1240    764\n",
      "1251    759\n",
      "       ... \n",
      "1151     35\n",
      "1467     27\n",
      "1343     26\n",
      "1192     22\n",
      "1399      8\n",
      "Name: user_id, Length: 497, dtype: int64\n"
     ]
    }
   ],
   "source": [
    "data_values(internet)"
   ]
  },
  {
   "cell_type": "markdown",
   "metadata": {},
   "source": [
    "В данных отсутствуют отрицательные значения, что верно исходя из описания данных. В данных присутствует информация о 492 пользователях. В колонке mb_used (объём потраченного за сессию интернет-трафика (в мегабайтах)) было обнаружено большое количество нулевых значений."
   ]
  },
  {
   "cell_type": "markdown",
   "metadata": {},
   "source": [
    "Больше 1/10 всех интернет сессий были с нулевым трафиком. Для дальнейшего анализа необходимо провести предобработку. Проанализируем строки с нулевыми значениями в колонке с потраченным интернет трафиком."
   ]
  },
  {
   "cell_type": "code",
   "execution_count": 17,
   "metadata": {
    "scrolled": true
   },
   "outputs": [
    {
     "data": {
      "text/plain": [
       "1204    144\n",
       "1496    141\n",
       "1429    125\n",
       "1119    124\n",
       "1227    121\n",
       "       ... \n",
       "1084      1\n",
       "1192      1\n",
       "1201      1\n",
       "1016      1\n",
       "1467      1\n",
       "Name: user_id, Length: 494, dtype: int64"
      ]
     },
     "execution_count": 17,
     "metadata": {},
     "output_type": "execute_result"
    }
   ],
   "source": [
    "internet.query('mb_used == 0')['user_id'].value_counts()"
   ]
  },
  {
   "cell_type": "markdown",
   "metadata": {},
   "source": [
    "Интернет сессии с нулевым трафиком присутствуют практически у всех пользователей."
   ]
  },
  {
   "cell_type": "code",
   "execution_count": 18,
   "metadata": {
    "scrolled": true
   },
   "outputs": [
    {
     "data": {
      "image/png": "[encoded data removed]",
      "text/plain": [
       "<Figure size 1080x720 with 1 Axes>"
      ]
     },
     "metadata": {
      "needs_background": "light"
     },
     "output_type": "display_data"
    }
   ],
   "source": [
    "histogram(internet.query('mb_used == 0')['user_id'].value_counts(), 50, True)"
   ]
  },
  {
   "cell_type": "markdown",
   "metadata": {},
   "source": [
    "Заполним нулевые значения медианным интернет трафиком по каждому пользователю."
   ]
  },
  {
   "cell_type": "code",
   "execution_count": 19,
   "metadata": {},
   "outputs": [],
   "source": [
    "internet_group_user = internet.groupby('user_id')\n",
    "internet['mb_used'] = internet_group_user.mb_used.apply(lambda x: x.replace(0, x.median()))"
   ]
  },
  {
   "cell_type": "markdown",
   "metadata": {},
   "source": [
    "### Замена типа данных"
   ]
  },
  {
   "cell_type": "markdown",
   "metadata": {},
   "source": [
    "Колонка mb_used содержащая даты интернет-сессиий имеет тип object. Преобразуем ее тип в datetime для проведения дальнейшего анализа и обработки."
   ]
  },
  {
   "cell_type": "code",
   "execution_count": 20,
   "metadata": {},
   "outputs": [],
   "source": [
    "internet['session_date'] = pd.to_datetime(internet['session_date'], format = '%Y-%m-%d')"
   ]
  },
  {
   "cell_type": "markdown",
   "metadata": {},
   "source": [
    "### Обработка дубликатов"
   ]
  },
  {
   "cell_type": "code",
   "execution_count": 21,
   "metadata": {},
   "outputs": [
    {
     "name": "stdout",
     "output_type": "stream",
     "text": [
      "Количество найденных дубликатов: 0\n"
     ]
    }
   ],
   "source": [
    "data_dublicates(internet)"
   ]
  },
  {
   "cell_type": "markdown",
   "metadata": {},
   "source": [
    "### Вывод"
   ]
  },
  {
   "cell_type": "markdown",
   "metadata": {},
   "source": [
    "В датасете не было обнаружено пропусков и дубликатов. Колонка с датами была приведена к соответствующему типу. Нулевые значения в колонке mb_used были заполнены медианными по пользователям."
   ]
  },
  {
   "cell_type": "markdown",
   "metadata": {},
   "source": [
    "## Датасет messages"
   ]
  },
  {
   "cell_type": "markdown",
   "metadata": {},
   "source": [
    "### Обработка пропусков"
   ]
  },
  {
   "cell_type": "code",
   "execution_count": 22,
   "metadata": {
    "scrolled": true
   },
   "outputs": [
    {
     "name": "stdout",
     "output_type": "stream",
     "text": [
      "id              0\n",
      "message_date    0\n",
      "user_id         0\n",
      "dtype: int64\n"
     ]
    }
   ],
   "source": [
    "#посчитаем количество пропусков в колонках\n",
    "print(messages.isnull().sum())"
   ]
  },
  {
   "cell_type": "markdown",
   "metadata": {},
   "source": [
    "Данные не содержат пропусков. Проанализируем значения."
   ]
  },
  {
   "cell_type": "code",
   "execution_count": 23,
   "metadata": {
    "scrolled": false
   },
   "outputs": [
    {
     "data": {
      "text/html": [
       "<div>\n",
       "<style scoped>\n",
       "    .dataframe tbody tr th:only-of-type {\n",
       "        vertical-align: middle;\n",
       "    }\n",
       "\n",
       "    .dataframe tbody tr th {\n",
       "        vertical-align: top;\n",
       "    }\n",
       "\n",
       "    .dataframe thead th {\n",
       "        text-align: right;\n",
       "    }\n",
       "</style>\n",
       "<table border=\"1\" class=\"dataframe\">\n",
       "  <thead>\n",
       "    <tr style=\"text-align: right;\">\n",
       "      <th></th>\n",
       "      <th>user_id</th>\n",
       "    </tr>\n",
       "  </thead>\n",
       "  <tbody>\n",
       "    <tr>\n",
       "      <th>count</th>\n",
       "      <td>123036.000000</td>\n",
       "    </tr>\n",
       "    <tr>\n",
       "      <th>mean</th>\n",
       "      <td>1256.989410</td>\n",
       "    </tr>\n",
       "    <tr>\n",
       "      <th>std</th>\n",
       "      <td>143.523967</td>\n",
       "    </tr>\n",
       "    <tr>\n",
       "      <th>min</th>\n",
       "      <td>1000.000000</td>\n",
       "    </tr>\n",
       "    <tr>\n",
       "      <th>25%</th>\n",
       "      <td>1134.000000</td>\n",
       "    </tr>\n",
       "    <tr>\n",
       "      <th>50%</th>\n",
       "      <td>1271.000000</td>\n",
       "    </tr>\n",
       "    <tr>\n",
       "      <th>75%</th>\n",
       "      <td>1381.000000</td>\n",
       "    </tr>\n",
       "    <tr>\n",
       "      <th>max</th>\n",
       "      <td>1499.000000</td>\n",
       "    </tr>\n",
       "  </tbody>\n",
       "</table>\n",
       "</div>"
      ],
      "text/plain": [
       "             user_id\n",
       "count  123036.000000\n",
       "mean     1256.989410\n",
       "std       143.523967\n",
       "min      1000.000000\n",
       "25%      1134.000000\n",
       "50%      1271.000000\n",
       "75%      1381.000000\n",
       "max      1499.000000"
      ]
     },
     "metadata": {},
     "output_type": "display_data"
    },
    {
     "name": "stdout",
     "output_type": "stream",
     "text": [
      "1003_99     1\n",
      "1359_31     1\n",
      "1060_56     1\n",
      "1468_8      1\n",
      "1400_131    1\n",
      "           ..\n",
      "1183_132    1\n",
      "1496_408    1\n",
      "1272_224    1\n",
      "1226_244    1\n",
      "1404_229    1\n",
      "Name: id, Length: 123036, dtype: int64\n",
      "2018-12-31    859\n",
      "2018-12-30    765\n",
      "2018-12-21    712\n",
      "2018-12-29    702\n",
      "2018-12-26    699\n",
      "             ... \n",
      "2018-01-07     12\n",
      "2018-01-04     10\n",
      "2018-01-02     10\n",
      "2018-01-05     10\n",
      "2018-01-03      4\n",
      "Name: message_date, Length: 364, dtype: int64\n",
      "1277    1463\n",
      "1089    1408\n",
      "1231    1384\n",
      "1385    1380\n",
      "1356    1224\n",
      "        ... \n",
      "1389       6\n",
      "1279       5\n",
      "1074       3\n",
      "1159       2\n",
      "1141       1\n",
      "Name: user_id, Length: 426, dtype: int64\n"
     ]
    }
   ],
   "source": [
    "data_values(messages)"
   ]
  },
  {
   "cell_type": "code",
   "execution_count": 24,
   "metadata": {},
   "outputs": [],
   "source": [
    "# заменим название колонки с id сообщения\n",
    "messages.rename(columns={'id': 'id_message'}, inplace=True) "
   ]
  },
  {
   "cell_type": "markdown",
   "metadata": {},
   "source": [
    "В данных отсутствуют отрицательные значения, что верно исходя из описания данных. В данных присутствует информация о 426 пользователях."
   ]
  },
  {
   "cell_type": "markdown",
   "metadata": {},
   "source": [
    "### Замена типа данных"
   ]
  },
  {
   "cell_type": "markdown",
   "metadata": {},
   "source": [
    "Колонка message_date содержащая даты сообщений имеет тип object. Преобразуем ее тип в datetime для проведения дальнейшего анализа и обработки."
   ]
  },
  {
   "cell_type": "code",
   "execution_count": 25,
   "metadata": {},
   "outputs": [],
   "source": [
    "messages['message_date'] = pd.to_datetime(messages['message_date'], format = '%Y-%m-%d')"
   ]
  },
  {
   "cell_type": "markdown",
   "metadata": {},
   "source": [
    "### Обработка дубликатов"
   ]
  },
  {
   "cell_type": "code",
   "execution_count": 26,
   "metadata": {},
   "outputs": [
    {
     "name": "stdout",
     "output_type": "stream",
     "text": [
      "Количество найденных дубликатов: 0\n"
     ]
    }
   ],
   "source": [
    "data_dublicates(messages)"
   ]
  },
  {
   "cell_type": "markdown",
   "metadata": {},
   "source": [
    "### Вывод"
   ]
  },
  {
   "cell_type": "markdown",
   "metadata": {},
   "source": [
    "В датасете не было обнаружено пропусков и дубликатов. Колонка с датами была приведена к соответствующему типу."
   ]
  },
  {
   "cell_type": "markdown",
   "metadata": {},
   "source": [
    "## Датасет tariffs"
   ]
  },
  {
   "cell_type": "markdown",
   "metadata": {},
   "source": [
    "### Обработка пропусков"
   ]
  },
  {
   "cell_type": "code",
   "execution_count": 27,
   "metadata": {
    "scrolled": true
   },
   "outputs": [
    {
     "name": "stdout",
     "output_type": "stream",
     "text": [
      "messages_included        0\n",
      "mg_per_month_included    0\n",
      "minutes_included         0\n",
      "rub_monthly_fee          0\n",
      "rub_per_gb               0\n",
      "rub_per_message          0\n",
      "rub_per_minute           0\n",
      "tariff_name              0\n",
      "dtype: int64\n"
     ]
    }
   ],
   "source": [
    "#посчитаем количество пропусков в колонках\n",
    "print(tariffs.isnull().sum())"
   ]
  },
  {
   "cell_type": "markdown",
   "metadata": {},
   "source": [
    "Данные не содержат пропусков. Проанализируем значения."
   ]
  },
  {
   "cell_type": "code",
   "execution_count": 28,
   "metadata": {
    "scrolled": true
   },
   "outputs": [
    {
     "data": {
      "text/html": [
       "<div>\n",
       "<style scoped>\n",
       "    .dataframe tbody tr th:only-of-type {\n",
       "        vertical-align: middle;\n",
       "    }\n",
       "\n",
       "    .dataframe tbody tr th {\n",
       "        vertical-align: top;\n",
       "    }\n",
       "\n",
       "    .dataframe thead th {\n",
       "        text-align: right;\n",
       "    }\n",
       "</style>\n",
       "<table border=\"1\" class=\"dataframe\">\n",
       "  <thead>\n",
       "    <tr style=\"text-align: right;\">\n",
       "      <th></th>\n",
       "      <th>messages_included</th>\n",
       "      <th>mg_per_month_included</th>\n",
       "      <th>minutes_included</th>\n",
       "      <th>rub_monthly_fee</th>\n",
       "      <th>rub_per_gb</th>\n",
       "      <th>rub_per_message</th>\n",
       "      <th>rub_per_minute</th>\n",
       "    </tr>\n",
       "  </thead>\n",
       "  <tbody>\n",
       "    <tr>\n",
       "      <th>count</th>\n",
       "      <td>2.000000</td>\n",
       "      <td>2.000000</td>\n",
       "      <td>2.000000</td>\n",
       "      <td>2.000000</td>\n",
       "      <td>2.000000</td>\n",
       "      <td>2.000000</td>\n",
       "      <td>2.000000</td>\n",
       "    </tr>\n",
       "    <tr>\n",
       "      <th>mean</th>\n",
       "      <td>525.000000</td>\n",
       "      <td>23040.000000</td>\n",
       "      <td>1750.000000</td>\n",
       "      <td>1250.000000</td>\n",
       "      <td>175.000000</td>\n",
       "      <td>2.000000</td>\n",
       "      <td>2.000000</td>\n",
       "    </tr>\n",
       "    <tr>\n",
       "      <th>std</th>\n",
       "      <td>671.751442</td>\n",
       "      <td>10861.160159</td>\n",
       "      <td>1767.766953</td>\n",
       "      <td>989.949494</td>\n",
       "      <td>35.355339</td>\n",
       "      <td>1.414214</td>\n",
       "      <td>1.414214</td>\n",
       "    </tr>\n",
       "    <tr>\n",
       "      <th>min</th>\n",
       "      <td>50.000000</td>\n",
       "      <td>15360.000000</td>\n",
       "      <td>500.000000</td>\n",
       "      <td>550.000000</td>\n",
       "      <td>150.000000</td>\n",
       "      <td>1.000000</td>\n",
       "      <td>1.000000</td>\n",
       "    </tr>\n",
       "    <tr>\n",
       "      <th>25%</th>\n",
       "      <td>287.500000</td>\n",
       "      <td>19200.000000</td>\n",
       "      <td>1125.000000</td>\n",
       "      <td>900.000000</td>\n",
       "      <td>162.500000</td>\n",
       "      <td>1.500000</td>\n",
       "      <td>1.500000</td>\n",
       "    </tr>\n",
       "    <tr>\n",
       "      <th>50%</th>\n",
       "      <td>525.000000</td>\n",
       "      <td>23040.000000</td>\n",
       "      <td>1750.000000</td>\n",
       "      <td>1250.000000</td>\n",
       "      <td>175.000000</td>\n",
       "      <td>2.000000</td>\n",
       "      <td>2.000000</td>\n",
       "    </tr>\n",
       "    <tr>\n",
       "      <th>75%</th>\n",
       "      <td>762.500000</td>\n",
       "      <td>26880.000000</td>\n",
       "      <td>2375.000000</td>\n",
       "      <td>1600.000000</td>\n",
       "      <td>187.500000</td>\n",
       "      <td>2.500000</td>\n",
       "      <td>2.500000</td>\n",
       "    </tr>\n",
       "    <tr>\n",
       "      <th>max</th>\n",
       "      <td>1000.000000</td>\n",
       "      <td>30720.000000</td>\n",
       "      <td>3000.000000</td>\n",
       "      <td>1950.000000</td>\n",
       "      <td>200.000000</td>\n",
       "      <td>3.000000</td>\n",
       "      <td>3.000000</td>\n",
       "    </tr>\n",
       "  </tbody>\n",
       "</table>\n",
       "</div>"
      ],
      "text/plain": [
       "       messages_included  mg_per_month_included  minutes_included  \\\n",
       "count           2.000000               2.000000          2.000000   \n",
       "mean          525.000000           23040.000000       1750.000000   \n",
       "std           671.751442           10861.160159       1767.766953   \n",
       "min            50.000000           15360.000000        500.000000   \n",
       "25%           287.500000           19200.000000       1125.000000   \n",
       "50%           525.000000           23040.000000       1750.000000   \n",
       "75%           762.500000           26880.000000       2375.000000   \n",
       "max          1000.000000           30720.000000       3000.000000   \n",
       "\n",
       "       rub_monthly_fee  rub_per_gb  rub_per_message  rub_per_minute  \n",
       "count         2.000000    2.000000         2.000000        2.000000  \n",
       "mean       1250.000000  175.000000         2.000000        2.000000  \n",
       "std         989.949494   35.355339         1.414214        1.414214  \n",
       "min         550.000000  150.000000         1.000000        1.000000  \n",
       "25%         900.000000  162.500000         1.500000        1.500000  \n",
       "50%        1250.000000  175.000000         2.000000        2.000000  \n",
       "75%        1600.000000  187.500000         2.500000        2.500000  \n",
       "max        1950.000000  200.000000         3.000000        3.000000  "
      ]
     },
     "metadata": {},
     "output_type": "display_data"
    },
    {
     "name": "stdout",
     "output_type": "stream",
     "text": [
      "50      1\n",
      "1000    1\n",
      "Name: messages_included, dtype: int64\n",
      "30720    1\n",
      "15360    1\n",
      "Name: mg_per_month_included, dtype: int64\n",
      "3000    1\n",
      "500     1\n",
      "Name: minutes_included, dtype: int64\n",
      "550     1\n",
      "1950    1\n",
      "Name: rub_monthly_fee, dtype: int64\n",
      "150    1\n",
      "200    1\n",
      "Name: rub_per_gb, dtype: int64\n",
      "3    1\n",
      "1    1\n",
      "Name: rub_per_message, dtype: int64\n",
      "3    1\n",
      "1    1\n",
      "Name: rub_per_minute, dtype: int64\n",
      "smart    1\n",
      "ultra    1\n",
      "Name: tariff_name, dtype: int64\n"
     ]
    }
   ],
   "source": [
    "data_values(tariffs)"
   ]
  },
  {
   "cell_type": "markdown",
   "metadata": {},
   "source": [
    "В данных отсутствуют отрицательные значения, что верно исходя из описания данных. Также все колонки имеют только по 2 варианта, что верно, так как мы имеем дело с 2-мя видами тарифов."
   ]
  },
  {
   "cell_type": "markdown",
   "metadata": {},
   "source": [
    "### Замена типа данных"
   ]
  },
  {
   "cell_type": "markdown",
   "metadata": {},
   "source": [
    "Нет необходимости в замене типов данных."
   ]
  },
  {
   "cell_type": "markdown",
   "metadata": {},
   "source": [
    "### Обработка дубликатов"
   ]
  },
  {
   "cell_type": "code",
   "execution_count": 29,
   "metadata": {},
   "outputs": [
    {
     "name": "stdout",
     "output_type": "stream",
     "text": [
      "Количество найденных дубликатов: 0\n"
     ]
    }
   ],
   "source": [
    "data_dublicates(tariffs)"
   ]
  },
  {
   "cell_type": "markdown",
   "metadata": {},
   "source": [
    "### Вывод"
   ]
  },
  {
   "cell_type": "markdown",
   "metadata": {},
   "source": [
    "В датасете не было обнаружено пропусков и дубликатов."
   ]
  },
  {
   "cell_type": "markdown",
   "metadata": {},
   "source": [
    "## Датасет users"
   ]
  },
  {
   "cell_type": "markdown",
   "metadata": {},
   "source": [
    "### Обработка пропусков"
   ]
  },
  {
   "cell_type": "code",
   "execution_count": 30,
   "metadata": {
    "scrolled": false
   },
   "outputs": [
    {
     "name": "stdout",
     "output_type": "stream",
     "text": [
      "user_id         0\n",
      "age             0\n",
      "churn_date    462\n",
      "city            0\n",
      "first_name      0\n",
      "last_name       0\n",
      "reg_date        0\n",
      "tariff          0\n",
      "dtype: int64\n"
     ]
    }
   ],
   "source": [
    "#посчитаем количество пропусков в колонках\n",
    "print(users.isnull().sum())"
   ]
  },
  {
   "cell_type": "markdown",
   "metadata": {},
   "source": [
    "Обнаружено 462 пропуска в колонке churn_date. Проанализируем значения."
   ]
  },
  {
   "cell_type": "code",
   "execution_count": 31,
   "metadata": {},
   "outputs": [
    {
     "data": {
      "text/html": [
       "<div>\n",
       "<style scoped>\n",
       "    .dataframe tbody tr th:only-of-type {\n",
       "        vertical-align: middle;\n",
       "    }\n",
       "\n",
       "    .dataframe tbody tr th {\n",
       "        vertical-align: top;\n",
       "    }\n",
       "\n",
       "    .dataframe thead th {\n",
       "        text-align: right;\n",
       "    }\n",
       "</style>\n",
       "<table border=\"1\" class=\"dataframe\">\n",
       "  <thead>\n",
       "    <tr style=\"text-align: right;\">\n",
       "      <th></th>\n",
       "      <th>user_id</th>\n",
       "      <th>age</th>\n",
       "    </tr>\n",
       "  </thead>\n",
       "  <tbody>\n",
       "    <tr>\n",
       "      <th>count</th>\n",
       "      <td>500.000000</td>\n",
       "      <td>500.00000</td>\n",
       "    </tr>\n",
       "    <tr>\n",
       "      <th>mean</th>\n",
       "      <td>1249.500000</td>\n",
       "      <td>46.58800</td>\n",
       "    </tr>\n",
       "    <tr>\n",
       "      <th>std</th>\n",
       "      <td>144.481833</td>\n",
       "      <td>16.66763</td>\n",
       "    </tr>\n",
       "    <tr>\n",
       "      <th>min</th>\n",
       "      <td>1000.000000</td>\n",
       "      <td>18.00000</td>\n",
       "    </tr>\n",
       "    <tr>\n",
       "      <th>25%</th>\n",
       "      <td>1124.750000</td>\n",
       "      <td>32.00000</td>\n",
       "    </tr>\n",
       "    <tr>\n",
       "      <th>50%</th>\n",
       "      <td>1249.500000</td>\n",
       "      <td>46.00000</td>\n",
       "    </tr>\n",
       "    <tr>\n",
       "      <th>75%</th>\n",
       "      <td>1374.250000</td>\n",
       "      <td>62.00000</td>\n",
       "    </tr>\n",
       "    <tr>\n",
       "      <th>max</th>\n",
       "      <td>1499.000000</td>\n",
       "      <td>75.00000</td>\n",
       "    </tr>\n",
       "  </tbody>\n",
       "</table>\n",
       "</div>"
      ],
      "text/plain": [
       "           user_id        age\n",
       "count   500.000000  500.00000\n",
       "mean   1249.500000   46.58800\n",
       "std     144.481833   16.66763\n",
       "min    1000.000000   18.00000\n",
       "25%    1124.750000   32.00000\n",
       "50%    1249.500000   46.00000\n",
       "75%    1374.250000   62.00000\n",
       "max    1499.000000   75.00000"
      ]
     },
     "metadata": {},
     "output_type": "display_data"
    },
    {
     "name": "stdout",
     "output_type": "stream",
     "text": [
      "1023    1\n",
      "1194    1\n",
      "1181    1\n",
      "1182    1\n",
      "1183    1\n",
      "       ..\n",
      "1362    1\n",
      "1363    1\n",
      "1364    1\n",
      "1365    1\n",
      "1024    1\n",
      "Name: user_id, Length: 500, dtype: int64\n",
      "53    14\n",
      "42    14\n",
      "63    13\n",
      "71    13\n",
      "64    13\n",
      "73    12\n",
      "21    12\n",
      "40    12\n",
      "39    11\n",
      "47    11\n",
      "29    11\n",
      "26    11\n",
      "37    11\n",
      "41    10\n",
      "36    10\n",
      "58    10\n",
      "45    10\n",
      "70    10\n",
      "52    10\n",
      "51     9\n",
      "27     9\n",
      "48     9\n",
      "50     9\n",
      "28     9\n",
      "30     9\n",
      "24     9\n",
      "20     9\n",
      "19     9\n",
      "56     9\n",
      "23     9\n",
      "68     9\n",
      "66     9\n",
      "65     9\n",
      "69     8\n",
      "62     8\n",
      "60     8\n",
      "44     8\n",
      "55     8\n",
      "25     7\n",
      "43     7\n",
      "67     7\n",
      "35     7\n",
      "74     7\n",
      "32     7\n",
      "31     7\n",
      "46     7\n",
      "75     6\n",
      "54     6\n",
      "59     6\n",
      "18     6\n",
      "33     5\n",
      "34     5\n",
      "38     5\n",
      "22     5\n",
      "72     5\n",
      "49     4\n",
      "57     4\n",
      "61     3\n",
      "Name: age, dtype: int64\n",
      "2018-12-03    2\n",
      "2018-12-21    2\n",
      "2018-10-14    2\n",
      "2018-10-03    2\n",
      "2018-12-09    2\n",
      "2018-12-25    1\n",
      "2018-09-02    1\n",
      "2018-10-04    1\n",
      "2018-11-26    1\n",
      "2018-10-25    1\n",
      "2018-12-11    1\n",
      "2018-12-18    1\n",
      "2018-09-27    1\n",
      "2018-11-07    1\n",
      "2018-12-16    1\n",
      "2018-11-16    1\n",
      "2018-09-26    1\n",
      "2018-11-27    1\n",
      "2018-11-30    1\n",
      "2018-08-17    1\n",
      "2018-12-24    1\n",
      "2018-10-27    1\n",
      "2018-12-14    1\n",
      "2018-12-30    1\n",
      "2018-12-20    1\n",
      "2018-10-05    1\n",
      "2018-11-21    1\n",
      "2018-11-22    1\n",
      "2018-10-28    1\n",
      "2018-12-23    1\n",
      "2018-12-26    1\n",
      "2018-08-31    1\n",
      "2018-11-13    1\n",
      "Name: churn_date, dtype: int64\n",
      "Москва             99\n",
      "Санкт-Петербург    39\n",
      "Новосибирск        16\n",
      "Омск               14\n",
      "Казань             14\n",
      "                   ..\n",
      "Нижневартовск       1\n",
      "Химки               1\n",
      "Архангельск         1\n",
      "Подольск            1\n",
      "Иваново             1\n",
      "Name: city, Length: 76, dtype: int64\n",
      "Радим      6\n",
      "Пётр       5\n",
      "Леонид     5\n",
      "Леон       4\n",
      "Андрей     4\n",
      "          ..\n",
      "Рустем     1\n",
      "Николай    1\n",
      "Ева        1\n",
      "Зинаида    1\n",
      "Гарри      1\n",
      "Name: first_name, Length: 246, dtype: int64\n",
      "Андреенко     5\n",
      "Аркадьев      3\n",
      "Анищенко      3\n",
      "Соловьев      3\n",
      "Березина      3\n",
      "             ..\n",
      "Евсеев        1\n",
      "Литвинов      1\n",
      "Авросинова    1\n",
      "Измайлова     1\n",
      "Ахмедов       1\n",
      "Name: last_name, Length: 419, dtype: int64\n",
      "2018-05-28    8\n",
      "2018-07-16    5\n",
      "2018-11-16    5\n",
      "2018-10-05    5\n",
      "2018-01-04    5\n",
      "             ..\n",
      "2018-12-17    1\n",
      "2018-07-25    1\n",
      "2018-03-19    1\n",
      "2018-07-30    1\n",
      "2018-05-27    1\n",
      "Name: reg_date, Length: 270, dtype: int64\n",
      "smart    351\n",
      "ultra    149\n",
      "Name: tariff, dtype: int64\n"
     ]
    }
   ],
   "source": [
    "data_values(users)"
   ]
  },
  {
   "cell_type": "markdown",
   "metadata": {},
   "source": [
    "В данных отсутствуют отрицательные значения, что верно исходя из описания данных. Согласно описанию churn_date — дата прекращения пользования тарифом. Если значение пропущено, то тариф ещё действовал на момент выгрузки данных. Внесем соответсвующие корректировки."
   ]
  },
  {
   "cell_type": "code",
   "execution_count": 32,
   "metadata": {},
   "outputs": [],
   "source": [
    "users['churn_date'] = users['churn_date'].fillna('2018-12-31')"
   ]
  },
  {
   "cell_type": "markdown",
   "metadata": {},
   "source": [
    "Также мы видим, что общее количество уникальных пользователей составляет 500 человек. В отличие от другие датасетов, в которых количество варьируется. Это означает, что по каким то пользователям в дальнейшем не удастся сопоставить информацию либо частнично, либо полностью."
   ]
  },
  {
   "cell_type": "markdown",
   "metadata": {},
   "source": [
    "### Замена типа данных"
   ]
  },
  {
   "cell_type": "markdown",
   "metadata": {},
   "source": [
    "Колонка reg_date содержащая даты подключения тарифов имеет тип object. Также колонка churn_date содержащая даты прекращения пользования тарифом имеет тип object. Преобразуем их тип в datetime для проведения дальнейшего анализа и обработки."
   ]
  },
  {
   "cell_type": "code",
   "execution_count": 33,
   "metadata": {},
   "outputs": [],
   "source": [
    "users['reg_date'] = pd.to_datetime(users['reg_date'], format = '%Y-%m-%d')\n",
    "users['churn_date'] = pd.to_datetime(users['churn_date'], format = '%Y-%m-%d')"
   ]
  },
  {
   "cell_type": "markdown",
   "metadata": {},
   "source": [
    "### Обработка дубликатов"
   ]
  },
  {
   "cell_type": "code",
   "execution_count": 34,
   "metadata": {},
   "outputs": [
    {
     "name": "stdout",
     "output_type": "stream",
     "text": [
      "Количество найденных дубликатов: 0\n"
     ]
    }
   ],
   "source": [
    "data_dublicates(users)"
   ]
  },
  {
   "cell_type": "markdown",
   "metadata": {},
   "source": [
    "### Вывод"
   ]
  },
  {
   "cell_type": "markdown",
   "metadata": {},
   "source": [
    "В датасете не было обнаружено дубликатов. Пропуски в колонке churn_date объясняются действующим тарифом на момент выгрузки данных и были соответственно заполнены.  Колонки с датами были приведены к соответствующему типу."
   ]
  },
  {
   "cell_type": "markdown",
   "metadata": {},
   "source": [
    "## Вывод"
   ]
  },
  {
   "cell_type": "markdown",
   "metadata": {},
   "source": [
    "Были проанализированы данные. Колонки были приведены к их соответствующим типам данных, а также была проведена проверка на наличие дубликатов."
   ]
  },
  {
   "cell_type": "markdown",
   "metadata": {},
   "source": [
    "# Шаг 2.2. Подготовка данных <a id = \"2.2.\"> </a>"
   ]
  },
  {
   "cell_type": "markdown",
   "metadata": {},
   "source": [
    "Посчитаем для каждого пользователя: "
   ]
  },
  {
   "cell_type": "markdown",
   "metadata": {},
   "source": [
    "1) количество сделанных звонков и израсходованных минут разговора по месяцам:"
   ]
  },
  {
   "cell_type": "code",
   "execution_count": 35,
   "metadata": {},
   "outputs": [
    {
     "name": "stdout",
     "output_type": "stream",
     "text": [
      "      user_id  month_code  id_call\n",
      "0        1000           5       22\n",
      "1        1000           6       43\n",
      "2        1000           7       47\n",
      "3        1000           8       52\n",
      "4        1000           9       58\n",
      "...       ...         ...      ...\n",
      "3169     1498          10       41\n",
      "3170     1499           9        9\n",
      "3171     1499          10       68\n",
      "3172     1499          11       74\n",
      "3173     1499          12       69\n",
      "\n",
      "[3174 rows x 3 columns]\n"
     ]
    }
   ],
   "source": [
    "# добавляем колонку с месяцем в датасет\n",
    "data_date_to_month(calls, 'call_date', 'month_code')\n",
    "\n",
    "# количество сделанных звонков пользователями по месяцам\n",
    "user_calls_count = (calls\n",
    "                        .pivot_table(index=['user_id','month_code'], \n",
    "                        values='id_call', \n",
    "                        aggfunc='count').reset_index())\n",
    "\n",
    "print(user_calls_count)"
   ]
  },
  {
   "cell_type": "code",
   "execution_count": 36,
   "metadata": {},
   "outputs": [
    {
     "name": "stdout",
     "output_type": "stream",
     "text": [
      "      user_id  month_code  duration\n",
      "0        1000           5    179.11\n",
      "1        1000           6    246.05\n",
      "2        1000           7    353.66\n",
      "3        1000           8    447.97\n",
      "4        1000           9    509.86\n",
      "...       ...         ...       ...\n",
      "3169     1498          10    300.17\n",
      "3170     1499           9     71.51\n",
      "3171     1499          10    594.55\n",
      "3172     1499          11    658.82\n",
      "3173     1499          12    554.34\n",
      "\n",
      "[3174 rows x 3 columns]\n"
     ]
    }
   ],
   "source": [
    "# количество израсходованных пользователями минут разговора по месяцам\n",
    "user_calls_min = (calls\n",
    "                        .pivot_table(index=['user_id','month_code'],\n",
    "                        values='duration', \n",
    "                        aggfunc='sum').reset_index())\n",
    "\n",
    "print(user_calls_min)"
   ]
  },
  {
   "cell_type": "markdown",
   "metadata": {},
   "source": [
    "2) количество отправленных сообщений по месяцам:"
   ]
  },
  {
   "cell_type": "code",
   "execution_count": 37,
   "metadata": {},
   "outputs": [
    {
     "name": "stdout",
     "output_type": "stream",
     "text": [
      "      user_id  month_code  id_message\n",
      "0        1000           5          22\n",
      "1        1000           6          60\n",
      "2        1000           7          75\n",
      "3        1000           8          81\n",
      "4        1000           9          57\n",
      "...       ...         ...         ...\n",
      "2712     1498          10          42\n",
      "2713     1499           9          11\n",
      "2714     1499          10          48\n",
      "2715     1499          11          59\n",
      "2716     1499          12          66\n",
      "\n",
      "[2717 rows x 3 columns]\n"
     ]
    }
   ],
   "source": [
    "# добавляем колонку с месяцем в датасет\n",
    "data_date_to_month(messages, 'message_date', 'month_code')\n",
    "\n",
    "# количество отправленных пользователями сообщений по месяцам\n",
    "user_mess_count = (messages\n",
    "                        .pivot_table(index=['user_id','month_code'], \n",
    "                        values='id_message', \n",
    "                        aggfunc='count').reset_index())\n",
    "\n",
    "print(user_mess_count)"
   ]
  },
  {
   "cell_type": "markdown",
   "metadata": {},
   "source": [
    "3) объем израсходованного интернет-трафика по месяцам:"
   ]
  },
  {
   "cell_type": "code",
   "execution_count": 38,
   "metadata": {
    "scrolled": false
   },
   "outputs": [
    {
     "name": "stdout",
     "output_type": "stream",
     "text": [
      "      user_id  month_code   mb_used\n",
      "0        1000           5   2780.31\n",
      "1        1000           6  25867.87\n",
      "2        1000           7  14530.46\n",
      "3        1000           8  15109.57\n",
      "4        1000           9  15622.55\n",
      "...       ...         ...       ...\n",
      "3198     1498          10  23514.26\n",
      "3199     1499           9   2113.99\n",
      "3200     1499          10  21812.11\n",
      "3201     1499          11  20645.71\n",
      "3202     1499          12  14396.78\n",
      "\n",
      "[3203 rows x 3 columns]\n"
     ]
    }
   ],
   "source": [
    "# добавляем колонку с месяцем в датасет\n",
    "data_date_to_month(internet, 'session_date', 'month_code')\n",
    "\n",
    "# объем израсходованного пользователями интернет-трафика по месяцам\n",
    "user_mb_sum = (internet\n",
    "                        .pivot_table(index=['user_id','month_code'], \n",
    "                        values='mb_used', \n",
    "                        aggfunc='sum').reset_index())\n",
    "\n",
    "print(user_mb_sum)"
   ]
  },
  {
   "cell_type": "markdown",
   "metadata": {},
   "source": [
    "4) посчитаем помесячную выручку с каждого пользователя:"
   ]
  },
  {
   "cell_type": "code",
   "execution_count": 39,
   "metadata": {
    "scrolled": false
   },
   "outputs": [],
   "source": [
    "# добавляем колонку с месяцем в датасет users\n",
    "data_date_to_month(users, 'reg_date', 'reg_month')\n",
    "data_date_to_month(users, 'churn_date', 'churn_month')\n",
    "\n",
    "# датасет сопоставляющий пользователя, его тариф, начало и окончание его действия\n",
    "user_tariff = users[['user_id', 'tariff', 'reg_month', 'churn_month']]\n",
    "\n",
    "# объединяем список пользователей со статистикой по месяцам: \n",
    "# 1) по звонкам \n",
    "user_stat = user_tariff.merge(user_calls_min, how='outer')\n",
    "user_stat = (user_stat\n",
    "                    .merge(user_calls_count, how='outer',\n",
    "                    left_on=['user_id','month_code'], \n",
    "                    right_on=['user_id','month_code']))\n",
    "# 2) сообщениям\n",
    "user_stat = (user_stat\n",
    "                    .merge(user_mess_count, how='outer',\n",
    "                    left_on=['user_id','month_code'], \n",
    "                    right_on=['user_id','month_code']))\n",
    "\n",
    "# 3) интернет трафику\n",
    "user_stat = (user_stat\n",
    "                    .merge(user_mb_sum, how='outer',\n",
    "                    left_on=['user_id','month_code'], \n",
    "                    right_on=['user_id','month_code']))\n",
    "\n",
    "# 4) объединим с данными по тарифам\n",
    "user_stat = (user_stat\n",
    "                    .merge(tariffs, how='outer',\n",
    "                    left_on='tariff', \n",
    "                    right_on='tariff_name'))"
   ]
  },
  {
   "cell_type": "markdown",
   "metadata": {},
   "source": [
    "На этапе предобработки данных мы выяснили, что информация о пользователях варьируется и по кому-то не удастся сопоставить информацию либо польностью, либо частично. Проанализируем пользователей в свободной таблице у кого отсутствует информация о звонках, сообщениях и интернет трафике."
   ]
  },
  {
   "cell_type": "code",
   "execution_count": 40,
   "metadata": {
    "scrolled": false
   },
   "outputs": [
    {
     "data": {
      "text/plain": [
       "151     1091\n",
       "197     1106\n",
       "228     1128\n",
       "380     1231\n",
       "554     1328\n",
       "929     1473\n",
       "2590    1371\n",
       "3137    1489\n",
       "Name: user_id, dtype: int64"
      ]
     },
     "execution_count": 40,
     "metadata": {},
     "output_type": "execute_result"
    }
   ],
   "source": [
    "empty_stat = user_stat.query('(duration != duration)&(id_call != id_call)&(id_message != id_message)&(mb_used != mb_used)')['user_id']\n",
    "empty_stat"
   ]
  },
  {
   "cell_type": "markdown",
   "metadata": {},
   "source": [
    "Пользователей, по которым отсутствует какая-либо информация, кроме тарифа, даты подключения к тарифу и даты отключения, оказалось 8 человек. Очистим их из сводной таблицы, так как это не повлияет на дальнейший анализ."
   ]
  },
  {
   "cell_type": "code",
   "execution_count": 41,
   "metadata": {},
   "outputs": [],
   "source": [
    "user_stat = user_stat.query('user_id not in @empty_stat')"
   ]
  },
  {
   "cell_type": "code",
   "execution_count": 42,
   "metadata": {},
   "outputs": [],
   "source": [
    "# преобразуем столбец с кодом месяца в тип int\n",
    "user_stat['month_code'] = user_stat['month_code'].astype('int')"
   ]
  },
  {
   "cell_type": "markdown",
   "metadata": {},
   "source": [
    "Для того, чтобы посчитать выручку вычтем бесплатный лимит из суммарного количества звонков, сообщений и интернет-трафика. Полученную сумму умножим на значение из тарифного плана и прибавим абонентскую плату, соответствующую тарифному плану. Для того, чтобы выполнить данные действия мы должны убедится, что информация по используемому тарифу есть по каждому пользователю."
   ]
  },
  {
   "cell_type": "code",
   "execution_count": 43,
   "metadata": {},
   "outputs": [
    {
     "data": {
      "text/plain": [
       "3210    1373\n",
       "3221    1476\n",
       "Name: user_id, dtype: int64"
      ]
     },
     "execution_count": 43,
     "metadata": {},
     "output_type": "execute_result"
    }
   ],
   "source": [
    "empty_tariff = user_stat.query('tariff != tariff')['user_id']\n",
    "empty_tariff"
   ]
  },
  {
   "cell_type": "markdown",
   "metadata": {},
   "source": [
    "Всего 2 пользователя с отсутсвующим тарифом. Очистим их из сводной таблицы, так как это не повлияет на дальнейший анализ."
   ]
  },
  {
   "cell_type": "code",
   "execution_count": 44,
   "metadata": {},
   "outputs": [
    {
     "data": {
      "text/html": [
       "<div>\n",
       "<style scoped>\n",
       "    .dataframe tbody tr th:only-of-type {\n",
       "        vertical-align: middle;\n",
       "    }\n",
       "\n",
       "    .dataframe tbody tr th {\n",
       "        vertical-align: top;\n",
       "    }\n",
       "\n",
       "    .dataframe thead th {\n",
       "        text-align: right;\n",
       "    }\n",
       "</style>\n",
       "<table border=\"1\" class=\"dataframe\">\n",
       "  <thead>\n",
       "    <tr style=\"text-align: right;\">\n",
       "      <th></th>\n",
       "      <th>user_id</th>\n",
       "      <th>tariff</th>\n",
       "      <th>reg_month</th>\n",
       "      <th>churn_month</th>\n",
       "      <th>month_code</th>\n",
       "      <th>duration</th>\n",
       "      <th>id_call</th>\n",
       "      <th>id_message</th>\n",
       "      <th>mb_used</th>\n",
       "      <th>messages_included</th>\n",
       "      <th>mg_per_month_included</th>\n",
       "      <th>minutes_included</th>\n",
       "      <th>rub_monthly_fee</th>\n",
       "      <th>rub_per_gb</th>\n",
       "      <th>rub_per_message</th>\n",
       "      <th>rub_per_minute</th>\n",
       "      <th>tariff_name</th>\n",
       "    </tr>\n",
       "  </thead>\n",
       "  <tbody>\n",
       "    <tr>\n",
       "      <th>0</th>\n",
       "      <td>1000</td>\n",
       "      <td>ultra</td>\n",
       "      <td>5.0</td>\n",
       "      <td>12.0</td>\n",
       "      <td>5</td>\n",
       "      <td>179.11</td>\n",
       "      <td>22.0</td>\n",
       "      <td>22.0</td>\n",
       "      <td>2780.31</td>\n",
       "      <td>1000.0</td>\n",
       "      <td>30720.0</td>\n",
       "      <td>3000.0</td>\n",
       "      <td>1950.0</td>\n",
       "      <td>150.0</td>\n",
       "      <td>1.0</td>\n",
       "      <td>1.0</td>\n",
       "      <td>ultra</td>\n",
       "    </tr>\n",
       "    <tr>\n",
       "      <th>1</th>\n",
       "      <td>1000</td>\n",
       "      <td>ultra</td>\n",
       "      <td>5.0</td>\n",
       "      <td>12.0</td>\n",
       "      <td>6</td>\n",
       "      <td>246.05</td>\n",
       "      <td>43.0</td>\n",
       "      <td>60.0</td>\n",
       "      <td>25867.87</td>\n",
       "      <td>1000.0</td>\n",
       "      <td>30720.0</td>\n",
       "      <td>3000.0</td>\n",
       "      <td>1950.0</td>\n",
       "      <td>150.0</td>\n",
       "      <td>1.0</td>\n",
       "      <td>1.0</td>\n",
       "      <td>ultra</td>\n",
       "    </tr>\n",
       "    <tr>\n",
       "      <th>2</th>\n",
       "      <td>1000</td>\n",
       "      <td>ultra</td>\n",
       "      <td>5.0</td>\n",
       "      <td>12.0</td>\n",
       "      <td>7</td>\n",
       "      <td>353.66</td>\n",
       "      <td>47.0</td>\n",
       "      <td>75.0</td>\n",
       "      <td>14530.46</td>\n",
       "      <td>1000.0</td>\n",
       "      <td>30720.0</td>\n",
       "      <td>3000.0</td>\n",
       "      <td>1950.0</td>\n",
       "      <td>150.0</td>\n",
       "      <td>1.0</td>\n",
       "      <td>1.0</td>\n",
       "      <td>ultra</td>\n",
       "    </tr>\n",
       "    <tr>\n",
       "      <th>3</th>\n",
       "      <td>1000</td>\n",
       "      <td>ultra</td>\n",
       "      <td>5.0</td>\n",
       "      <td>12.0</td>\n",
       "      <td>8</td>\n",
       "      <td>447.97</td>\n",
       "      <td>52.0</td>\n",
       "      <td>81.0</td>\n",
       "      <td>15109.57</td>\n",
       "      <td>1000.0</td>\n",
       "      <td>30720.0</td>\n",
       "      <td>3000.0</td>\n",
       "      <td>1950.0</td>\n",
       "      <td>150.0</td>\n",
       "      <td>1.0</td>\n",
       "      <td>1.0</td>\n",
       "      <td>ultra</td>\n",
       "    </tr>\n",
       "    <tr>\n",
       "      <th>4</th>\n",
       "      <td>1000</td>\n",
       "      <td>ultra</td>\n",
       "      <td>5.0</td>\n",
       "      <td>12.0</td>\n",
       "      <td>9</td>\n",
       "      <td>509.86</td>\n",
       "      <td>58.0</td>\n",
       "      <td>57.0</td>\n",
       "      <td>15622.55</td>\n",
       "      <td>1000.0</td>\n",
       "      <td>30720.0</td>\n",
       "      <td>3000.0</td>\n",
       "      <td>1950.0</td>\n",
       "      <td>150.0</td>\n",
       "      <td>1.0</td>\n",
       "      <td>1.0</td>\n",
       "      <td>ultra</td>\n",
       "    </tr>\n",
       "    <tr>\n",
       "      <th>...</th>\n",
       "      <td>...</td>\n",
       "      <td>...</td>\n",
       "      <td>...</td>\n",
       "      <td>...</td>\n",
       "      <td>...</td>\n",
       "      <td>...</td>\n",
       "      <td>...</td>\n",
       "      <td>...</td>\n",
       "      <td>...</td>\n",
       "      <td>...</td>\n",
       "      <td>...</td>\n",
       "      <td>...</td>\n",
       "      <td>...</td>\n",
       "      <td>...</td>\n",
       "      <td>...</td>\n",
       "      <td>...</td>\n",
       "      <td>...</td>\n",
       "    </tr>\n",
       "    <tr>\n",
       "      <th>3177</th>\n",
       "      <td>1498</td>\n",
       "      <td>smart</td>\n",
       "      <td>7.0</td>\n",
       "      <td>10.0</td>\n",
       "      <td>10</td>\n",
       "      <td>300.17</td>\n",
       "      <td>41.0</td>\n",
       "      <td>42.0</td>\n",
       "      <td>23514.26</td>\n",
       "      <td>50.0</td>\n",
       "      <td>15360.0</td>\n",
       "      <td>500.0</td>\n",
       "      <td>550.0</td>\n",
       "      <td>200.0</td>\n",
       "      <td>3.0</td>\n",
       "      <td>3.0</td>\n",
       "      <td>smart</td>\n",
       "    </tr>\n",
       "    <tr>\n",
       "      <th>3178</th>\n",
       "      <td>1499</td>\n",
       "      <td>smart</td>\n",
       "      <td>9.0</td>\n",
       "      <td>12.0</td>\n",
       "      <td>9</td>\n",
       "      <td>71.51</td>\n",
       "      <td>9.0</td>\n",
       "      <td>11.0</td>\n",
       "      <td>2113.99</td>\n",
       "      <td>50.0</td>\n",
       "      <td>15360.0</td>\n",
       "      <td>500.0</td>\n",
       "      <td>550.0</td>\n",
       "      <td>200.0</td>\n",
       "      <td>3.0</td>\n",
       "      <td>3.0</td>\n",
       "      <td>smart</td>\n",
       "    </tr>\n",
       "    <tr>\n",
       "      <th>3179</th>\n",
       "      <td>1499</td>\n",
       "      <td>smart</td>\n",
       "      <td>9.0</td>\n",
       "      <td>12.0</td>\n",
       "      <td>10</td>\n",
       "      <td>594.55</td>\n",
       "      <td>68.0</td>\n",
       "      <td>48.0</td>\n",
       "      <td>21812.11</td>\n",
       "      <td>50.0</td>\n",
       "      <td>15360.0</td>\n",
       "      <td>500.0</td>\n",
       "      <td>550.0</td>\n",
       "      <td>200.0</td>\n",
       "      <td>3.0</td>\n",
       "      <td>3.0</td>\n",
       "      <td>smart</td>\n",
       "    </tr>\n",
       "    <tr>\n",
       "      <th>3180</th>\n",
       "      <td>1499</td>\n",
       "      <td>smart</td>\n",
       "      <td>9.0</td>\n",
       "      <td>12.0</td>\n",
       "      <td>11</td>\n",
       "      <td>658.82</td>\n",
       "      <td>74.0</td>\n",
       "      <td>59.0</td>\n",
       "      <td>20645.71</td>\n",
       "      <td>50.0</td>\n",
       "      <td>15360.0</td>\n",
       "      <td>500.0</td>\n",
       "      <td>550.0</td>\n",
       "      <td>200.0</td>\n",
       "      <td>3.0</td>\n",
       "      <td>3.0</td>\n",
       "      <td>smart</td>\n",
       "    </tr>\n",
       "    <tr>\n",
       "      <th>3181</th>\n",
       "      <td>1499</td>\n",
       "      <td>smart</td>\n",
       "      <td>9.0</td>\n",
       "      <td>12.0</td>\n",
       "      <td>12</td>\n",
       "      <td>554.34</td>\n",
       "      <td>69.0</td>\n",
       "      <td>66.0</td>\n",
       "      <td>14396.78</td>\n",
       "      <td>50.0</td>\n",
       "      <td>15360.0</td>\n",
       "      <td>500.0</td>\n",
       "      <td>550.0</td>\n",
       "      <td>200.0</td>\n",
       "      <td>3.0</td>\n",
       "      <td>3.0</td>\n",
       "      <td>smart</td>\n",
       "    </tr>\n",
       "  </tbody>\n",
       "</table>\n",
       "<p>3155 rows × 17 columns</p>\n",
       "</div>"
      ],
      "text/plain": [
       "      user_id tariff  reg_month  churn_month  month_code  duration  id_call  \\\n",
       "0        1000  ultra        5.0         12.0           5    179.11     22.0   \n",
       "1        1000  ultra        5.0         12.0           6    246.05     43.0   \n",
       "2        1000  ultra        5.0         12.0           7    353.66     47.0   \n",
       "3        1000  ultra        5.0         12.0           8    447.97     52.0   \n",
       "4        1000  ultra        5.0         12.0           9    509.86     58.0   \n",
       "...       ...    ...        ...          ...         ...       ...      ...   \n",
       "3177     1498  smart        7.0         10.0          10    300.17     41.0   \n",
       "3178     1499  smart        9.0         12.0           9     71.51      9.0   \n",
       "3179     1499  smart        9.0         12.0          10    594.55     68.0   \n",
       "3180     1499  smart        9.0         12.0          11    658.82     74.0   \n",
       "3181     1499  smart        9.0         12.0          12    554.34     69.0   \n",
       "\n",
       "      id_message   mb_used  messages_included  mg_per_month_included  \\\n",
       "0           22.0   2780.31             1000.0                30720.0   \n",
       "1           60.0  25867.87             1000.0                30720.0   \n",
       "2           75.0  14530.46             1000.0                30720.0   \n",
       "3           81.0  15109.57             1000.0                30720.0   \n",
       "4           57.0  15622.55             1000.0                30720.0   \n",
       "...          ...       ...                ...                    ...   \n",
       "3177        42.0  23514.26               50.0                15360.0   \n",
       "3178        11.0   2113.99               50.0                15360.0   \n",
       "3179        48.0  21812.11               50.0                15360.0   \n",
       "3180        59.0  20645.71               50.0                15360.0   \n",
       "3181        66.0  14396.78               50.0                15360.0   \n",
       "\n",
       "      minutes_included  rub_monthly_fee  rub_per_gb  rub_per_message  \\\n",
       "0               3000.0           1950.0       150.0              1.0   \n",
       "1               3000.0           1950.0       150.0              1.0   \n",
       "2               3000.0           1950.0       150.0              1.0   \n",
       "3               3000.0           1950.0       150.0              1.0   \n",
       "4               3000.0           1950.0       150.0              1.0   \n",
       "...                ...              ...         ...              ...   \n",
       "3177             500.0            550.0       200.0              3.0   \n",
       "3178             500.0            550.0       200.0              3.0   \n",
       "3179             500.0            550.0       200.0              3.0   \n",
       "3180             500.0            550.0       200.0              3.0   \n",
       "3181             500.0            550.0       200.0              3.0   \n",
       "\n",
       "      rub_per_minute tariff_name  \n",
       "0                1.0       ultra  \n",
       "1                1.0       ultra  \n",
       "2                1.0       ultra  \n",
       "3                1.0       ultra  \n",
       "4                1.0       ultra  \n",
       "...              ...         ...  \n",
       "3177             3.0       smart  \n",
       "3178             3.0       smart  \n",
       "3179             3.0       smart  \n",
       "3180             3.0       smart  \n",
       "3181             3.0       smart  \n",
       "\n",
       "[3155 rows x 17 columns]"
      ]
     },
     "execution_count": 44,
     "metadata": {},
     "output_type": "execute_result"
    }
   ],
   "source": [
    "user_stat = user_stat.query('user_id not in @empty_tariff')\n",
    "user_stat "
   ]
  },
  {
   "cell_type": "code",
   "execution_count": 45,
   "metadata": {
    "scrolled": true
   },
   "outputs": [
    {
     "name": "stdout",
     "output_type": "stream",
     "text": [
      "      index  user_id tariff  month_code  revenue_calls  revenue_messages  \\\n",
      "0         0     1000  ultra           5           0.00               0.0   \n",
      "1         1     1000  ultra           6           0.00               0.0   \n",
      "2         2     1000  ultra           7           0.00               0.0   \n",
      "3         3     1000  ultra           8           0.00               0.0   \n",
      "4         4     1000  ultra           9           0.00               0.0   \n",
      "...     ...      ...    ...         ...            ...               ...   \n",
      "3150   3177     1498  smart          10           0.00               0.0   \n",
      "3151   3178     1499  smart           9           0.00               0.0   \n",
      "3152   3179     1499  smart          10         283.65               0.0   \n",
      "3153   3180     1499  smart          11         476.46              27.0   \n",
      "3154   3181     1499  smart          12         163.02              48.0   \n",
      "\n",
      "      revenue_traffic     fee  total_revenue  \n",
      "0            0.000000  1950.0    1950.000000  \n",
      "1            0.000000  1950.0    1950.000000  \n",
      "2            0.000000  1950.0    1950.000000  \n",
      "3            0.000000  1950.0    1950.000000  \n",
      "4            0.000000  1950.0    1950.000000  \n",
      "...               ...     ...            ...  \n",
      "3150      1592.628906   550.0    2142.628906  \n",
      "3151         0.000000   550.0     550.000000  \n",
      "3152      1260.177734   550.0    2093.827734  \n",
      "3153      1032.365234   550.0    2085.825234  \n",
      "3154         0.000000   550.0     761.020000  \n",
      "\n",
      "[3155 rows x 9 columns]\n"
     ]
    }
   ],
   "source": [
    "# функция считающая выручку от звонков, сообщений, интернет трафика\n",
    "def revenue(x,y,z):\n",
    "    if (y-x)>=0:\n",
    "        return 0\n",
    "    if (y-x)<0:\n",
    "        return -(y-x)*z\n",
    "    \n",
    "#функция определяющая абонентскую плату\n",
    "def fees(x,y,z,m):\n",
    "    if x <= m <= y:\n",
    "        return z\n",
    "    return 0\n",
    "\n",
    "# посчитаем выручку от звонков\n",
    "user_stat['revenue_calls'] = (user_stat\n",
    "                                        .apply(lambda x: \n",
    "                                                        revenue(x['duration'], \n",
    "                                                        x['minutes_included'], \n",
    "                                                        x['rub_per_minute']), axis =  1))\n",
    "# посчитаем выручку от сообщений\n",
    "user_stat['revenue_messages'] = (user_stat\n",
    "                                        .apply(lambda x: \n",
    "                                                        revenue(x['id_message'], \n",
    "                                                        x['messages_included'], \n",
    "                                                        x['rub_per_message']), axis =  1))\n",
    "# посчитаем выручку от интернет трафика\n",
    "user_stat['revenue_traffic'] = (user_stat\n",
    "                                        .apply(lambda x: \n",
    "                                                        revenue(x['mb_used'], \n",
    "                                                        x['mg_per_month_included'], \n",
    "                                                        x['rub_per_gb']/1024), axis =  1))\n",
    "# посчитаем выручку от абонентской платы\n",
    "user_stat['fee'] = (user_stat\n",
    "                            .apply(lambda x: \n",
    "                                            fees(x['reg_month'], \n",
    "                                            x['churn_month'], \n",
    "                                            x['rub_monthly_fee'],\n",
    "                                            x['month_code']), axis =  1))\n",
    "\n",
    "\n",
    "#итоговая таблица по выручке помесячно\n",
    "user_revenue = user_stat[['user_id', \n",
    "                             'tariff', \n",
    "                             'month_code',\n",
    "                             'revenue_calls', \n",
    "                             'revenue_messages', \n",
    "                             'revenue_traffic', \n",
    "                             'fee']].reset_index()\n",
    "\n",
    "#заполним оставшиеся NaN значения нулями\n",
    "user_revenue['revenue_messages'] = user_revenue['revenue_messages'].fillna(0)\n",
    "user_revenue['revenue_traffic'] = user_revenue['revenue_traffic'].fillna(0)\n",
    "\n",
    "#добавим total по выручке\n",
    "user_revenue['total_revenue'] = (user_revenue['revenue_calls'] + \n",
    "                                 user_revenue['revenue_messages'] +\n",
    "                                 user_revenue['revenue_traffic'] +\n",
    "                                 user_revenue['fee'])\n",
    "print(user_revenue)"
   ]
  },
  {
   "cell_type": "markdown",
   "metadata": {},
   "source": [
    "# Шаг 3. Анализ данных <a id = \"3.\"> </a>"
   ]
  },
  {
   "cell_type": "markdown",
   "metadata": {},
   "source": [
    "Проанализируем поведение клиентов оператора, исходя из выборки"
   ]
  },
  {
   "cell_type": "markdown",
   "metadata": {},
   "source": [
    "1) Проанализируем количество произведенных звонков помесячно для каждого тарифа."
   ]
  },
  {
   "cell_type": "code",
   "execution_count": 46,
   "metadata": {
    "scrolled": false
   },
   "outputs": [
    {
     "data": {
      "text/html": [
       "<div>\n",
       "<style scoped>\n",
       "    .dataframe tbody tr th:only-of-type {\n",
       "        vertical-align: middle;\n",
       "    }\n",
       "\n",
       "    .dataframe tbody tr th {\n",
       "        vertical-align: top;\n",
       "    }\n",
       "\n",
       "    .dataframe thead th {\n",
       "        text-align: right;\n",
       "    }\n",
       "</style>\n",
       "<table border=\"1\" class=\"dataframe\">\n",
       "  <thead>\n",
       "    <tr style=\"text-align: right;\">\n",
       "      <th>tariff</th>\n",
       "      <th>smart</th>\n",
       "      <th>ultra</th>\n",
       "    </tr>\n",
       "    <tr>\n",
       "      <th>month_code</th>\n",
       "      <th></th>\n",
       "      <th></th>\n",
       "    </tr>\n",
       "  </thead>\n",
       "  <tbody>\n",
       "    <tr>\n",
       "      <th>1</th>\n",
       "      <td>28.5</td>\n",
       "      <td>59.4</td>\n",
       "    </tr>\n",
       "    <tr>\n",
       "      <th>2</th>\n",
       "      <td>40.9</td>\n",
       "      <td>41.5</td>\n",
       "    </tr>\n",
       "    <tr>\n",
       "      <th>3</th>\n",
       "      <td>55.0</td>\n",
       "      <td>67.7</td>\n",
       "    </tr>\n",
       "    <tr>\n",
       "      <th>4</th>\n",
       "      <td>51.8</td>\n",
       "      <td>66.5</td>\n",
       "    </tr>\n",
       "    <tr>\n",
       "      <th>5</th>\n",
       "      <td>55.6</td>\n",
       "      <td>76.0</td>\n",
       "    </tr>\n",
       "    <tr>\n",
       "      <th>6</th>\n",
       "      <td>55.9</td>\n",
       "      <td>69.3</td>\n",
       "    </tr>\n",
       "    <tr>\n",
       "      <th>7</th>\n",
       "      <td>57.0</td>\n",
       "      <td>78.5</td>\n",
       "    </tr>\n",
       "    <tr>\n",
       "      <th>8</th>\n",
       "      <td>59.5</td>\n",
       "      <td>74.2</td>\n",
       "    </tr>\n",
       "    <tr>\n",
       "      <th>9</th>\n",
       "      <td>60.0</td>\n",
       "      <td>77.3</td>\n",
       "    </tr>\n",
       "    <tr>\n",
       "      <th>10</th>\n",
       "      <td>60.4</td>\n",
       "      <td>80.8</td>\n",
       "    </tr>\n",
       "    <tr>\n",
       "      <th>11</th>\n",
       "      <td>61.9</td>\n",
       "      <td>78.1</td>\n",
       "    </tr>\n",
       "    <tr>\n",
       "      <th>12</th>\n",
       "      <td>66.9</td>\n",
       "      <td>86.5</td>\n",
       "    </tr>\n",
       "  </tbody>\n",
       "</table>\n",
       "</div>"
      ],
      "text/plain": [
       "tariff      smart  ultra\n",
       "month_code              \n",
       "1            28.5   59.4\n",
       "2            40.9   41.5\n",
       "3            55.0   67.7\n",
       "4            51.8   66.5\n",
       "5            55.6   76.0\n",
       "6            55.9   69.3\n",
       "7            57.0   78.5\n",
       "8            59.5   74.2\n",
       "9            60.0   77.3\n",
       "10           60.4   80.8\n",
       "11           61.9   78.1\n",
       "12           66.9   86.5"
      ]
     },
     "execution_count": 46,
     "metadata": {},
     "output_type": "execute_result"
    }
   ],
   "source": [
    "call_tariff = user_stat.pivot_table(index='month_code', columns='tariff', values='id_call').round(1)\n",
    "call_tariff"
   ]
  },
  {
   "cell_type": "code",
   "execution_count": 47,
   "metadata": {
    "scrolled": true
   },
   "outputs": [
    {
     "data": {
      "image/png": "[encoded data removed]",
      "text/plain": [
       "<Figure size 1080x720 with 1 Axes>"
      ]
     },
     "metadata": {
      "needs_background": "light"
     },
     "output_type": "display_data"
    }
   ],
   "source": [
    "graphic(call_tariff, 'o-', 0.7)"
   ]
  },
  {
   "cell_type": "markdown",
   "metadata": {},
   "source": [
    "Из полученного графика мы наблюдаем, что в среднем количество звонков имеет восходящий тренд от начала года к его концу. Среднее количество звонков в феврале у каждого тарифа было одинаковое. Резкое снижение среднего количества звонков (~ на 18 шт.) с января по февраль наблюдается по тарифу ultra."
   ]
  },
  {
   "cell_type": "code",
   "execution_count": 48,
   "metadata": {},
   "outputs": [
    {
     "name": "stdout",
     "output_type": "stream",
     "text": [
      "Рост количества звонков по тарифу ultra составил: 46%\n",
      "Рост количества звонков по тарифу smart составил: 135%\n"
     ]
    }
   ],
   "source": [
    "print('Рост количества звонков по тарифу ultra составил: {:.0%}'\n",
    "      .format(growth(call_tariff, 'ultra')))\n",
    "print('Рост количества звонков по тарифу smart составил: {:.0%}'\n",
    "      .format(growth(call_tariff, 'smart')))"
   ]
  },
  {
   "cell_type": "code",
   "execution_count": 49,
   "metadata": {
    "scrolled": false
   },
   "outputs": [
    {
     "name": "stdout",
     "output_type": "stream",
     "text": [
      "Среднее количество звонков по тарифу ultra: 76.08\n",
      "Среднее количество звонков по тарифу smart: 58.90\n",
      "Среднее количество звонков: 64.04\n"
     ]
    }
   ],
   "source": [
    "print('Среднее количество звонков по тарифу ultra: {:.2f}'. format(user_stat.query('tariff == \"ultra\"')['id_call'].mean()))\n",
    "print('Среднее количество звонков по тарифу smart: {:.2f}'. format(user_stat.query('tariff == \"smart\"')['id_call'].mean()))\n",
    "print('Среднее количество звонков: {:.2f}'. format(user_stat['id_call'].mean()))"
   ]
  },
  {
   "cell_type": "markdown",
   "metadata": {},
   "source": [
    "Расчитаем дисперсию и стандартное отклонение показателя количество звонков ежемесячно."
   ]
  },
  {
   "cell_type": "code",
   "execution_count": 50,
   "metadata": {},
   "outputs": [
    {
     "name": "stdout",
     "output_type": "stream",
     "text": [
      "Дисперсия: 1060.82\n",
      "Стандартное отклонение: 32.57\n"
     ]
    }
   ],
   "source": [
    "call_var = np.var(user_stat['id_call'], ddof=1)\n",
    "call_std = np.sqrt(call_var)\n",
    "\n",
    "print('Дисперсия: {:.2f}'. format(call_var))\n",
    "print('Стандартное отклонение: {:.2f}'. format(call_std))"
   ]
  },
  {
   "cell_type": "code",
   "execution_count": 51,
   "metadata": {
    "scrolled": false
   },
   "outputs": [
    {
     "data": {
      "image/png": "[encoded data removed]",
      "text/plain": [
       "<Figure size 1080x720 with 1 Axes>"
      ]
     },
     "metadata": {
      "needs_background": "light"
     },
     "output_type": "display_data"
    }
   ],
   "source": [
    "histogram(user_stat['id_call'], 20, True)"
   ]
  },
  {
   "cell_type": "markdown",
   "metadata": {},
   "source": [
    "Данные в колонке id_call, показывающие среднее количество звонков по пользователям по месяцам, имеют распредение близкое к нормальному. Чаще всего пользователи совершают от 60 до 70 звонков в месяц. "
   ]
  },
  {
   "cell_type": "markdown",
   "metadata": {},
   "source": [
    "2) Проанализируем длительность произведенных звонков помесячно для каждого тарифа."
   ]
  },
  {
   "cell_type": "code",
   "execution_count": 52,
   "metadata": {
    "scrolled": false
   },
   "outputs": [
    {
     "data": {
      "text/html": [
       "<div>\n",
       "<style scoped>\n",
       "    .dataframe tbody tr th:only-of-type {\n",
       "        vertical-align: middle;\n",
       "    }\n",
       "\n",
       "    .dataframe tbody tr th {\n",
       "        vertical-align: top;\n",
       "    }\n",
       "\n",
       "    .dataframe thead th {\n",
       "        text-align: right;\n",
       "    }\n",
       "</style>\n",
       "<table border=\"1\" class=\"dataframe\">\n",
       "  <thead>\n",
       "    <tr style=\"text-align: right;\">\n",
       "      <th>tariff</th>\n",
       "      <th>smart</th>\n",
       "      <th>ultra</th>\n",
       "    </tr>\n",
       "    <tr>\n",
       "      <th>month_code</th>\n",
       "      <th></th>\n",
       "      <th></th>\n",
       "    </tr>\n",
       "  </thead>\n",
       "  <tbody>\n",
       "    <tr>\n",
       "      <th>1</th>\n",
       "      <td>234.5</td>\n",
       "      <td>482.4</td>\n",
       "    </tr>\n",
       "    <tr>\n",
       "      <th>2</th>\n",
       "      <td>334.0</td>\n",
       "      <td>326.4</td>\n",
       "    </tr>\n",
       "    <tr>\n",
       "      <th>3</th>\n",
       "      <td>435.5</td>\n",
       "      <td>543.5</td>\n",
       "    </tr>\n",
       "    <tr>\n",
       "      <th>4</th>\n",
       "      <td>408.6</td>\n",
       "      <td>523.8</td>\n",
       "    </tr>\n",
       "    <tr>\n",
       "      <th>5</th>\n",
       "      <td>434.2</td>\n",
       "      <td>597.1</td>\n",
       "    </tr>\n",
       "    <tr>\n",
       "      <th>6</th>\n",
       "      <td>441.7</td>\n",
       "      <td>549.3</td>\n",
       "    </tr>\n",
       "    <tr>\n",
       "      <th>7</th>\n",
       "      <td>452.7</td>\n",
       "      <td>623.8</td>\n",
       "    </tr>\n",
       "    <tr>\n",
       "      <th>8</th>\n",
       "      <td>471.8</td>\n",
       "      <td>587.2</td>\n",
       "    </tr>\n",
       "    <tr>\n",
       "      <th>9</th>\n",
       "      <td>476.7</td>\n",
       "      <td>615.0</td>\n",
       "    </tr>\n",
       "    <tr>\n",
       "      <th>10</th>\n",
       "      <td>478.2</td>\n",
       "      <td>641.8</td>\n",
       "    </tr>\n",
       "    <tr>\n",
       "      <th>11</th>\n",
       "      <td>487.5</td>\n",
       "      <td>620.3</td>\n",
       "    </tr>\n",
       "    <tr>\n",
       "      <th>12</th>\n",
       "      <td>531.9</td>\n",
       "      <td>681.7</td>\n",
       "    </tr>\n",
       "  </tbody>\n",
       "</table>\n",
       "</div>"
      ],
      "text/plain": [
       "tariff      smart  ultra\n",
       "month_code              \n",
       "1           234.5  482.4\n",
       "2           334.0  326.4\n",
       "3           435.5  543.5\n",
       "4           408.6  523.8\n",
       "5           434.2  597.1\n",
       "6           441.7  549.3\n",
       "7           452.7  623.8\n",
       "8           471.8  587.2\n",
       "9           476.7  615.0\n",
       "10          478.2  641.8\n",
       "11          487.5  620.3\n",
       "12          531.9  681.7"
      ]
     },
     "execution_count": 52,
     "metadata": {},
     "output_type": "execute_result"
    }
   ],
   "source": [
    "duration_calls_tariff = user_stat.pivot_table(index='month_code', columns='tariff', values='duration').round(1)\n",
    "duration_calls_tariff"
   ]
  },
  {
   "cell_type": "code",
   "execution_count": 53,
   "metadata": {
    "scrolled": false
   },
   "outputs": [
    {
     "data": {
      "image/png": "[encoded data removed]",
      "text/plain": [
       "<Figure size 1080x720 with 1 Axes>"
      ]
     },
     "metadata": {
      "needs_background": "light"
     },
     "output_type": "display_data"
    }
   ],
   "source": [
    "graphic(duration_calls_tariff, 'o-', 0.7)"
   ]
  },
  {
   "cell_type": "markdown",
   "metadata": {},
   "source": [
    "График средней продолжительности звонков повторяет график среднего количества звонков. В среднем продолжительность звонков у каждого тарифа растет и достигает своего максимума в конце года. У тарифа ultra также наблюдается резкое снижение продолжительности звонков с января по февраль (~ на 124 минуты)."
   ]
  },
  {
   "cell_type": "code",
   "execution_count": 54,
   "metadata": {
    "scrolled": true
   },
   "outputs": [
    {
     "name": "stdout",
     "output_type": "stream",
     "text": [
      "Рост продолжительности звонков по тарифу ultra составил: 41%\n",
      "Рост продолжительности звонков по тарифу smart составил: 127%\n"
     ]
    }
   ],
   "source": [
    "print('Рост продолжительности звонков по тарифу ultra составил: {:.0%}'\n",
    "      .format(growth(duration_calls_tariff, 'ultra')))\n",
    "print('Рост продолжительности звонков по тарифу smart составил: {:.0%}'\n",
    "      .format(growth(duration_calls_tariff, 'smart')))"
   ]
  },
  {
   "cell_type": "code",
   "execution_count": 55,
   "metadata": {},
   "outputs": [
    {
     "name": "stdout",
     "output_type": "stream",
     "text": [
      "Средняя продолжительность звонков по тарифу ultra: 602.94\n",
      "Средняя продолжительность звонков по тарифу smart: 466.71\n",
      "Средняя продолжительность звонков: 507.43\n"
     ]
    }
   ],
   "source": [
    "print('Средняя продолжительность звонков по тарифу ultra: {:.2f}'. format(user_stat.query('tariff == \"ultra\"')['duration'].mean()))\n",
    "print('Средняя продолжительность звонков по тарифу smart: {:.2f}'. format(user_stat.query('tariff == \"smart\"')['duration'].mean()))\n",
    "print('Средняя продолжительность звонков: {:.2f}'. format(user_stat['duration'].mean()))"
   ]
  },
  {
   "cell_type": "markdown",
   "metadata": {},
   "source": [
    "Расчитаем дисперсию и стандартное отклонение показателя длительности звонков ежемесячно."
   ]
  },
  {
   "cell_type": "code",
   "execution_count": 56,
   "metadata": {},
   "outputs": [
    {
     "name": "stdout",
     "output_type": "stream",
     "text": [
      "Дисперсия: 67821.79\n",
      "Стандартное отклонение: 260.43\n"
     ]
    }
   ],
   "source": [
    "call_duration_var = np.var(user_stat['duration'], ddof=1)\n",
    "call_duration_std = np.sqrt(call_duration_var)\n",
    "\n",
    "print('Дисперсия: {:.2f}'. format(call_duration_var))\n",
    "print('Стандартное отклонение: {:.2f}'. format(call_duration_std))"
   ]
  },
  {
   "cell_type": "code",
   "execution_count": 57,
   "metadata": {},
   "outputs": [
    {
     "data": {
      "image/png": "[encoded data removed]",
      "text/plain": [
       "<Figure size 1080x720 with 1 Axes>"
      ]
     },
     "metadata": {
      "needs_background": "light"
     },
     "output_type": "display_data"
    }
   ],
   "source": [
    "histogram(user_stat['duration'], 30, True)"
   ]
  },
  {
   "cell_type": "markdown",
   "metadata": {},
   "source": [
    "Данные в колонке duration, показывающие среднюю продолжительность звонков по пользователям по месяцам, имеют распределение близкое к нормальному."
   ]
  },
  {
   "cell_type": "markdown",
   "metadata": {},
   "source": [
    "Основная масса пользователей совершает звонки общей длительностью от 250 до 750 минут в месяц."
   ]
  },
  {
   "cell_type": "markdown",
   "metadata": {},
   "source": [
    "3) Проанализируем количество отправленных сообщений помесячно для каждого тарифа."
   ]
  },
  {
   "cell_type": "code",
   "execution_count": 58,
   "metadata": {
    "scrolled": false
   },
   "outputs": [
    {
     "data": {
      "text/html": [
       "<div>\n",
       "<style scoped>\n",
       "    .dataframe tbody tr th:only-of-type {\n",
       "        vertical-align: middle;\n",
       "    }\n",
       "\n",
       "    .dataframe tbody tr th {\n",
       "        vertical-align: top;\n",
       "    }\n",
       "\n",
       "    .dataframe thead th {\n",
       "        text-align: right;\n",
       "    }\n",
       "</style>\n",
       "<table border=\"1\" class=\"dataframe\">\n",
       "  <thead>\n",
       "    <tr style=\"text-align: right;\">\n",
       "      <th>tariff</th>\n",
       "      <th>smart</th>\n",
       "      <th>ultra</th>\n",
       "    </tr>\n",
       "    <tr>\n",
       "      <th>month_code</th>\n",
       "      <th></th>\n",
       "      <th></th>\n",
       "    </tr>\n",
       "  </thead>\n",
       "  <tbody>\n",
       "    <tr>\n",
       "      <th>1</th>\n",
       "      <td>19.7</td>\n",
       "      <td>43.4</td>\n",
       "    </tr>\n",
       "    <tr>\n",
       "      <th>2</th>\n",
       "      <td>27.7</td>\n",
       "      <td>32.9</td>\n",
       "    </tr>\n",
       "    <tr>\n",
       "      <th>3</th>\n",
       "      <td>35.3</td>\n",
       "      <td>47.8</td>\n",
       "    </tr>\n",
       "    <tr>\n",
       "      <th>4</th>\n",
       "      <td>35.7</td>\n",
       "      <td>45.4</td>\n",
       "    </tr>\n",
       "    <tr>\n",
       "      <th>5</th>\n",
       "      <td>39.0</td>\n",
       "      <td>50.3</td>\n",
       "    </tr>\n",
       "    <tr>\n",
       "      <th>6</th>\n",
       "      <td>38.5</td>\n",
       "      <td>51.4</td>\n",
       "    </tr>\n",
       "    <tr>\n",
       "      <th>7</th>\n",
       "      <td>38.9</td>\n",
       "      <td>61.8</td>\n",
       "    </tr>\n",
       "    <tr>\n",
       "      <th>8</th>\n",
       "      <td>38.8</td>\n",
       "      <td>59.3</td>\n",
       "    </tr>\n",
       "    <tr>\n",
       "      <th>9</th>\n",
       "      <td>39.2</td>\n",
       "      <td>63.8</td>\n",
       "    </tr>\n",
       "    <tr>\n",
       "      <th>10</th>\n",
       "      <td>39.1</td>\n",
       "      <td>71.1</td>\n",
       "    </tr>\n",
       "    <tr>\n",
       "      <th>11</th>\n",
       "      <td>40.0</td>\n",
       "      <td>67.5</td>\n",
       "    </tr>\n",
       "    <tr>\n",
       "      <th>12</th>\n",
       "      <td>42.2</td>\n",
       "      <td>73.2</td>\n",
       "    </tr>\n",
       "  </tbody>\n",
       "</table>\n",
       "</div>"
      ],
      "text/plain": [
       "tariff      smart  ultra\n",
       "month_code              \n",
       "1            19.7   43.4\n",
       "2            27.7   32.9\n",
       "3            35.3   47.8\n",
       "4            35.7   45.4\n",
       "5            39.0   50.3\n",
       "6            38.5   51.4\n",
       "7            38.9   61.8\n",
       "8            38.8   59.3\n",
       "9            39.2   63.8\n",
       "10           39.1   71.1\n",
       "11           40.0   67.5\n",
       "12           42.2   73.2"
      ]
     },
     "execution_count": 58,
     "metadata": {},
     "output_type": "execute_result"
    }
   ],
   "source": [
    "message_tariff = user_stat.pivot_table(index='month_code', columns='tariff', values='id_message').round(1)\n",
    "message_tariff"
   ]
  },
  {
   "cell_type": "code",
   "execution_count": 59,
   "metadata": {
    "scrolled": true
   },
   "outputs": [
    {
     "data": {
      "image/png": "[encoded data removed]",
      "text/plain": [
       "<Figure size 1080x720 with 1 Axes>"
      ]
     },
     "metadata": {
      "needs_background": "light"
     },
     "output_type": "display_data"
    }
   ],
   "source": [
    "graphic(message_tariff, 'o-', 0.7)"
   ]
  },
  {
   "cell_type": "markdown",
   "metadata": {},
   "source": [
    "Среднее количество отправленных сообщений по тарифу ultra растет с начала года и достигает своего максимума в декабре. Также мы наблюдаем резкое снижение по тарифу ultra с января по февраль (~ на 10 сообщений). Среднее количество сообщений по тарифу smart растет с начала года и в мае рост останавливается и остается до конца года в пределах 39-42 сообщений."
   ]
  },
  {
   "cell_type": "code",
   "execution_count": 60,
   "metadata": {},
   "outputs": [
    {
     "name": "stdout",
     "output_type": "stream",
     "text": [
      "Рост количества сообщений по тарифу ultra составил: 69%\n",
      "Рост количества сообщений по тарифу smart составил: 114%\n"
     ]
    }
   ],
   "source": [
    "print('Рост количества сообщений по тарифу ultra составил: {:.0%}'\n",
    "      .format(growth(message_tariff, 'ultra')))\n",
    "print('Рост количества сообщений по тарифу smart составил: {:.0%}'\n",
    "      .format(growth(message_tariff, 'smart')))"
   ]
  },
  {
   "cell_type": "code",
   "execution_count": 61,
   "metadata": {},
   "outputs": [
    {
     "name": "stdout",
     "output_type": "stream",
     "text": [
      "Среднее количество сообщений по тарифу ultra: 61.79\n",
      "Среднее количество сообщений по тарифу smart: 38.70\n",
      "Среднее количество сообщений: 45.25\n"
     ]
    }
   ],
   "source": [
    "print('Среднее количество сообщений по тарифу ultra: {:.2f}'. format(user_stat.query('tariff == \"ultra\"')['id_message'].mean()))\n",
    "print('Среднее количество сообщений по тарифу smart: {:.2f}'. format(user_stat.query('tariff == \"smart\"')['id_message'].mean()))\n",
    "print('Среднее количество сообщений: {:.2f}'. format(user_stat['id_message'].mean()))"
   ]
  },
  {
   "cell_type": "markdown",
   "metadata": {},
   "source": [
    "Расчитаем дисперсию и стандартное отклонение показателя количество сообщений ежемесячно."
   ]
  },
  {
   "cell_type": "code",
   "execution_count": 62,
   "metadata": {},
   "outputs": [
    {
     "name": "stdout",
     "output_type": "stream",
     "text": [
      "Дисперсия: 1188.95\n",
      "Стандартное отклонение: 34.48\n"
     ]
    }
   ],
   "source": [
    "messages_var = np.var(user_stat['id_message'], ddof=1)\n",
    "messages_std = np.sqrt(messages_var)\n",
    "\n",
    "print('Дисперсия: {:.2f}'. format(messages_var))\n",
    "print('Стандартное отклонение: {:.2f}'. format(messages_std))"
   ]
  },
  {
   "cell_type": "code",
   "execution_count": 63,
   "metadata": {},
   "outputs": [
    {
     "data": {
      "image/png": "[encoded data removed]",
      "text/plain": [
       "<Figure size 1080x720 with 1 Axes>"
      ]
     },
     "metadata": {
      "needs_background": "light"
     },
     "output_type": "display_data"
    }
   ],
   "source": [
    "histogram(user_stat['id_message'], 10, True)"
   ]
  },
  {
   "cell_type": "markdown",
   "metadata": {},
   "source": [
    "Данные в колонке id_message, показывающие среднее количество сообщений, которое пользователи отправляют ежемесячно, имеют распределение близкое к распределению Пуассона. Чаще всего пользователи отправляют не более 50 сообщений в месяц."
   ]
  },
  {
   "cell_type": "markdown",
   "metadata": {},
   "source": [
    "4) Проанализируем объем используемого интернет трафика помесячно для каждого тарифа."
   ]
  },
  {
   "cell_type": "code",
   "execution_count": 64,
   "metadata": {
    "scrolled": false
   },
   "outputs": [
    {
     "data": {
      "text/html": [
       "<div>\n",
       "<style scoped>\n",
       "    .dataframe tbody tr th:only-of-type {\n",
       "        vertical-align: middle;\n",
       "    }\n",
       "\n",
       "    .dataframe tbody tr th {\n",
       "        vertical-align: top;\n",
       "    }\n",
       "\n",
       "    .dataframe thead th {\n",
       "        text-align: right;\n",
       "    }\n",
       "</style>\n",
       "<table border=\"1\" class=\"dataframe\">\n",
       "  <thead>\n",
       "    <tr style=\"text-align: right;\">\n",
       "      <th>tariff</th>\n",
       "      <th>smart</th>\n",
       "      <th>ultra</th>\n",
       "    </tr>\n",
       "    <tr>\n",
       "      <th>month_code</th>\n",
       "      <th></th>\n",
       "      <th></th>\n",
       "    </tr>\n",
       "  </thead>\n",
       "  <tbody>\n",
       "    <tr>\n",
       "      <th>1</th>\n",
       "      <td>9723.0</td>\n",
       "      <td>13702.9</td>\n",
       "    </tr>\n",
       "    <tr>\n",
       "      <th>2</th>\n",
       "      <td>13222.4</td>\n",
       "      <td>13598.9</td>\n",
       "    </tr>\n",
       "    <tr>\n",
       "      <th>3</th>\n",
       "      <td>17192.3</td>\n",
       "      <td>18306.0</td>\n",
       "    </tr>\n",
       "    <tr>\n",
       "      <th>4</th>\n",
       "      <td>15370.6</td>\n",
       "      <td>18141.0</td>\n",
       "    </tr>\n",
       "    <tr>\n",
       "      <th>5</th>\n",
       "      <td>17949.1</td>\n",
       "      <td>20968.1</td>\n",
       "    </tr>\n",
       "    <tr>\n",
       "      <th>6</th>\n",
       "      <td>18112.0</td>\n",
       "      <td>20066.3</td>\n",
       "    </tr>\n",
       "    <tr>\n",
       "      <th>7</th>\n",
       "      <td>18060.2</td>\n",
       "      <td>21683.7</td>\n",
       "    </tr>\n",
       "    <tr>\n",
       "      <th>8</th>\n",
       "      <td>19101.6</td>\n",
       "      <td>20659.0</td>\n",
       "    </tr>\n",
       "    <tr>\n",
       "      <th>9</th>\n",
       "      <td>18663.9</td>\n",
       "      <td>20193.2</td>\n",
       "    </tr>\n",
       "    <tr>\n",
       "      <th>10</th>\n",
       "      <td>19188.3</td>\n",
       "      <td>21049.8</td>\n",
       "    </tr>\n",
       "    <tr>\n",
       "      <th>11</th>\n",
       "      <td>19385.8</td>\n",
       "      <td>20736.8</td>\n",
       "    </tr>\n",
       "    <tr>\n",
       "      <th>12</th>\n",
       "      <td>20764.8</td>\n",
       "      <td>22968.0</td>\n",
       "    </tr>\n",
       "  </tbody>\n",
       "</table>\n",
       "</div>"
      ],
      "text/plain": [
       "tariff        smart    ultra\n",
       "month_code                  \n",
       "1            9723.0  13702.9\n",
       "2           13222.4  13598.9\n",
       "3           17192.3  18306.0\n",
       "4           15370.6  18141.0\n",
       "5           17949.1  20968.1\n",
       "6           18112.0  20066.3\n",
       "7           18060.2  21683.7\n",
       "8           19101.6  20659.0\n",
       "9           18663.9  20193.2\n",
       "10          19188.3  21049.8\n",
       "11          19385.8  20736.8\n",
       "12          20764.8  22968.0"
      ]
     },
     "execution_count": 64,
     "metadata": {},
     "output_type": "execute_result"
    }
   ],
   "source": [
    "internet_tariff = user_stat.pivot_table(index='month_code', columns='tariff', values='mb_used').round(1)\n",
    "internet_tariff"
   ]
  },
  {
   "cell_type": "code",
   "execution_count": 65,
   "metadata": {
    "scrolled": false
   },
   "outputs": [
    {
     "data": {
      "image/png": "[encoded data removed]",
      "text/plain": [
       "<Figure size 1080x720 with 1 Axes>"
      ]
     },
     "metadata": {
      "needs_background": "light"
     },
     "output_type": "display_data"
    }
   ],
   "source": [
    "graphic(internet_tariff, 'o-', 0.7)"
   ]
  },
  {
   "cell_type": "markdown",
   "metadata": {},
   "source": [
    "Среднний объем интернет трафика по обоим тарифам рос с начала года и достиг максимума в конце."
   ]
  },
  {
   "cell_type": "code",
   "execution_count": 66,
   "metadata": {},
   "outputs": [
    {
     "name": "stdout",
     "output_type": "stream",
     "text": [
      "Рост интернет трафика по тарифу ultra составил:68%\n",
      "Рост интернет трафика по тарифу smart составил:114%\n"
     ]
    }
   ],
   "source": [
    "print('Рост интернет трафика по тарифу ultra составил:{:.0%}'\n",
    "      .format(growth(internet_tariff, 'ultra')))\n",
    "print('Рост интернет трафика по тарифу smart составил:{:.0%}'\n",
    "      .format(growth(internet_tariff, 'smart')))"
   ]
  },
  {
   "cell_type": "code",
   "execution_count": 67,
   "metadata": {},
   "outputs": [
    {
     "name": "stdout",
     "output_type": "stream",
     "text": [
      "Средний объем потребляемого интернет трафика по тарифу ultra: 20.10 ГБ\n",
      "Средний объем потребляемого интернет трафика по тарифу smart: 18.13 ГБ\n",
      "Средний объем потребляемого интернет трафика: 18.72 ГБ\n"
     ]
    }
   ],
   "source": [
    "print('Средний объем потребляемого интернет трафика по тарифу ultra: {:.2f} ГБ'. format(user_stat.query('tariff == \"ultra\"')['mb_used'].mean()/1024))\n",
    "print('Средний объем потребляемого интернет трафика по тарифу smart: {:.2f} ГБ'. format(user_stat.query('tariff == \"smart\"')['mb_used'].mean()/1024))\n",
    "print('Средний объем потребляемого интернет трафика: {:.2f} ГБ'. format(user_stat['mb_used'].mean()/1024))"
   ]
  },
  {
   "cell_type": "markdown",
   "metadata": {},
   "source": [
    "Расчитаем дисперсию и стандартное отклонение показателя интернет трафика ежемесячно."
   ]
  },
  {
   "cell_type": "code",
   "execution_count": 68,
   "metadata": {},
   "outputs": [
    {
     "name": "stdout",
     "output_type": "stream",
     "text": [
      "Дисперсия: 63671789.97\n",
      "Стандартное отклонение: 7979.46\n"
     ]
    }
   ],
   "source": [
    "mb_used_var = np.var(user_stat['mb_used'], ddof=1)\n",
    "mb_used_std = np.sqrt(mb_used_var)\n",
    "\n",
    "print('Дисперсия: {:.2f}'. format(mb_used_var))\n",
    "print('Стандартное отклонение: {:.2f}'. format(mb_used_std))"
   ]
  },
  {
   "cell_type": "code",
   "execution_count": 69,
   "metadata": {
    "scrolled": false
   },
   "outputs": [
    {
     "data": {
      "image/png": "[encoded data removed]",
      "text/plain": [
       "<Figure size 1080x720 with 1 Axes>"
      ]
     },
     "metadata": {
      "needs_background": "light"
     },
     "output_type": "display_data"
    }
   ],
   "source": [
    "histogram(user_stat['mb_used']/1024, 20, True)"
   ]
  },
  {
   "cell_type": "markdown",
   "metadata": {},
   "source": [
    "Данные в колонке mb_used, показывающие средний объем интернет трафика, который пользователи используют ежемесячно, имеют распределение распределение близкое к нормальному. Пользователи зачастую используют от 12,5 до 25 ГБ в месяц."
   ]
  },
  {
   "cell_type": "markdown",
   "metadata": {},
   "source": [
    "### Вывод"
   ]
  },
  {
   "cell_type": "markdown",
   "metadata": {},
   "source": [
    "Мы проанализировали показатели по количеству звонков, сообщений, продолжительности звонков и объему интернет трафика помесячно.  Мы наблюдаем в среднем рост показателей в течение 2018 года. По тарифу ultra показатели падают или перестают расти с явнаря по февраль, но затем снова возобновляют рост. Интенсивнее всех растут показатели по пользователям тарифа smart."
   ]
  },
  {
   "cell_type": "markdown",
   "metadata": {},
   "source": [
    "# Шаг 4. Проверка гипотез <a id = \"4.\"> </a>"
   ]
  },
  {
   "cell_type": "markdown",
   "metadata": {},
   "source": [
    "1) Проверим гипотезу о том, что средняя выручка пользователей тарифов «Ультра» и «Смарт» различается. Сформируем нулевую гипотезу H₀. H₀ всегда формулируется так, чтобы использовать знак равенства. Звучать она будет так: \"средняя выручка пользователей тарифов «Ультра» и «Смарт» не различается.\" Следовательно алтернативная гипотеза H₁ будет звучать как: \"cредняя выручка пользователей тарифов «Ультра» и «Смарт» различается\". "
   ]
  },
  {
   "cell_type": "markdown",
   "metadata": {},
   "source": [
    "Определим 2 выборки для проверки гипотез."
   ]
  },
  {
   "cell_type": "code",
   "execution_count": 70,
   "metadata": {},
   "outputs": [],
   "source": [
    "# средняя выручка по тарифу ultra\n",
    "sample_ultra = user_revenue.query('tariff == \"ultra\"')['total_revenue']\n",
    "\n",
    "# выручка по тарифу smart\n",
    "sample_smart = user_revenue.query('tariff == \"smart\"')['total_revenue']"
   ]
  },
  {
   "cell_type": "markdown",
   "metadata": {},
   "source": [
    "Уровень значимости - это вероятность того, что мы сочли различия существенными, а они на самом деле случайны. Установим критический уровень статистической значимости на общепринятом уровне для двух тестов = .05. Для решения вопроса о принятии или отвержении нулевой гипотезы будем использовать p-value Проверим гипотезы."
   ]
  },
  {
   "cell_type": "code",
   "execution_count": 71,
   "metadata": {},
   "outputs": [
    {
     "name": "stdout",
     "output_type": "stream",
     "text": [
      "p-значение: 8.045923488203983e-36\n",
      "Отвергаем нулевую гипотезу\n"
     ]
    }
   ],
   "source": [
    "# критический уровень статистической значимости\n",
    "# если p-value окажется меньше него - отвергнем гипотезу\n",
    "alpha_1 = .05 \n",
    "\n",
    "# указваем параметр equal_var функции st.ttest_ind равным \"True\", так как обе выборки взяты из одной генеральной совокупности\n",
    "results_1 = st.ttest_ind(\n",
    "    sample_ultra, \n",
    "    sample_smart, equal_var = True)\n",
    "\n",
    "print('p-значение:', results_1.pvalue)\n",
    "\n",
    "if (results_1.pvalue < alpha_1):\n",
    "    print(\"Отвергаем нулевую гипотезу\")\n",
    "else:\n",
    "    print(\"Не получилось отвергнуть нулевую гипотезу\")"
   ]
  },
  {
   "cell_type": "markdown",
   "metadata": {},
   "source": [
    "Полученное значение p-value говорит о том, что средняя выручка от разных тарифов неодинакова и с вероятностью близкой к нулю такое различие можно получить случайно. Из этого следует вывод о большом различие между средней выручкой 2-х тарифов. Взглянем на данные."
   ]
  },
  {
   "cell_type": "code",
   "execution_count": 72,
   "metadata": {},
   "outputs": [
    {
     "data": {
      "text/html": [
       "<div>\n",
       "<style scoped>\n",
       "    .dataframe tbody tr th:only-of-type {\n",
       "        vertical-align: middle;\n",
       "    }\n",
       "\n",
       "    .dataframe tbody tr th {\n",
       "        vertical-align: top;\n",
       "    }\n",
       "\n",
       "    .dataframe thead th {\n",
       "        text-align: right;\n",
       "    }\n",
       "</style>\n",
       "<table border=\"1\" class=\"dataframe\">\n",
       "  <thead>\n",
       "    <tr style=\"text-align: right;\">\n",
       "      <th>tariff</th>\n",
       "      <th>smart</th>\n",
       "      <th>ultra</th>\n",
       "    </tr>\n",
       "    <tr>\n",
       "      <th>month_code</th>\n",
       "      <th></th>\n",
       "      <th></th>\n",
       "    </tr>\n",
       "  </thead>\n",
       "  <tbody>\n",
       "    <tr>\n",
       "      <th>1</th>\n",
       "      <td>818.9</td>\n",
       "      <td>1950.0</td>\n",
       "    </tr>\n",
       "    <tr>\n",
       "      <th>2</th>\n",
       "      <td>989.8</td>\n",
       "      <td>1996.4</td>\n",
       "    </tr>\n",
       "    <tr>\n",
       "      <th>3</th>\n",
       "      <td>1449.2</td>\n",
       "      <td>2045.3</td>\n",
       "    </tr>\n",
       "    <tr>\n",
       "      <th>4</th>\n",
       "      <td>1204.3</td>\n",
       "      <td>2024.3</td>\n",
       "    </tr>\n",
       "    <tr>\n",
       "      <th>5</th>\n",
       "      <td>1524.2</td>\n",
       "      <td>2102.9</td>\n",
       "    </tr>\n",
       "    <tr>\n",
       "      <th>6</th>\n",
       "      <td>1541.9</td>\n",
       "      <td>2065.0</td>\n",
       "    </tr>\n",
       "    <tr>\n",
       "      <th>7</th>\n",
       "      <td>1574.4</td>\n",
       "      <td>2148.1</td>\n",
       "    </tr>\n",
       "    <tr>\n",
       "      <th>8</th>\n",
       "      <td>1704.4</td>\n",
       "      <td>2120.6</td>\n",
       "    </tr>\n",
       "    <tr>\n",
       "      <th>9</th>\n",
       "      <td>1612.0</td>\n",
       "      <td>2041.6</td>\n",
       "    </tr>\n",
       "    <tr>\n",
       "      <th>10</th>\n",
       "      <td>1761.3</td>\n",
       "      <td>2096.6</td>\n",
       "    </tr>\n",
       "    <tr>\n",
       "      <th>11</th>\n",
       "      <td>1759.5</td>\n",
       "      <td>2117.3</td>\n",
       "    </tr>\n",
       "    <tr>\n",
       "      <th>12</th>\n",
       "      <td>2036.6</td>\n",
       "      <td>2167.2</td>\n",
       "    </tr>\n",
       "  </tbody>\n",
       "</table>\n",
       "</div>"
      ],
      "text/plain": [
       "tariff       smart   ultra\n",
       "month_code                \n",
       "1            818.9  1950.0\n",
       "2            989.8  1996.4\n",
       "3           1449.2  2045.3\n",
       "4           1204.3  2024.3\n",
       "5           1524.2  2102.9\n",
       "6           1541.9  2065.0\n",
       "7           1574.4  2148.1\n",
       "8           1704.4  2120.6\n",
       "9           1612.0  2041.6\n",
       "10          1761.3  2096.6\n",
       "11          1759.5  2117.3\n",
       "12          2036.6  2167.2"
      ]
     },
     "execution_count": 72,
     "metadata": {},
     "output_type": "execute_result"
    }
   ],
   "source": [
    "tariff_revenue = user_revenue.pivot_table(index='month_code', columns='tariff', values='total_revenue').round(1)\n",
    "tariff_revenue"
   ]
  },
  {
   "cell_type": "code",
   "execution_count": 73,
   "metadata": {},
   "outputs": [
    {
     "data": {
      "image/png": "[encoded data removed]",
      "text/plain": [
       "<Figure size 1080x720 with 1 Axes>"
      ]
     },
     "metadata": {
      "needs_background": "light"
     },
     "output_type": "display_data"
    }
   ],
   "source": [
    "graphic(tariff_revenue, 'o-', 0.7)"
   ]
  },
  {
   "cell_type": "markdown",
   "metadata": {},
   "source": [
    "2) Проверим гипотезу о том, что средняя выручка пользователей из Москвы отличается от выручки пользователей из других регионов. Сформируем нулевую гипотезу H₀. Звучать она будет так: \"средняя выручка от пользователей из Москвы не отличается от средней выручки по регионам.\" Следовательно алтернативная гипотеза H₁ будет звучать как: \"средняя выручка от пользователей из Москвы отличается от средней выручки по регионам\"."
   ]
  },
  {
   "cell_type": "markdown",
   "metadata": {},
   "source": [
    "Для начала добавим в датасет информацию о том, в какой регионе проживает пользователь."
   ]
  },
  {
   "cell_type": "code",
   "execution_count": 74,
   "metadata": {},
   "outputs": [],
   "source": [
    "# датасет, который соотносит пользователя и его город проживания\n",
    "user_city = users[['user_id', 'city']]\n",
    "\n",
    "# добавляет город к сводному датасету\n",
    "user_revenue = (user_revenue\n",
    "                    .merge(user_city, how='left',\n",
    "                    left_on=['user_id'], \n",
    "                    right_on=['user_id']))"
   ]
  },
  {
   "cell_type": "markdown",
   "metadata": {},
   "source": [
    "Определим выборки для проверки гипотез."
   ]
  },
  {
   "cell_type": "code",
   "execution_count": 75,
   "metadata": {
    "scrolled": true
   },
   "outputs": [],
   "source": [
    "# средняя выручка по Москве\n",
    "sample_Moscow = user_revenue.query('city == \"Москва\"')['total_revenue']\n",
    "\n",
    "# средняя выручка по другим регионам\n",
    "sample_Regions = user_revenue.query('tariff != \"Москва\"')['total_revenue']"
   ]
  },
  {
   "cell_type": "markdown",
   "metadata": {},
   "source": [
    "Проверим гипотезы."
   ]
  },
  {
   "cell_type": "code",
   "execution_count": 76,
   "metadata": {},
   "outputs": [
    {
     "name": "stdout",
     "output_type": "stream",
     "text": [
      "p-значение: 0.8824679993456394\n",
      "Не получилось отвергнуть нулевую гипотезу\n"
     ]
    }
   ],
   "source": [
    "# критический уровень статистической значимости\n",
    "# если p-value окажется меньше него - отвергнем гипотезу \n",
    "alpha_2 = .05 \n",
    "\n",
    "# указваем параметр equal_var функции st.ttest_ind равным \"True\", так как обе выборки взяты из одной генеральной совокупности\n",
    "results_2 = st.ttest_ind(\n",
    "    sample_Moscow, \n",
    "    sample_Regions, equal_var = True)\n",
    "\n",
    "print('p-значение:', results_2.pvalue)\n",
    "\n",
    "if (results_2.pvalue < alpha_2):\n",
    "    print(\"Отвергаем нулевую гипотезу\")\n",
    "else:\n",
    "    print(\"Не получилось отвергнуть нулевую гипотезу\")"
   ]
  },
  {
   "cell_type": "markdown",
   "metadata": {},
   "source": [
    "Полученное значение p-value говорит о том, что хотя средняя выручка чпо Москве и регионам неодинакова, с вероятностью в почти 88% такое различие можно получить случайно. Это слишком большая вероятность, чтобы делать вывод о значимом различии между средней выручкой по Москве и регионам."
   ]
  },
  {
   "cell_type": "markdown",
   "metadata": {},
   "source": [
    "### Вывод"
   ]
  },
  {
   "cell_type": "markdown",
   "metadata": {},
   "source": [
    "В ходе анализа нам удалось опровергнуть гипотезу о равенстве средей выручки от тарифа smart и ultra. Различие между выручкой по 2-м тарифам велико. Но несмотря на это средняя выручка по тарифу smart росла на протяжении года и стала приближаться к средней выручке по тарифу ultra. Также нам удалось подтвердить гипотезу о равенстве средней выручки от Московских и региональных пользователей. Несмотря на то, что пользователи Москвы наиболее платежеспособны, в среднем ее выручка равна средней выручке регионов."
   ]
  },
  {
   "cell_type": "markdown",
   "metadata": {},
   "source": [
    "# Шаг 5. Общий вывод <a id = \"5.\"> </a>"
   ]
  },
  {
   "cell_type": "markdown",
   "metadata": {},
   "source": [
    "Была проведена обработка исходных данных от дубликатов, пропущенных и нулевых значений. Был выявлен недочет в полученных данных, а имеено то, что данные по некоторым пользователям отсутствовали. Анализ действий пользователей по тарифам показал, что в среднем пользователи каждого тарифа стали чаще и дольше звонить, стали отправлять больше сообщения и актвинее использовать интернет. Нам удалось выяснить, что активность пользователей тарифа smart растет быстрее, чем у пользователей тарифа ultra в среднем 2,3 раза. В ходе анализа нам удалось опровергнуть гипотезу о равенстве средей выручки от тарифа smart и ultra, а также подтвердить гипотезу о равенстве средней выручки от Московских и региональных пользователей. В итоге мы видим, что тариф ultra приносит в среднем больше выручку, чем тариф smart. Однако темп роста активности пользователей у тарифа smart больше в разы и средняя выручка по тарифу smart начинает приближаться к средней выручке по тарифу ultra. Также мы видим, что активность пользователей по тарифу ultra проседает в феврале по всем показателям. С целью увеличения выручки и активности пользователей предлагаем сформировать новый рекламный бюджет для привлечения новых пользователей по тарифу ultra, как новых, так и среди пользователей тарифа smart."
   ]
  }
 ],
 "metadata": {
  "kernelspec": {
   "display_name": "Python 3",
   "language": "python",
   "name": "python3"
  },
  "language_info": {
   "codemirror_mode": {
    "name": "ipython",
    "version": 3
   },
   "file_extension": ".py",
   "mimetype": "text/x-python",
   "name": "python",
   "nbconvert_exporter": "python",
   "pygments_lexer": "ipython3",
   "version": "3.7.7"
  }
 },
 "nbformat": 4,
 "nbformat_minor": 2
}
