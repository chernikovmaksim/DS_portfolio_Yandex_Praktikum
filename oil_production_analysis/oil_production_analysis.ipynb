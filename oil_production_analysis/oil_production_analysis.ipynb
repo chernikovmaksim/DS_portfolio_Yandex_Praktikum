{
 "cells": [
  {
   "cell_type": "markdown",
   "metadata": {},
   "source": [
    "## План работы"
   ]
  },
  {
   "cell_type": "markdown",
   "metadata": {},
   "source": [
    "[1. Загрузка и подготовка данных](#1.)<br>\n",
    "[2. Обучение и проверка модели](#2.)<br>\n",
    "[3. Подготовка к расчёту прибыли](#3.)<br>\n",
    "[4. Расчёт прибыли и рисков](#4.)<br>"
   ]
  },
  {
   "cell_type": "markdown",
   "metadata": {},
   "source": [
    "# 1. Загрузка и подготовка данных <a id = \"1.\"> </a>"
   ]
  },
  {
   "cell_type": "code",
   "execution_count": 1,
   "metadata": {},
   "outputs": [],
   "source": [
    "import numpy as np\n",
    "import pandas as pd\n",
    "import matplotlib.pyplot as plt\n",
    "import seaborn as sns\n",
    "import warnings\n",
    "from sklearn.linear_model import LinearRegression\n",
    "from sklearn.model_selection import train_test_split\n",
    "from sklearn.metrics import mean_squared_error, r2_score\n",
    "import statistics\n",
    "import math\n",
    "\n",
    "warnings.filterwarnings('ignore') \n",
    "pd.options.display.max_rows = 100\n",
    "pd.options.display.max_columns = 100\n",
    "%matplotlib inline\n",
    "\n",
    "geo_data_0 = pd.read_csv(r'E:\\Документы прочие\\IT\\Яндекс практикум\\Project\\7 Машинное обучение в бизнесе\\geo_data_0.csv')\n",
    "geo_data_1 = pd.read_csv(r'E:\\Документы прочие\\IT\\Яндекс практикум\\Project\\7 Машинное обучение в бизнесе\\geo_data_1.csv')\n",
    "geo_data_2 = pd.read_csv(r'E:\\Документы прочие\\IT\\Яндекс практикум\\Project\\7 Машинное обучение в бизнесе\\geo_data_2.csv')\n",
    "\n",
    "def data_info(data):\n",
    "    '''\n",
    "    Функция принимает в качестве аргумента датасет.\n",
    "    Функция выводит информацию о датасете и первые 10 строк датасета, а также количество дубликатов.\n",
    "    '''\n",
    "    data.info()\n",
    "    display(data.head(10))\n",
    "    print('Количество дубликатов в данных:', data.duplicated().sum())\n",
    "    \n",
    "def ml_for_lr(data_train, data_valid):\n",
    "    '''\n",
    "    Функция принимает в качестве аргументов: обучающую и валидационную выборку.\n",
    "    Функция обучает модель линейной регрессии на обучающей выборке и расчитывает метрики по валидационной: RMSE и R2.\n",
    "    В качестве результата функция возвращает предсказанные и правильные значения.\n",
    "    '''\n",
    "    # разобьем данные обучающей выборки\n",
    "    features_train = data_train.drop(['product'], axis = 1)\n",
    "    target_train = data_train['product']\n",
    "    # разобьем данные тестовой выборки\n",
    "    features_valid = data_valid.drop(['product'], axis = 1)\n",
    "    target_valid = data_valid['product']\n",
    "    # обучим модель\n",
    "    model = LinearRegression()\n",
    "    model.fit(features_train, target_train)\n",
    "    predictions = model.predict(features_valid)\n",
    "    predictions = pd.Series(predictions)\n",
    "    mse = mean_squared_error(target_valid, predictions)\n",
    "    rmse = mse**0.5\n",
    "    mean = target_valid.mean()\n",
    "    print('Cредний запас сырья: {:.2f}'.format(mean))\n",
    "    print('RMSE(квадратный корень из средней квадратичной ошибки): {:.2f}'. format(rmse))\n",
    "    print('R2(коэффициент детерминации): {:.2f}'. format(r2_score(target_valid, predictions)))\n",
    "    return predictions, target_valid\n",
    "\n",
    "def test_split(data):\n",
    "    '''\n",
    "    Функция принимает в качестве аргумента датасет.\n",
    "    Функция разделяет выборку на обучающую и валидационную и делает reset индексов.\n",
    "    '''\n",
    "    data_train, data_valid = train_test_split(data, test_size = .25, random_state = 12345)\n",
    "    data_train = data_train.reset_index(drop = True)\n",
    "    data_valid = data_valid.reset_index(drop = True)\n",
    "    return data_train, data_valid\n",
    "\n",
    "def bootstrap(target, probabilities):\n",
    "    '''\n",
    "    Функция принимает в качестве аргементов: ответы, предсказания.\n",
    "    Фукнция вычисляет распределение прибыли с помощью техники bootstrap.\n",
    "    '''\n",
    "    # чтобы случайный элемент был всегда разным создадим переменную state\n",
    "    state = np.random.RandomState(12345)\n",
    "    # применим технику бутстреп для расчета доверительного интервала\n",
    "    values = []\n",
    "    for i in range(1000):\n",
    "        target_subsample = target.sample(n=SEARCH, replace=True, random_state=state)\n",
    "        probs_subsample = probabilities[target_subsample.index]\n",
    "        values.append(profit(target_subsample, probs_subsample, 200))\n",
    "    values = pd.Series(values)\n",
    "    #определим среднее значение\n",
    "    mean = values.mean()\n",
    "    # определим 95%-й доверительный интервал\n",
    "    lower = values.quantile(0.025)\n",
    "    upper = values.quantile(0.975)\n",
    "    # определим риск убытков\n",
    "    loss_count = values.where(values < 0).count()\n",
    "    risk_of_loss = loss_count / values.count()\n",
    "    print('Риск убытков: {:.2%}'. format(risk_of_loss))\n",
    "    print(\"Средняя прибыль: {:.2f}\". format(mean/10**9))\n",
    "    print(\"2.5%-квантиль: {:.2f}\". format(lower/10**9))\n",
    "    print(\"97.5%-квантиль: {:.2f}\". format(upper/10**9))"
   ]
  },
  {
   "cell_type": "markdown",
   "metadata": {},
   "source": [
    "Для анализа мы будем использовать датасеты: geo_data_0, geo_data_1, geo_data_2. Они содержат данные геологоразведки трёх регионов."
   ]
  },
  {
   "cell_type": "code",
   "execution_count": 2,
   "metadata": {
    "scrolled": true
   },
   "outputs": [
    {
     "name": "stdout",
     "output_type": "stream",
     "text": [
      "<class 'pandas.core.frame.DataFrame'>\n",
      "RangeIndex: 100000 entries, 0 to 99999\n",
      "Data columns (total 6 columns):\n",
      " #   Column      Non-Null Count   Dtype  \n",
      "---  ------      --------------   -----  \n",
      " 0   Unnamed: 0  100000 non-null  int64  \n",
      " 1   id          100000 non-null  object \n",
      " 2   f0          100000 non-null  float64\n",
      " 3   f1          100000 non-null  float64\n",
      " 4   f2          100000 non-null  float64\n",
      " 5   product     100000 non-null  float64\n",
      "dtypes: float64(4), int64(1), object(1)\n",
      "memory usage: 4.6+ MB\n"
     ]
    },
    {
     "data": {
      "text/html": [
       "<div>\n",
       "<style scoped>\n",
       "    .dataframe tbody tr th:only-of-type {\n",
       "        vertical-align: middle;\n",
       "    }\n",
       "\n",
       "    .dataframe tbody tr th {\n",
       "        vertical-align: top;\n",
       "    }\n",
       "\n",
       "    .dataframe thead th {\n",
       "        text-align: right;\n",
       "    }\n",
       "</style>\n",
       "<table border=\"1\" class=\"dataframe\">\n",
       "  <thead>\n",
       "    <tr style=\"text-align: right;\">\n",
       "      <th></th>\n",
       "      <th>Unnamed: 0</th>\n",
       "      <th>id</th>\n",
       "      <th>f0</th>\n",
       "      <th>f1</th>\n",
       "      <th>f2</th>\n",
       "      <th>product</th>\n",
       "    </tr>\n",
       "  </thead>\n",
       "  <tbody>\n",
       "    <tr>\n",
       "      <th>0</th>\n",
       "      <td>0</td>\n",
       "      <td>txEyH</td>\n",
       "      <td>0.705745</td>\n",
       "      <td>-0.497823</td>\n",
       "      <td>1.221170</td>\n",
       "      <td>105.280062</td>\n",
       "    </tr>\n",
       "    <tr>\n",
       "      <th>1</th>\n",
       "      <td>1</td>\n",
       "      <td>2acmU</td>\n",
       "      <td>1.334711</td>\n",
       "      <td>-0.340164</td>\n",
       "      <td>4.365080</td>\n",
       "      <td>73.037750</td>\n",
       "    </tr>\n",
       "    <tr>\n",
       "      <th>2</th>\n",
       "      <td>2</td>\n",
       "      <td>409Wp</td>\n",
       "      <td>1.022732</td>\n",
       "      <td>0.151990</td>\n",
       "      <td>1.419926</td>\n",
       "      <td>85.265647</td>\n",
       "    </tr>\n",
       "    <tr>\n",
       "      <th>3</th>\n",
       "      <td>3</td>\n",
       "      <td>iJLyR</td>\n",
       "      <td>-0.032172</td>\n",
       "      <td>0.139033</td>\n",
       "      <td>2.978566</td>\n",
       "      <td>168.620776</td>\n",
       "    </tr>\n",
       "    <tr>\n",
       "      <th>4</th>\n",
       "      <td>4</td>\n",
       "      <td>Xdl7t</td>\n",
       "      <td>1.988431</td>\n",
       "      <td>0.155413</td>\n",
       "      <td>4.751769</td>\n",
       "      <td>154.036647</td>\n",
       "    </tr>\n",
       "    <tr>\n",
       "      <th>5</th>\n",
       "      <td>5</td>\n",
       "      <td>wX4Hy</td>\n",
       "      <td>0.969570</td>\n",
       "      <td>0.489775</td>\n",
       "      <td>-0.735383</td>\n",
       "      <td>64.741541</td>\n",
       "    </tr>\n",
       "    <tr>\n",
       "      <th>6</th>\n",
       "      <td>6</td>\n",
       "      <td>tL6pL</td>\n",
       "      <td>0.645075</td>\n",
       "      <td>0.530656</td>\n",
       "      <td>1.780266</td>\n",
       "      <td>49.055285</td>\n",
       "    </tr>\n",
       "    <tr>\n",
       "      <th>7</th>\n",
       "      <td>7</td>\n",
       "      <td>BYPU6</td>\n",
       "      <td>-0.400648</td>\n",
       "      <td>0.808337</td>\n",
       "      <td>-5.624670</td>\n",
       "      <td>72.943292</td>\n",
       "    </tr>\n",
       "    <tr>\n",
       "      <th>8</th>\n",
       "      <td>8</td>\n",
       "      <td>j9Oui</td>\n",
       "      <td>0.643105</td>\n",
       "      <td>-0.551583</td>\n",
       "      <td>2.372141</td>\n",
       "      <td>113.356160</td>\n",
       "    </tr>\n",
       "    <tr>\n",
       "      <th>9</th>\n",
       "      <td>9</td>\n",
       "      <td>OLuZU</td>\n",
       "      <td>2.173381</td>\n",
       "      <td>0.563698</td>\n",
       "      <td>9.441852</td>\n",
       "      <td>127.910945</td>\n",
       "    </tr>\n",
       "  </tbody>\n",
       "</table>\n",
       "</div>"
      ],
      "text/plain": [
       "   Unnamed: 0     id        f0        f1        f2     product\n",
       "0           0  txEyH  0.705745 -0.497823  1.221170  105.280062\n",
       "1           1  2acmU  1.334711 -0.340164  4.365080   73.037750\n",
       "2           2  409Wp  1.022732  0.151990  1.419926   85.265647\n",
       "3           3  iJLyR -0.032172  0.139033  2.978566  168.620776\n",
       "4           4  Xdl7t  1.988431  0.155413  4.751769  154.036647\n",
       "5           5  wX4Hy  0.969570  0.489775 -0.735383   64.741541\n",
       "6           6  tL6pL  0.645075  0.530656  1.780266   49.055285\n",
       "7           7  BYPU6 -0.400648  0.808337 -5.624670   72.943292\n",
       "8           8  j9Oui  0.643105 -0.551583  2.372141  113.356160\n",
       "9           9  OLuZU  2.173381  0.563698  9.441852  127.910945"
      ]
     },
     "metadata": {},
     "output_type": "display_data"
    },
    {
     "name": "stdout",
     "output_type": "stream",
     "text": [
      "Количество дубликатов в данных: 0\n"
     ]
    }
   ],
   "source": [
    "data_info(geo_data_0)"
   ]
  },
  {
   "cell_type": "code",
   "execution_count": 3,
   "metadata": {},
   "outputs": [
    {
     "name": "stdout",
     "output_type": "stream",
     "text": [
      "<class 'pandas.core.frame.DataFrame'>\n",
      "RangeIndex: 100000 entries, 0 to 99999\n",
      "Data columns (total 6 columns):\n",
      " #   Column      Non-Null Count   Dtype  \n",
      "---  ------      --------------   -----  \n",
      " 0   Unnamed: 0  100000 non-null  int64  \n",
      " 1   id          100000 non-null  object \n",
      " 2   f0          100000 non-null  float64\n",
      " 3   f1          100000 non-null  float64\n",
      " 4   f2          100000 non-null  float64\n",
      " 5   product     100000 non-null  float64\n",
      "dtypes: float64(4), int64(1), object(1)\n",
      "memory usage: 4.6+ MB\n"
     ]
    },
    {
     "data": {
      "text/html": [
       "<div>\n",
       "<style scoped>\n",
       "    .dataframe tbody tr th:only-of-type {\n",
       "        vertical-align: middle;\n",
       "    }\n",
       "\n",
       "    .dataframe tbody tr th {\n",
       "        vertical-align: top;\n",
       "    }\n",
       "\n",
       "    .dataframe thead th {\n",
       "        text-align: right;\n",
       "    }\n",
       "</style>\n",
       "<table border=\"1\" class=\"dataframe\">\n",
       "  <thead>\n",
       "    <tr style=\"text-align: right;\">\n",
       "      <th></th>\n",
       "      <th>Unnamed: 0</th>\n",
       "      <th>id</th>\n",
       "      <th>f0</th>\n",
       "      <th>f1</th>\n",
       "      <th>f2</th>\n",
       "      <th>product</th>\n",
       "    </tr>\n",
       "  </thead>\n",
       "  <tbody>\n",
       "    <tr>\n",
       "      <th>0</th>\n",
       "      <td>0</td>\n",
       "      <td>kBEdx</td>\n",
       "      <td>-15.001348</td>\n",
       "      <td>-8.276000</td>\n",
       "      <td>-0.005876</td>\n",
       "      <td>3.179103</td>\n",
       "    </tr>\n",
       "    <tr>\n",
       "      <th>1</th>\n",
       "      <td>1</td>\n",
       "      <td>62mP7</td>\n",
       "      <td>14.272088</td>\n",
       "      <td>-3.475083</td>\n",
       "      <td>0.999183</td>\n",
       "      <td>26.953261</td>\n",
       "    </tr>\n",
       "    <tr>\n",
       "      <th>2</th>\n",
       "      <td>2</td>\n",
       "      <td>vyE1P</td>\n",
       "      <td>6.263187</td>\n",
       "      <td>-5.948386</td>\n",
       "      <td>5.001160</td>\n",
       "      <td>134.766305</td>\n",
       "    </tr>\n",
       "    <tr>\n",
       "      <th>3</th>\n",
       "      <td>3</td>\n",
       "      <td>KcrkZ</td>\n",
       "      <td>-13.081196</td>\n",
       "      <td>-11.506057</td>\n",
       "      <td>4.999415</td>\n",
       "      <td>137.945408</td>\n",
       "    </tr>\n",
       "    <tr>\n",
       "      <th>4</th>\n",
       "      <td>4</td>\n",
       "      <td>AHL4O</td>\n",
       "      <td>12.702195</td>\n",
       "      <td>-8.147433</td>\n",
       "      <td>5.004363</td>\n",
       "      <td>134.766305</td>\n",
       "    </tr>\n",
       "    <tr>\n",
       "      <th>5</th>\n",
       "      <td>5</td>\n",
       "      <td>HHckp</td>\n",
       "      <td>-3.327590</td>\n",
       "      <td>-2.205276</td>\n",
       "      <td>3.003647</td>\n",
       "      <td>84.038886</td>\n",
       "    </tr>\n",
       "    <tr>\n",
       "      <th>6</th>\n",
       "      <td>6</td>\n",
       "      <td>h5Ujo</td>\n",
       "      <td>-11.142655</td>\n",
       "      <td>-10.133399</td>\n",
       "      <td>4.002382</td>\n",
       "      <td>110.992147</td>\n",
       "    </tr>\n",
       "    <tr>\n",
       "      <th>7</th>\n",
       "      <td>7</td>\n",
       "      <td>muH9x</td>\n",
       "      <td>4.234715</td>\n",
       "      <td>-0.001354</td>\n",
       "      <td>2.004588</td>\n",
       "      <td>53.906522</td>\n",
       "    </tr>\n",
       "    <tr>\n",
       "      <th>8</th>\n",
       "      <td>8</td>\n",
       "      <td>YiRkx</td>\n",
       "      <td>13.355129</td>\n",
       "      <td>-0.332068</td>\n",
       "      <td>4.998647</td>\n",
       "      <td>134.766305</td>\n",
       "    </tr>\n",
       "    <tr>\n",
       "      <th>9</th>\n",
       "      <td>9</td>\n",
       "      <td>jG6Gi</td>\n",
       "      <td>1.069227</td>\n",
       "      <td>-11.025667</td>\n",
       "      <td>4.997844</td>\n",
       "      <td>137.945408</td>\n",
       "    </tr>\n",
       "  </tbody>\n",
       "</table>\n",
       "</div>"
      ],
      "text/plain": [
       "   Unnamed: 0     id         f0         f1        f2     product\n",
       "0           0  kBEdx -15.001348  -8.276000 -0.005876    3.179103\n",
       "1           1  62mP7  14.272088  -3.475083  0.999183   26.953261\n",
       "2           2  vyE1P   6.263187  -5.948386  5.001160  134.766305\n",
       "3           3  KcrkZ -13.081196 -11.506057  4.999415  137.945408\n",
       "4           4  AHL4O  12.702195  -8.147433  5.004363  134.766305\n",
       "5           5  HHckp  -3.327590  -2.205276  3.003647   84.038886\n",
       "6           6  h5Ujo -11.142655 -10.133399  4.002382  110.992147\n",
       "7           7  muH9x   4.234715  -0.001354  2.004588   53.906522\n",
       "8           8  YiRkx  13.355129  -0.332068  4.998647  134.766305\n",
       "9           9  jG6Gi   1.069227 -11.025667  4.997844  137.945408"
      ]
     },
     "metadata": {},
     "output_type": "display_data"
    },
    {
     "name": "stdout",
     "output_type": "stream",
     "text": [
      "Количество дубликатов в данных: 0\n"
     ]
    }
   ],
   "source": [
    "data_info(geo_data_1)"
   ]
  },
  {
   "cell_type": "code",
   "execution_count": 4,
   "metadata": {},
   "outputs": [
    {
     "name": "stdout",
     "output_type": "stream",
     "text": [
      "<class 'pandas.core.frame.DataFrame'>\n",
      "RangeIndex: 100000 entries, 0 to 99999\n",
      "Data columns (total 6 columns):\n",
      " #   Column      Non-Null Count   Dtype  \n",
      "---  ------      --------------   -----  \n",
      " 0   Unnamed: 0  100000 non-null  int64  \n",
      " 1   id          100000 non-null  object \n",
      " 2   f0          100000 non-null  float64\n",
      " 3   f1          100000 non-null  float64\n",
      " 4   f2          100000 non-null  float64\n",
      " 5   product     100000 non-null  float64\n",
      "dtypes: float64(4), int64(1), object(1)\n",
      "memory usage: 4.6+ MB\n"
     ]
    },
    {
     "data": {
      "text/html": [
       "<div>\n",
       "<style scoped>\n",
       "    .dataframe tbody tr th:only-of-type {\n",
       "        vertical-align: middle;\n",
       "    }\n",
       "\n",
       "    .dataframe tbody tr th {\n",
       "        vertical-align: top;\n",
       "    }\n",
       "\n",
       "    .dataframe thead th {\n",
       "        text-align: right;\n",
       "    }\n",
       "</style>\n",
       "<table border=\"1\" class=\"dataframe\">\n",
       "  <thead>\n",
       "    <tr style=\"text-align: right;\">\n",
       "      <th></th>\n",
       "      <th>Unnamed: 0</th>\n",
       "      <th>id</th>\n",
       "      <th>f0</th>\n",
       "      <th>f1</th>\n",
       "      <th>f2</th>\n",
       "      <th>product</th>\n",
       "    </tr>\n",
       "  </thead>\n",
       "  <tbody>\n",
       "    <tr>\n",
       "      <th>0</th>\n",
       "      <td>0</td>\n",
       "      <td>fwXo0</td>\n",
       "      <td>-1.146987</td>\n",
       "      <td>0.963328</td>\n",
       "      <td>-0.828965</td>\n",
       "      <td>27.758673</td>\n",
       "    </tr>\n",
       "    <tr>\n",
       "      <th>1</th>\n",
       "      <td>1</td>\n",
       "      <td>WJtFt</td>\n",
       "      <td>0.262778</td>\n",
       "      <td>0.269839</td>\n",
       "      <td>-2.530187</td>\n",
       "      <td>56.069697</td>\n",
       "    </tr>\n",
       "    <tr>\n",
       "      <th>2</th>\n",
       "      <td>2</td>\n",
       "      <td>ovLUW</td>\n",
       "      <td>0.194587</td>\n",
       "      <td>0.289035</td>\n",
       "      <td>-5.586433</td>\n",
       "      <td>62.871910</td>\n",
       "    </tr>\n",
       "    <tr>\n",
       "      <th>3</th>\n",
       "      <td>3</td>\n",
       "      <td>q6cA6</td>\n",
       "      <td>2.236060</td>\n",
       "      <td>-0.553760</td>\n",
       "      <td>0.930038</td>\n",
       "      <td>114.572842</td>\n",
       "    </tr>\n",
       "    <tr>\n",
       "      <th>4</th>\n",
       "      <td>4</td>\n",
       "      <td>WPMUX</td>\n",
       "      <td>-0.515993</td>\n",
       "      <td>1.716266</td>\n",
       "      <td>5.899011</td>\n",
       "      <td>149.600746</td>\n",
       "    </tr>\n",
       "    <tr>\n",
       "      <th>5</th>\n",
       "      <td>5</td>\n",
       "      <td>LzZXx</td>\n",
       "      <td>-0.758092</td>\n",
       "      <td>0.710691</td>\n",
       "      <td>2.585887</td>\n",
       "      <td>90.222465</td>\n",
       "    </tr>\n",
       "    <tr>\n",
       "      <th>6</th>\n",
       "      <td>6</td>\n",
       "      <td>WBHRv</td>\n",
       "      <td>-0.574891</td>\n",
       "      <td>0.317727</td>\n",
       "      <td>1.773745</td>\n",
       "      <td>45.641478</td>\n",
       "    </tr>\n",
       "    <tr>\n",
       "      <th>7</th>\n",
       "      <td>7</td>\n",
       "      <td>XO8fn</td>\n",
       "      <td>-1.906649</td>\n",
       "      <td>-2.458350</td>\n",
       "      <td>-0.177097</td>\n",
       "      <td>72.480640</td>\n",
       "    </tr>\n",
       "    <tr>\n",
       "      <th>8</th>\n",
       "      <td>8</td>\n",
       "      <td>ybmQ5</td>\n",
       "      <td>1.776292</td>\n",
       "      <td>-0.279356</td>\n",
       "      <td>3.004156</td>\n",
       "      <td>106.616832</td>\n",
       "    </tr>\n",
       "    <tr>\n",
       "      <th>9</th>\n",
       "      <td>9</td>\n",
       "      <td>OilcN</td>\n",
       "      <td>-1.214452</td>\n",
       "      <td>-0.439314</td>\n",
       "      <td>5.922514</td>\n",
       "      <td>52.954532</td>\n",
       "    </tr>\n",
       "  </tbody>\n",
       "</table>\n",
       "</div>"
      ],
      "text/plain": [
       "   Unnamed: 0     id        f0        f1        f2     product\n",
       "0           0  fwXo0 -1.146987  0.963328 -0.828965   27.758673\n",
       "1           1  WJtFt  0.262778  0.269839 -2.530187   56.069697\n",
       "2           2  ovLUW  0.194587  0.289035 -5.586433   62.871910\n",
       "3           3  q6cA6  2.236060 -0.553760  0.930038  114.572842\n",
       "4           4  WPMUX -0.515993  1.716266  5.899011  149.600746\n",
       "5           5  LzZXx -0.758092  0.710691  2.585887   90.222465\n",
       "6           6  WBHRv -0.574891  0.317727  1.773745   45.641478\n",
       "7           7  XO8fn -1.906649 -2.458350 -0.177097   72.480640\n",
       "8           8  ybmQ5  1.776292 -0.279356  3.004156  106.616832\n",
       "9           9  OilcN -1.214452 -0.439314  5.922514   52.954532"
      ]
     },
     "metadata": {},
     "output_type": "display_data"
    },
    {
     "name": "stdout",
     "output_type": "stream",
     "text": [
      "Количество дубликатов в данных: 0\n"
     ]
    }
   ],
   "source": [
    "data_info(geo_data_2)"
   ]
  },
  {
   "cell_type": "markdown",
   "metadata": {},
   "source": [
    "Описание данных в датасетах:\n",
    "##### Признаки\n",
    "- id — уникальный идентификатор месторождения\n",
    "- f0, f1, f2 — три признака точек (неважно, что они означают, но сами признаки значимы)\n",
    "\n",
    "##### Целевой признак\n",
    "- product — объём запасов в месторождении (тыс. баррелей)."
   ]
  },
  {
   "cell_type": "markdown",
   "metadata": {},
   "source": [
    "Датасеты содержат колонку id с уникальным идентификатором месторождения. Она несет информативный характер и не оказывает влияния на целевой признак, поэтому мы не будем проводить ее кодировку и удалим в каждом датасете."
   ]
  },
  {
   "cell_type": "code",
   "execution_count": 5,
   "metadata": {},
   "outputs": [],
   "source": [
    "geo_data_0 = geo_data_0.drop(['id'], axis = 1)\n",
    "geo_data_1 = geo_data_1.drop(['id'], axis = 1)\n",
    "geo_data_2 = geo_data_2.drop(['id'], axis = 1)"
   ]
  },
  {
   "cell_type": "markdown",
   "metadata": {},
   "source": [
    "### Вывод"
   ]
  },
  {
   "cell_type": "markdown",
   "metadata": {},
   "source": [
    "Была изучена общая информация о полученных данных. Все 3 таблицы размером в 100000 строк состоит из 5 колонок и содержат данные 2-х типов: float64 и object. Данные не содержат пропусков или дубликатов. В данных присутствуют только количественные признаки."
   ]
  },
  {
   "cell_type": "markdown",
   "metadata": {},
   "source": [
    "# 2. Обучение и проверка модели <a id = \"2.\"> </a>"
   ]
  },
  {
   "cell_type": "markdown",
   "metadata": {},
   "source": [
    "#### Веделим из данных валидационную выборку"
   ]
  },
  {
   "cell_type": "markdown",
   "metadata": {},
   "source": [
    "Для дальнейшей валидации моделей мы выделим из данных валидационные выборки в размере 25% от общего объема."
   ]
  },
  {
   "cell_type": "code",
   "execution_count": 6,
   "metadata": {},
   "outputs": [],
   "source": [
    "# выделим валидационную выборку из исходных данных для региона 0\n",
    "geo_data_0_train, geo_data_0_valid = test_split(geo_data_0)\n",
    "# выделим валидационную выборку из исходных данных для региона 1\n",
    "geo_data_1_train, geo_data_1_valid = test_split(geo_data_1)\n",
    "# выделим валидационную выборку из исходных данных для региона 2\n",
    "geo_data_2_train, geo_data_2_valid = test_split(geo_data_2)"
   ]
  },
  {
   "cell_type": "markdown",
   "metadata": {},
   "source": [
    "#### Обучим модели и сделаем предсказания на валидационной выборке"
   ]
  },
  {
   "cell_type": "markdown",
   "metadata": {},
   "source": [
    "Для обучения модели подходит только линейная регрессия. Остальные модели недостаточно предсказуемые. Обучим модель и сделаем предсказания на валидационной выборке для каждого региона. Запишем результаты предсказаний и правильные ответы в переменные и проанализируем метрики."
   ]
  },
  {
   "cell_type": "markdown",
   "metadata": {},
   "source": [
    "#### Регион - 1"
   ]
  },
  {
   "cell_type": "code",
   "execution_count": 7,
   "metadata": {
    "scrolled": true
   },
   "outputs": [
    {
     "name": "stdout",
     "output_type": "stream",
     "text": [
      "Cредний запас сырья: 92.08\n",
      "RMSE(квадратный корень из средней квадратичной ошибки): 37.58\n",
      "R2(коэффициент детерминации): 0.28\n"
     ]
    }
   ],
   "source": [
    "predictions_0, target_valid_0 = ml_for_lr(geo_data_0_train, geo_data_0_valid)"
   ]
  },
  {
   "cell_type": "markdown",
   "metadata": {},
   "source": [
    "Не смотря на то, что занчение метрики модели R2 существенно ниже 1, все же она предсказывает объем лучше среднего. RMSE всего лишь составляет 2.4 от среднего запаса сырья по региону. Столь высокая ошибка влечет за собой как правило увеличение рисков. Однако высокий риск от части компенсируется высоким средним запасом сырья на одной скважине, большим, чем у второго региона на 23 тыс. баррелей."
   ]
  },
  {
   "cell_type": "markdown",
   "metadata": {},
   "source": [
    "#### Регион - 2"
   ]
  },
  {
   "cell_type": "code",
   "execution_count": 8,
   "metadata": {
    "scrolled": true
   },
   "outputs": [
    {
     "name": "stdout",
     "output_type": "stream",
     "text": [
      "Cредний запас сырья: 68.72\n",
      "RMSE(квадратный корень из средней квадратичной ошибки): 0.89\n",
      "R2(коэффициент детерминации): 1.00\n"
     ]
    }
   ],
   "source": [
    "predictions_1, target_valid_1 = ml_for_lr(geo_data_1_train, geo_data_1_valid)"
   ]
  },
  {
   "cell_type": "markdown",
   "metadata": {},
   "source": [
    "Значение метрики R2 равно единице только в одном случае, если MSE нулевое. Как мы видим RMSE - корень из MSE близок к нулю. Можно сделать вывод о том, что полученная модель по данному региону предсказывает объем нефти на скважине идеально. Средний запас сырья в данном регионе составляет 69 тыс. баррелей на одну скважину."
   ]
  },
  {
   "cell_type": "markdown",
   "metadata": {},
   "source": [
    "#### Регион - 3"
   ]
  },
  {
   "cell_type": "code",
   "execution_count": 9,
   "metadata": {},
   "outputs": [
    {
     "name": "stdout",
     "output_type": "stream",
     "text": [
      "Cредний запас сырья: 94.88\n",
      "RMSE(квадратный корень из средней квадратичной ошибки): 40.03\n",
      "R2(коэффициент детерминации): 0.21\n"
     ]
    }
   ],
   "source": [
    "predictions_2, target_valid_2 = ml_for_lr(geo_data_2_train, geo_data_2_valid)"
   ]
  },
  {
   "cell_type": "markdown",
   "metadata": {},
   "source": [
    "В моделе по последнему региону ситуция аналогичная той, которую мы наблюдали в модели первого региона. Модель предсказывает лучше среднего значения, однако ей далеко до идельной. Не смотря на самую высокую среди 3-х моделей ошибку в 40 тыс. баррелей на одну скважину, регион обладает самым высоким средним запасом сырья на скважину."
   ]
  },
  {
   "cell_type": "markdown",
   "metadata": {},
   "source": [
    "### Вывод"
   ]
  },
  {
   "cell_type": "markdown",
   "metadata": {},
   "source": [
    "Мы обучили модели линейной регрессии для 3-х регионов. Регион - 2 оказался худшим по среднему запасу сырья на скважину, но модель построенная для данного региона идально предсказывает объем сырья на скажине. Регионы 1 и 3 являются самыми рисковыми, так как их модели обладают большими RMSE, но также и самими богатыми, так как средний запас сырья на скажине превышает значение в 90 баррелей."
   ]
  },
  {
   "cell_type": "markdown",
   "metadata": {},
   "source": [
    "# 3. Подготовка к расчёту прибыли <a id = \"3.\"> </a>"
   ]
  },
  {
   "cell_type": "markdown",
   "metadata": {},
   "source": [
    "При разведке региона проводится исследование 500 точек."
   ]
  },
  {
   "cell_type": "code",
   "execution_count": 10,
   "metadata": {},
   "outputs": [],
   "source": [
    "SEARCH = 500"
   ]
  },
  {
   "cell_type": "markdown",
   "metadata": {},
   "source": [
    "Бюджет на разработку месторождений — 10 млрд рублей."
   ]
  },
  {
   "cell_type": "code",
   "execution_count": 11,
   "metadata": {},
   "outputs": [],
   "source": [
    "BUDGET_FOR_REGION = 10**10"
   ]
  },
  {
   "cell_type": "markdown",
   "metadata": {},
   "source": [
    "Cтоимость бурения одной скважины — 50 млн рублей."
   ]
  },
  {
   "cell_type": "code",
   "execution_count": 12,
   "metadata": {},
   "outputs": [],
   "source": [
    "COST_FOR_WELL = 50*(10**6)"
   ]
  },
  {
   "cell_type": "markdown",
   "metadata": {},
   "source": [
    "Один баррель сырья приносит 4500 рублей прибыли."
   ]
  },
  {
   "cell_type": "code",
   "execution_count": 13,
   "metadata": {},
   "outputs": [],
   "source": [
    "BAR_PRICE = 4500"
   ]
  },
  {
   "cell_type": "markdown",
   "metadata": {},
   "source": [
    "Имея определенный бюджет, мы будем стремиться потратить его весь, так как это повысит наши шансы на получение большей прибыли. Наш бюджет имеет 1 укрупненную статью расходов - стоимость бурения скважины. Вычислим какое максимальное количество скважин мы можем пробурить на имеющийся бюджет."
   ]
  },
  {
   "cell_type": "code",
   "execution_count": 14,
   "metadata": {},
   "outputs": [
    {
     "name": "stdout",
     "output_type": "stream",
     "text": [
      "Максимально возможное количество разработанных скажин в регионе: 200\n"
     ]
    }
   ],
   "source": [
    "max_well = BUDGET_FOR_REGION / COST_FOR_WELL\n",
    "print('Максимально возможное количество разработанных скажин в регионе: {:.0f}'. format(max_well))"
   ]
  },
  {
   "cell_type": "markdown",
   "metadata": {},
   "source": [
    "Посчитаем необходимый минимальный объём сырья с одной скважины, который окупит эту скважину."
   ]
  },
  {
   "cell_type": "code",
   "execution_count": 15,
   "metadata": {},
   "outputs": [
    {
     "name": "stdout",
     "output_type": "stream",
     "text": [
      "Минимальный объем для окупаемости скважины равен 11.11 тыс. баррелей\n"
     ]
    }
   ],
   "source": [
    "min_product_well = COST_FOR_WELL/BAR_PRICE/1000\n",
    "print('Минимальный объем для окупаемости скважины равен {:.2f} тыс. баррелей'.format(min_product_well))"
   ]
  },
  {
   "cell_type": "markdown",
   "metadata": {},
   "source": [
    "Для того, чтобы окупить бурение 1 скважины необходимо с нее добыть не менее 11.11 тыс. баррелей. Посчитаем минимальный средний объём сырья в месторождениях региона, достаточный для его разработки."
   ]
  },
  {
   "cell_type": "code",
   "execution_count": 16,
   "metadata": {},
   "outputs": [
    {
     "name": "stdout",
     "output_type": "stream",
     "text": [
      "Минимальный объем для окупаемости региона равен 2222.22 тыс. баррелей\n"
     ]
    }
   ],
   "source": [
    "min_product_region = BUDGET_FOR_REGION/BAR_PRICE/1000\n",
    "print('Минимальный объем для окупаемости региона равен {:.2f} тыс. баррелей'.format(min_product_region))"
   ]
  },
  {
   "cell_type": "markdown",
   "metadata": {},
   "source": [
    "Для того, чтобы окупить разработку месторождений в конкретном регионе, необходимо добыть из них не менее 2222.22 тыс. баррелей нефти."
   ]
  },
  {
   "cell_type": "markdown",
   "metadata": {},
   "source": [
    "Напишем функцию для расчёта прибыли по набору отобранных месторождений и предсказаний модели."
   ]
  },
  {
   "cell_type": "code",
   "execution_count": 17,
   "metadata": {},
   "outputs": [],
   "source": [
    "def profit(target, probabilities, count):\n",
    "    '''\n",
    "    Функция принимает в качестве аргументов: ответы, предсказания и размер выборки.\n",
    "    Функция вычисляет прибыль по выборке с указанной размерностью.\n",
    "    '''\n",
    "    probs_sorted = probabilities.sort_values(ascending=False)\n",
    "    selected = target[probs_sorted.index][:count]\n",
    "    result = BAR_PRICE * selected.sum()*1000 - COST_FOR_WELL*count\n",
    "    return result"
   ]
  },
  {
   "cell_type": "markdown",
   "metadata": {},
   "source": [
    "### Вывод"
   ]
  },
  {
   "cell_type": "markdown",
   "metadata": {},
   "source": [
    "2 222.22 тыс. баррелей нефти - минимальный объем, который необходимо добыть в регионе, для того, чтобы окупить разработку месторождений. При этом на имеющийся бюджет мы можем разработать не более 200 месторождений в регионе. Для расчета прибыли по набору отобранных месторождений и предсказаний модели была написана функция."
   ]
  },
  {
   "cell_type": "markdown",
   "metadata": {},
   "source": [
    "# 4. Расчёт прибыли и рисков <a id = \"4.\"> </a>"
   ]
  },
  {
   "cell_type": "markdown",
   "metadata": {},
   "source": [
    "Примените технику Bootstrap с 1000 выборок, чтобы найти распределение прибыли."
   ]
  },
  {
   "cell_type": "code",
   "execution_count": 18,
   "metadata": {},
   "outputs": [
    {
     "name": "stdout",
     "output_type": "stream",
     "text": [
      "Риск убытков: 0.00%\n",
      "Средняя прибыль: 94.26\n",
      "2.5%-квантиль: 88.98\n",
      "97.5%-квантиль: 99.48\n"
     ]
    }
   ],
   "source": [
    "bootstrap(target_valid_0, predictions_0)"
   ]
  },
  {
   "cell_type": "code",
   "execution_count": 19,
   "metadata": {},
   "outputs": [
    {
     "name": "stdout",
     "output_type": "stream",
     "text": [
      "Риск убытков: 0.00%\n",
      "Средняя прибыль: 95.15\n",
      "2.5%-квантиль: 90.69\n",
      "97.5%-квантиль: 99.32\n"
     ]
    }
   ],
   "source": [
    "bootstrap(target_valid_1, predictions_1)"
   ]
  },
  {
   "cell_type": "code",
   "execution_count": 20,
   "metadata": {},
   "outputs": [
    {
     "name": "stdout",
     "output_type": "stream",
     "text": [
      "Риск убытков: 0.00%\n",
      "Средняя прибыль: 94.35\n",
      "2.5%-квантиль: 88.71\n",
      "97.5%-квантиль: 99.69\n"
     ]
    }
   ],
   "source": [
    "bootstrap(target_valid_2, predictions_2)"
   ]
  },
  {
   "cell_type": "markdown",
   "metadata": {},
   "source": [
    "В результате мы видим, что во всех 3-х регионах отсутствует риск убытков. Это также подтверждается при сравнении средних значений объемов баррелей по регионам (92,69,94 тыс. бар.) и объема баррелей, необходимого чтобы выйти в 0 на скважине в регионе (11 тыс. бар.). Средняя прибыль во всех 3-х регионах примерно одинакова и раличается менее чем на 1 млрд. руб., но лидирует 2-й регион с результатом в 95.15 млрд. руб. Проанализировав доверительные интервалы, мы можем сделать вывод о то, что наиболее выгодным является для нас разработка месторождений во 2 регионе. Помимо того, что в доверительный интервал попадают значения с большей прибылью, так и обученная нами модель представляет собой идеальную модель предсказания. С большой долей уверенности можно сказать, что в этом регионе мы получим максимально возможную и предсказуемую прибыль и соответственно понесем меньше сопутствующих рисков."
   ]
  },
  {
   "cell_type": "markdown",
   "metadata": {},
   "source": [
    "### Вывод"
   ]
  },
  {
   "cell_type": "markdown",
   "metadata": {},
   "source": [
    "Мы применили технику Bootstrap с 1000 выборок, чтобы найти распределение прибыли. В результате анализа мы пришли в выводу о том, что наименее рисковым и выгодным для нас является 2 регион."
   ]
  },
  {
   "cell_type": "markdown",
   "metadata": {},
   "source": [
    "# Итог"
   ]
  },
  {
   "cell_type": "markdown",
   "metadata": {},
   "source": [
    "Входящие данные были проанализированы. Были удалены избыточные признаки (колонка с id скважины). Для решения задачи была использована модель линейной регрессии. Для 3-х анализируемых регионов были обучены модели, предсказывающие объем сырья, который можно добыть на скважинах. Также был проанализирован бюджет и расходы и определена точка безубыточности в объемах сырья 2 222.22 тыс. бар. Для нахождения распределения прибыли была применена техника Bootstrap с 1000 выборок. В результате 2-й регион был определен как наиболее выгодный и наименее рисковый. Данный регион с высокой долей вероятности принесет от 90 до 100 млрд. руб. при бюджете в 10 млрд. Он будет предложен руководству для разработки новых месторождений."
   ]
  }
 ],
 "metadata": {
  "kernelspec": {
   "display_name": "Python 3",
   "language": "python",
   "name": "python3"
  },
  "language_info": {
   "codemirror_mode": {
    "name": "ipython",
    "version": 3
   },
   "file_extension": ".py",
   "mimetype": "text/x-python",
   "name": "python",
   "nbconvert_exporter": "python",
   "pygments_lexer": "ipython3",
   "version": "3.7.7"
  }
 },
 "nbformat": 4,
 "nbformat_minor": 2
}
